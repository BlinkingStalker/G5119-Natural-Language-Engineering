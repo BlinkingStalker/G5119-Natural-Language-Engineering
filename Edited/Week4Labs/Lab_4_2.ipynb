{
 "cells": [
  {
   "cell_type": "markdown",
   "metadata": {},
   "source": [
    "# Week 4 (Part 2): Document Similarity\n",
    "\n",
    "In some applications, it may be difficult to define the classes that we want to use in classification ahead of time.  Or, classes might be made up various subclasses (which differ in terms of the vocabulary used).  In both of these cases (and others), it might be more appropriate to think about **document similarity**.  For a new document, can we find the most similar document in our collection?\n",
    "\n",
    "### Preliminaries"
   ]
  },
  {
   "cell_type": "code",
   "execution_count": 2,
   "metadata": {
    "pycharm": {
     "is_executing": false
    }
   },
   "outputs": [],
   "source": [
    "import math\n",
    "import sys\n",
    "from nltk import word_tokenize\n",
    "from Week4Labs.utils import filter_stopwords, stem, normalise\n",
    "sys.path.append(r'\\\\ad.susx.ac.uk\\ITS\\TeachingResources\\Departments\\Informatics\\LanguageEngineering\\resources')\n",
    "sys.path.append(r'/Users/juliewe/resources')\n",
    "\n",
    "from utils import * #utils has functions that we have worked on in previous weeks."
   ]
  },
  {
   "cell_type": "markdown",
   "metadata": {},
   "source": [
    "Now lets get a document collection.  Actually, lets get two collections and store them in a dictionary for easy access."
   ]
  },
  {
   "cell_type": "code",
   "execution_count": 3,
   "metadata": {
    "pycharm": {
     "is_executing": false
    }
   },
   "outputs": [
    {
     "name": "stdout",
     "text": [
      "Sussex NLTK root directory is \\\\ad.susx.ac.uk\\ITS\\TeachingResources\\Departments\\Informatics\\LanguageEngineering\\resources\n"
     ],
     "output_type": "stream"
    }
   ],
   "source": [
    "from sussex_nltk.corpus_readers import ReutersCorpusReader\n",
    "\n",
    "rcr = ReutersCorpusReader()    #Create a new reader\n",
    "\n",
    "collectionsize=10\n",
    "collections={\"finance\":[],\"sport\":[]}\n",
    "\n",
    "for key in collections.keys():\n",
    "    generator=rcr.category(key).raw()\n",
    "    while len(collections[key])<collectionsize:\n",
    "        collections[key].append(next(generator))\n",
    "        \n"
   ]
  },
  {
   "cell_type": "markdown",
   "metadata": {},
   "source": [
    "We now need a function which will tokenise documents and construct a *bag-of-words* document representation.  Combining some of the functionality we have been working over the past few weeks (which we have imported from utils.py), we could use something like this"
   ]
  },
  {
   "cell_type": "code",
   "execution_count": 4,
   "metadata": {
    "pycharm": {
     "is_executing": false
    }
   },
   "outputs": [],
   "source": [
    "def make_bow(somestring):\n",
    "    rep=word_tokenize(somestring)\n",
    "    rep=normalise(rep)\n",
    "    rep=stem(rep)\n",
    "    rep=filter_stopwords(rep)\n",
    "    dict_rep={}\n",
    "    for token in rep:\n",
    "        dict_rep[token]=dict_rep.get(token,0)+1\n",
    "    return(dict_rep)"
   ]
  },
  {
   "cell_type": "code",
   "execution_count": 5,
   "outputs": [
    {
     "name": "stdout",
     "text": [
      "{'navistar': 16, 'close': 4, 'foundri': 12, 'take': 2, 'charg': 2, 'intern': 2, 'indianapoli': 8, 'cast': 2, 'employ': 1, 'num': 10, 'peopl': 1, 'late': 2, 'local': 3, 'union': 6, 'member': 3, 'reject': 2, 'compani': 8, 'propos': 4, 'truck': 4, 'school': 2, 'bu': 1, 'manufactur': 1, 'said': 8, 'tuesday': 1, 'move': 1, 'follow': 1, 'ratif': 1, 'extens': 1, 'master': 1, 'contract': 2, 'percent': 2, 'vote': 1, 'unit': 1, 'auto': 1, 'worker': 4, 'uaw': 5, 'announc': 2, 'sunday': 1, 'left': 1, 'open': 3, 'possibl': 2, 'could': 3, 'remain': 1, 'seek': 2, 'agreement': 5, 'came': 1, 'back': 2, 'say': 3, 'like': 1, 'talk': 2, 'one': 1, 'time': 2, 'alway': 1, 'work': 4, 'toward': 1, 'chairman': 1, 'john': 1, 'horn': 1, 'told': 1, 'report': 1, 'lock': 1, 'door': 2, 'jack': 1, 'laskowski': 2, 'vice': 1, 'presid': 1, 'ad': 2, 'confer': 1, 'call': 1, 'held': 1, 'jointli': 1, 'think': 1, 'know': 1, 'long': 1, 'sure': 1, 'short': 1, 'period': 1, 'offici': 4, 'gave': 1, 'detail': 1, 'except': 1, 'basic': 1, 'wage': 2, 'benefit': 2, 'would': 1, 'chang': 3, 'employe': 3, 'springfield': 7, 'ohio': 1, 'plant': 3, 'ratifi': 1, 'pact': 1, 'allow': 2, 'make': 2, 'product': 3, 'reduc': 1, 'forc': 3, 'leadership': 1, 'stood': 1, 'recogn': 1, 'go': 2, 'carri': 1, 'messag': 1, 'membership': 1, 'opposit': 1, 'happen': 1, 'larri': 1, 'gigerich': 1, 'senior': 1, 'advis': 1, 'econom': 1, 'develop': 1, 'mayor': 1, 'stephen': 1, 'goldsmith': 1, 'citi': 1, 'encourag': 2, 'keep': 1, 'side': 1, 'ha': 1, 'annual': 1, 'payrol': 1, 'million': 1, 'exclud': 1, 'typic': 1, 'year': 2, 'old': 1, 'high': 1, 'graduat': 1, 'experi': 1, 'level': 1, 'higher': 1, 'competit': 3, 'howev': 1, 'longer': 1, 'stay': 1, 'without': 1, 'new': 2, 'labor': 2, 'particularli': 1, 'face': 1, 'futur': 1, 'latin': 1, 'america': 1, 'cost': 1, 'significantli': 1, 'lower': 1, 'engin': 1, 'plan': 2, 'unspecifi': 1, 'fourth': 1, 'quarter': 1, 'repres': 1, 'fort': 1, 'wayn': 1, 'ind': 1, 'melros': 1, 'park': 1, 'locat': 1, 'approv': 1, 'proceed': 1, 'previous': 1, 'focu': 1, 'assembl': 1, 'exclus': 1, 'chatham': 1, 'ontario': 1, 'focus': 1, 'also': 1, 'introduc': 1, 'build': 2, 'promis': 1, 'made': 1, 'give': 1, 'exact': 1, 'estim': 1, 'much': 1, 'depend': 1, 'upon': 1, 'success': 1, 'stock': 2, 'rose': 1, 'end': 1, 'york': 1, 'exchang': 1}\n{'teamster': 2, 'carey': 5, 'say': 1, 'trade': 9, 'next': 3, 'battleground': 2, 'presid': 2, 'ron': 1, 'said': 5, 'tuesday': 1, 'major': 1, 'legisl': 7, 'union': 3, 'ha': 2, 'tent': 2, 'settl': 1, 'strike': 3, 'unit': 1, 'parcel': 1, 'servic': 2, 'told': 1, 'news': 1, 'confer': 1, 'fight': 2, 'stop': 1, 'fast': 4, 'track': 4, 'would': 2, 'allow': 1, 'offici': 3, 'negoti': 4, 'expans': 1, 'north': 1, 'american': 3, 'free': 1, 'agreement': 5, 'nafta': 4, 'worker': 7, 'nation': 1, 'largest': 1, 'packag': 1, 'deliveri': 1, 'wa': 2, 'battl': 1, 'approach': 1, 'corpor': 1, 'two': 1, 'side': 1, 'reach': 1, 'settlement': 1, 'expect': 2, 'return': 1, 'job': 3, 'thi': 1, 'week': 1, 'part': 2, 'concept': 1, 'throw': 1, 'away': 1, 'exploit': 1, 'countri': 1, 'like': 1, 'mexico': 1, 'num': 3, 'day': 1, 'start': 1, 'get': 1, 'organ': 1, 'move': 1, 'one': 1, 'place': 2, 'anoth': 1, 'clinton': 1, 'send': 1, 'congress': 3, 'propos': 2, 'month': 1, 'launch': 1, 'campaign': 1, 'win': 2, 'passag': 1, 'end': 2, 'year': 2, 'give': 1, 'right': 1, 'amend': 1, 'agre': 2, 'vote': 1, 'onli': 1, 'labor': 2, 'view': 1, 'loser': 1, 'vow': 1, 'administr': 3, 'argu': 1, 'need': 1, 'open': 1, 'market': 1, 'export': 1, 'hope': 1, 'new': 1, 'author': 3, 'without': 1, 'sinc': 1, 'effort': 1, 'renew': 1, 'fail': 1, 'becuas': 1, 'republican': 2, 'control': 1, 'democrat': 2, 'could': 1, 'whether': 1, 'includ': 3, 'environment': 1, 'issu': 2, 'oppos': 1, 'support': 2, 'doe': 1, 'work': 1, 'develop': 1, 'compromis': 1, 'parti': 1}\n{'slovakia': 2, 'updat': 1, 'aug': 1, 'key': 1, 'interest': 1, 'rate': 4, 'discount': 1, 'lombard': 1, 'num': 248, 'last': 1, 'chang': 34, 'jan': 2, 'juli': 6, 'former': 1, 'indic': 2, 'quarterli': 1, 'gross': 2, 'domest': 1, 'product': 2, 'fy': 3, 'real': 4, 'pct': 33, 'absolut': 1, 'amount': 1, 'skk': 5, 'bln': 5, 'household': 3, 'demand': 3, 'state': 2, 'administr': 1, 'capit': 3, 'creation': 1, 'export': 2, 'import': 2, 'stock': 1, 'reserv': 3, 'invest': 5, 'index': 2, 'averag': 2, 'wage': 2, 'nomin': 2, 'monthli': 1, 'month': 2, 'pv': 1, 'yr': 1, 'ago': 1, 'slovak': 10, 'current': 3, 'account': 5, 'mln': 1, 'trade': 2, 'balanc': 8, 'servic': 2, 'incom': 1, 'transfer': 2, 'total': 2, 'direct': 1, 'abroad': 1, 'portfolio': 1, 'net': 2, 'financi': 1, 'fin': 1, 'error': 1, 'ommiss': 1, 'note': 2, 'figur': 3, 'million': 1, 'dollar': 1, 'subject': 2, 'revis': 2, 'central': 1, 'bank': 3, 'use': 1, 'follow': 1, 'exchang': 1, 'calcul': 1, 'consum': 1, 'inflat': 1, 'june': 7, 'foodstuff': 1, 'soft': 1, 'drink': 1, 'alcohol': 1, 'tobacco': 1, 'cloth': 1, 'shoe': 1, 'energi': 1, 'util': 1, 'fuel': 1, 'furnitur': 1, 'applianc': 1, 'mainten': 1, 'healthcar': 1, 'transport': 1, 'leisur': 1, 'cultur': 1, 'educ': 1, 'hotel': 1, 'cafe': 1, 'restaur': 1, 'variou': 1, 'good': 1, 'produc': 1, 'price': 1, 'may': 7, 'industri': 1, 'output': 2, 'construct': 1, 'retail': 1, 'sale': 1, 'indust': 1, 'dec': 3, 'chg': 1, 'unemploy': 1, 'april': 2, 'jobless': 1, 'percentag': 1, 'workforc': 1, 'foreign': 2, 'forex': 1, 'nb': 2, 'commerci': 1, 'entir': 1, 'sector': 1, 'money': 1, 'suppli': 1, 'mar': 1, 'overal': 1, 'target': 1, 'expans': 1, 'percent': 1, 'measur': 1, 'currenc': 2, 'time': 1, 'deposit': 3, 'save': 1, 'budget': 1, 'revenu': 1, 'expenditur': 1, 'bratislava': 1, 'newsroom': 1}\n{'ground': 2, 'broken': 1, 'nuclear': 6, 'project': 7, 'consortium': 3, 'capitalist': 1, 'nation': 2, 'broke': 1, 'tuesday': 3, 'landmark': 1, 'communist': 1, 'north': 6, 'korea': 8, 'washington': 2, 'seoul': 4, 'said': 9, 'key': 1, 'preserv': 1, 'peac': 2, 'peninsula': 4, 'puff': 1, 'pink': 1, 'green': 1, 'orang': 1, 'yellow': 1, 'smoke': 1, 'belch': 1, 'hillsid': 2, 'northeastern': 1, 'town': 1, 'kumho': 2, 'offici': 3, 'korean': 9, 'energi': 2, 'develop': 1, 'organis': 1, 'kedo': 5, 'trigger': 1, 'symbol': 2, 'blast': 2, 'intern': 4, 'led': 1, 'unit': 2, 'state': 4, 'south': 4, 'japan': 2, 'respons': 1, 'financ': 1, 'construct': 1, 'two': 3, 'reactor': 7, 'estim': 1, 'cost': 1, 'num': 9, 'billion': 2, 'deliv': 1, 'return': 1, 'pyongyang': 3, 'promis': 4, 'freez': 1, 'eventu': 1, 'dismantl': 2, 'suspect': 3, 'atom': 2, 'weapon': 1, 'programm': 1, 'wit': 2, 'diplomat': 1, 'nine': 1, 'european': 2, 'union': 2, 'put': 2, 'white': 1, 'glove': 1, 'releas': 1, 'barrag': 1, 'confetti': 1, 'streamer': 1, 'firework': 1, 'cascad': 1, 'among': 1, 'peopl': 1, 'ceremoni': 4, 'also': 1, 'includ': 2, 'journalist': 1, 'contractor': 1, 'stephen': 1, 'bosworth': 3, 'execut': 1, 'director': 2, 'polit': 1, 'import': 1, 'becaus': 1, 'would': 2, 'help': 3, 'establish': 1, 'credibl': 1, 'thi': 1, 'mark': 1, 'fulfil': 1, 'made': 1, 'year': 2, 'ago': 1, 'republ': 1, 'start': 1, 'awar': 1, 'wa': 3, 'initi': 1, 'ensur': 1, 'secur': 3, 'denuclearis': 1, 'chang': 2, 'chief': 1, 'repres': 1, 'product': 1, 'concert': 1, 'effort': 1, 'realis': 1, 'ideal': 1, 'form': 1, 'tokyo': 1, 'agreement': 2, 'later': 1, 'expand': 1, 'australia': 1, 'canada': 1, 'chile': 1, 'finland': 1, 'indonesia': 1, 'new': 2, 'zealand': 1, 'serv': 1, 'catalyst': 1, 'reconcili': 1, 'cooper': 2, 'reclus': 1, 'pay': 1, 'brought': 1, 'tonn': 1, 'equip': 1, 'roar': 1, 'life': 1, 'went': 1, 'told': 1, 'report': 1, 'bargain': 1, 'view': 1, 'commun': 1, 'gain': 1, 'west': 1, 'enough': 1, 'plutonium': 3, 'build': 2, 'one': 1, 'bomb': 2, 'could': 2, 'tri': 1, 'sell': 1, 'terrorist': 1, 'group': 1, 'earn': 1, 'hard': 1, 'currenc': 1, 'need': 1, 'rescu': 1, 'impoverish': 1, 'econom': 1, 'crisi': 1, 'befor': 2, 'core': 1, 'built': 1, 'next': 1, 'seven': 1, 'agenc': 1, 'watchdog': 1, 'must': 1, 'satisfi': 1, 'ha': 2, 'come': 2, 'clean': 2, 'get': 2, 'gut': 1, 'joel': 1, 'deputi': 1, 'depart': 1, 'offic': 1, 'affair': 1, 'concret': 1, 'ad': 1, 'sign': 1, 'geneva': 1, 'octob': 1, 'pledg': 1, 'allow': 1, 'iaea': 1, 'conduct': 1, 'special': 1, 'inspect': 1, 'facil': 1, 'determin': 1, 'hidden': 1, 'ani': 1, 'use': 1, 'make': 1, 'western': 1, 'past': 1, 'might': 1, 'secretli': 1, 'kilo': 1, 'fissil': 1, 'materi': 1, 'experiment': 1, 'sinc': 2, 'agre': 1, 'hope': 1, 'histor': 1, 'lead': 1, 'lock': 1, 'cold': 1, 'war': 2, 'confront': 1}\n",
      "{'new': 3, 'issu': 2, 'municip': 3, 'calendar': 2, 'updat': 1, 'follow': 1, 'ad': 1, 'sale': 5, 'amount': 3, 'issuer': 2, 'secur': 1, 'date': 2, 'omit': 4, 'num': 27, 'watertown': 1, 'mass': 3, 'go': 8, 'cobb': 1, 'cti': 6, 'recreat': 1, 'auth': 3, 'rev': 1, 'frenship': 2, 'isd': 4, 'texa': 8, 'three': 1, 'villag': 1, 'csd': 1, 'kennedal': 1, 'sulphur': 1, 'spring': 1, 'lubbock': 1, 'westland': 1, 'oregon': 1, 'na': 1, 'sr': 1, 'manag': 1, 'granburi': 1, 'first': 2, 'southwest': 1, 'wk': 13, 'orang': 1, 'albani': 1, 'hous': 1, 'agenc': 2, 'john': 1, 'nuveen': 1, 'massachusett': 1, 'ifa': 1, 'state': 1, 'street': 1, 'california': 1, 'hlth': 2, 'fac': 2, 'fin': 1, 'morgan': 2, 'stanley': 2, 'baltimor': 1, 'md': 1, 'painewebb': 1, 'spark': 1, 'redev': 1, 'miller': 1, 'schroeder': 1, 'modesto': 1, 'woodland': 1, 'hill': 1, 'sch': 1, 'dist': 1, 'pnc': 1, 'hampshir': 1, 'educ': 1, 'herbert': 1, 'sim': 1, 'hancock': 2, 'ohio': 2, 'banc': 2, 'one': 2, 'greater': 1, 'orlando': 1, 'aviat': 1, 'chase': 1, 'securitieswk': 1, 'yakima': 1, 'dain': 1, 'bosworth': 1, 'competit': 1, 'note': 3, 'worcest': 2, 'ban': 2, 'lot': 2, 'b': 1, 'denton': 1, 'tax': 1, 'negoti': 1, 'inform': 1, 'group': 1}\n{'senat': 9, 'revers': 1, 'declin': 2, 'foreign': 8, 'aid': 9, 'budget': 2, 'thursday': 1, 'boost': 1, 'num': 17, 'billion': 5, 'next': 1, 'year': 4, 'use': 3, 'annual': 2, 'fund': 4, 'send': 2, 'messag': 1, 'domest': 1, 'polici': 1, 'issu': 1, 'russia': 3, 'egypt': 3, 'cambodia': 2, 'countri': 5, 'approv': 2, 'packag': 1, 'fiscal': 1, 'start': 1, 'strong': 2, 'bipartisan': 1, 'vote': 3, 'increas': 2, 'come': 1, 'percent': 2, 'past': 1, 'decad': 1, 'still': 1, 'amount': 1, 'less': 2, 'feder': 1, 'spend': 1, 'bill': 3, 'also': 3, 'provid': 1, 'request': 2, 'administr': 2, 'bank': 1, 'loan': 1, 'compani': 1, 'american': 1, 'assist': 3, 'gear': 1, 'behaviour': 1, 'oper': 2, 'subcommitte': 1, 'chairman': 1, 'mitch': 1, 'mcconnel': 3, 'told': 1, 'argu': 1, 'varieti': 1, 'provis': 1, 'said': 3, 'would': 3, 'goal': 2, 'kentucki': 1, 'republican': 1, 'state': 3, 'hi': 2, 'support': 1, 'construct': 1, 'altern': 1, 'militari': 1, 'abroad': 1, 'warn': 1, 'recipi': 1, 'panel': 1, 'review': 1, 'whether': 1, 'money': 1, 'wa': 4, 'help': 2, 'meet': 1, 'entitl': 1, 'someth': 1, 'get': 1, 'automat': 1, 'thi': 1, 'becaus': 1, 'got': 1, 'last': 1, 'senior': 1, 'democrat': 2, 'relat': 1, 'committe': 1, 'joe': 1, 'biden': 1, 'delawar': 1, 'prais': 1, 'washington': 1, 'better': 1, 'democraci': 1, 'free': 1, 'trade': 1, 'human': 1, 'right': 1, 'abraod': 1, 'million': 6, 'presid': 3, 'clinton': 2, 'dure': 1, 'debat': 1, 'amend': 1, 'cut': 1, 'propos': 1, 'restrict': 1, 'religi': 1, 'freedom': 1, 'becam': 1, 'law': 1, 'doe': 1, 'freeli': 1, 'fairli': 1, 'elect': 1, 'govern': 2, 'conting': 1, 'moscow': 1, 'halt': 1, 'iran': 1, 'nuclear': 2, 'programm': 1, 'reject': 1, 'plan': 1, 'end': 2, 'certif': 2, 'process': 1, 'deem': 1, 'fight': 1, 'drug': 1, 'thu': 1, 'qualifi': 1, 'show': 1, 'continu': 1, 'opposit': 1, 'castro': 1, 'refus': 1, 'allow': 1, 'month': 2, 'famili': 1, 'member': 1, 'cuba': 1, 'respons': 1, 'north': 1, 'korea': 1, 'fire': 1, 'south': 1, 'korean': 2, 'troop': 1, 'juli': 1, 'hold': 1, 'back': 1, 'econom': 3, 'develop': 1, 'organis': 1, 'build': 1, 'two': 1, 'reactor': 1, 'certifi': 1, 'armistic': 1, 'violat': 1, 'occur': 1, 'nine': 1, 'usual': 1, 'israel': 2, 'receiv': 1, 'bulk': 1, 'given': 2, 'agre': 2, 'renew': 1, 'effort': 1, 'peac': 1, 'middl': 1, 'east': 1, 'set': 2, 'asid': 1, 'cairo': 1, 'includ': 1, 'jordan': 1, 'eastern': 1, 'europ': 1, 'baltic': 1, 'former': 1, 'soviet': 1, 'union': 1, 'half': 1, 'ukrain': 1, 'depend': 1, 'white': 1, 'hous': 1, 'regard': 1, 'reform': 1, 'work': 1, 'corrupt': 1, 'go': 1, 'republ': 1, 'congo': 1, 'laurent': 1, 'kabila': 1, 'cooper': 1, 'intern': 1, 'investig': 1, 'alleg': 1, 'mass': 1, 'kill': 1, 'hutu': 1}\n{'reduc': 2, 'tariff': 5, 'caribbean': 9, 'senat': 6, 'unit': 1, 'state': 1, 'import': 2, 'countri': 3, 'order': 1, 'offset': 1, 'unfair': 1, 'competit': 1, 'nafta': 3, 'nation': 2, 'particularli': 1, 'mexico': 4, 'two': 1, 'said': 7, 'thursday': 1, 'north': 1, 'american': 2, 'free': 1, 'trade': 5, 'agreement': 2, 'ha': 2, 'unfairli': 1, 'impact': 1, 'cbi': 1, 'basin': 2, 'initi': 1, 'compani': 2, 'invest': 2, 'arizona': 1, 'republican': 1, 'john': 1, 'mccain': 2, 'florida': 1, 'democrat': 1, 'bob': 1, 'graham': 2, 'letter': 2, 'financ': 1, 'committe': 1, 'becaus': 3, 'good': 2, 'becom': 1, 'less': 1, 'expens': 1, 'compar': 1, 'product': 1, 'higher': 1, 'also': 1, 'divert': 1, 'manufactur': 1, 'oper': 1, 'away': 1, 'toward': 1, 'accord': 1, 'consid': 1, 'reloc': 1, 'restrict': 1, 'job': 1, 'depend': 1, 'high': 1, 'coupl': 1, 'world': 1, 'organ': 1, 'wto': 2, 'recent': 1, 'banana': 2, 'rule': 1, 'might': 1, 'encourag': 1, 'illicit': 1, 'drug': 1, 'traffick': 1, 'may': 1, 'struck': 1, 'preferenti': 1, 'export': 1, 'european': 1, 'union': 1, 'hous': 1, 'repres': 1, 'includ': 1, 'reduct': 1, 'propos': 1, 'budget': 1, 'reconcili': 1, 'bill': 1, 'address': 1, 'matter': 1, 'washington': 1, 'newsdesk': 1}\n{'central': 2, 'squar': 2, 'csd': 2, 'roosevelt': 2, 'cross': 1, 'said': 1, 'num': 3, 'million': 1, 'school': 1, 'district': 1, 'bond': 1, 'net': 1, 'interest': 1, 'cost': 1, 'percent': 1}\n{'sebastopol': 2, 'uesd': 2, 'painewebb': 2, 'said': 1, 'num': 3, 'million': 1, 'gener': 1, 'obligaiton': 1, 'bond': 1, 'elect': 1, 'seri': 1, 'b': 1, 'true': 1, 'interest': 1, 'cost': 1, 'percent': 1}\n{'usda': 1, 'chief': 1, 'urg': 1, 'hous': 5, 'keep': 1, 'tobacco': 8, 'insur': 2, 'agricultur': 4, 'secretari': 1, 'dan': 1, 'glickman': 2, 'said': 4, 'thursday': 3, 'oppos': 1, 'effort': 1, 'end': 1, 'feder': 2, 'crop': 2, 'protect': 1, 'grower': 1, 'follow': 1, 'speech': 1, 'told': 1, 'report': 1, 'ha': 1, 'sent': 1, 'letter': 1, 'congress': 2, 'regist': 1, 'hi': 1, 'concern': 1, 'lawmak': 1, 'expect': 1, 'vote': 2, 'issu': 1, 'sometim': 1, 'friday': 1, 'dure': 2, 'debat': 1, 'fiscal': 1, 'num': 7, 'appropri': 2, 'bill': 3, 'amend': 1, 'wa': 1, 'defeat': 1, 'voic': 1, 'committe': 1, 'work': 1, 'spend': 2, 'howev': 2, 'provis': 1, 'may': 1, 'stand': 1, 'better': 1, 'chanc': 1, 'floor': 1, 'feel': 1, 'member': 2, 'want': 2, 'put': 1, 'marker': 1, 'republican': 2, 'aid': 2, 'last': 1, 'month': 1, 'group': 1, 'state': 2, 'attorney': 1, 'gener': 1, 'reach': 1, 'billion': 1, 'settlement': 2, 'compani': 2, 'pact': 1, 'face': 1, 'uncertain': 1, 'fate': 1, 'mani': 1, 'demonstr': 1, 'tough': 1, 'stanc': 1, 'oppon': 1, 'argu': 1, 'measur': 1, 'would': 2, 'noth': 1, 'curb': 1, 'smoke': 2, 'injur': 1, 'instead': 1, 'fall': 1, 'hardest': 1, 'farmer': 1, 'invest': 1, 'heavili': 1, 'product': 1, 'often': 1, 'altern': 1, 'meanwhil': 1, 'pend': 1, 'doe': 1, 'contain': 1, 'million': 2, 'enforc': 2, 'food': 1, 'drug': 1, 'administr': 2, 'regul': 1, 'less': 1, 'clinton': 1, 'request': 1, 'earlier': 1, 'thi': 1, 'week': 1, 'senat': 1, 'subcommitte': 1, 'recommend': 1, 'govern': 1, 'fund': 2, 'initi': 1, 'panel': 1, 'chairman': 1, 'thad': 1, 'cochran': 1, 'mississippi': 1, 'activ': 1, 'come': 1, 'propos': 1, 'washington': 1, 'commod': 1, 'desk': 1}\n{'rica': 3, 'appoint': 1, 'new': 2, 'coach': 4, 'costa': 2, 'name': 1, 'spaniard': 1, 'juan': 1, 'lui': 1, 'hernandez': 3, 'nation': 1, 'soccer': 1, 'tuesday': 1, 'current': 1, 'charg': 1, 'first': 1, 'divis': 1, 'cartagin': 1, 'becam': 1, 'team': 4, 'third': 1, 'thi': 1, 'year': 1, 'follow': 1, 'dismiss': 2, 'argentina': 1, 'horacio': 1, 'cordero': 2, 'wa': 2, 'sack': 1, 'last': 3, 'thursday': 1, 'wake': 1, 'home': 1, 'draw': 1, 'el': 2, 'salvador': 2, 'world': 2, 'cup': 2, 'qualifi': 3, 'brazil': 1, 'valdeir': 1, 'vieira': 1, 'guid': 1, 'final': 3, 'stage': 2, 'concacaf': 1, 'tournament': 1, 'januari': 1, 'refus': 1, 'drop': 1, 'claim': 1, 'unpaid': 1, 'wage': 1, 'local': 1, 'club': 1, 'previous': 1, 'blame': 1, 'indisciplin': 1, 'disappoint': 1, 'sequenc': 1, 'recent': 1, 'result': 1, 'promis': 1, 'impos': 1, 'tougher': 1, 'rule': 1, 'squad': 1, 'reach': 1, 'num': 3, 'onli': 2, 'appear': 1, 'second': 1, 'competit': 1, 'eight': 1, 'point': 3, 'six': 1, 'match': 2, 'three': 3, 'four': 1, 'game': 1, 'away': 1, 'top': 1, 'group': 1, 'also': 1, 'includ': 1, 'mexico': 2, 'unit': 1, 'state': 1, 'canada': 1, 'jamaica': 1, 'go': 1, 'franc': 1, 'lead': 1, 'five': 2, 'separ': 1}\n{'hors': 1, 'win': 3, 'intern': 2, 'stake': 3, 'japan': 1, 'world': 1, 'cup': 2, 'winner': 4, 'singspiel': 4, 'lift': 1, 'anoth': 3, 'major': 1, 'titl': 1, 'tuesday': 2, 'carri': 1, 'first': 1, 'prize': 1, 'jockey': 2, 'franki': 1, 'dettori': 2, 'sent': 2, 'lead': 1, 'three': 1, 'furlong': 1, 'num': 2, 'metr': 2, 'go': 1, 'held': 1, 'readili': 1, 'one': 1, 'half': 2, 'length': 2, 'irish': 2, 'derbi': 2, 'desert': 2, 'king': 2, 'mount': 1, 'mick': 1, 'kinan': 1, 'third': 2, 'place': 1, 'back': 2, 'wa': 7, 'epsom': 1, 'benni': 2, 'dip': 2, 'ridden': 2, 'willi': 1, 'ryan': 1, 'europ': 2, 'top': 1, 'filli': 2, 'bosra': 4, 'sham': 4, 'partner': 1, 'pat': 1, 'edderi': 1, 'trail': 1, 'disappoint': 2, 'fourth': 2, 'last': 3, 'favourit': 2, 'flop': 1, 'second': 1, 'race': 4, 'success': 1, 'finish': 1, 'onli': 1, 'time': 1, 'big': 2, 'ascot': 1, 'allow': 1, 'backer': 1, 'start': 1, 'remark': 1, 'gener': 1, 'price': 1, 'colt': 1, 'bounc': 1, 'hi': 4, 'veri': 1, 'best': 3, 'form': 1, 'head': 1, 'breeder': 1, 'later': 1, 'year': 1, 'run': 2, 'final': 2, 'trainer': 2, 'michael': 1, 'stout': 1, 'said': 3, 'alway': 1, 'travel': 1, 'well': 1, 'anxiou': 1, 'moment': 1, 'superbl': 1, 'profession': 1, 'display': 1, 'delight': 1, 'produc': 2, 'usual': 1, 'fli': 1, 'dismount': 1, 'paddock': 1, 'victori': 1, 'declar': 1, 'ever': 3, 'henri': 1, 'cecil': 2, 'lost': 1, 'shoe': 1, 'hope': 1, 'reason': 1, 'replac': 1, 'stabl': 1, 'kieren': 1, 'fallon': 1, 'defeat': 1, 'eclips': 1, 'sandown': 1, 'park': 1, 'month': 1, 'stuck': 1, 'earlier': 1, 'assert': 1, 'train': 1, 'sure': 1, 'day': 1, 'made': 1, 'earli': 1, 'noth': 1, 'left': 1, 'offer': 1, 'took': 1, 'command': 1, 'raider': 1, 'strongest': 1, 'challeng': 1, 'without': 1, 'realli': 1, 'threaten': 1}\n{'championship': 2, 'result': 2, 'european': 1, 'soccer': 1, 'qualifi': 1, 'tuesday': 1, 'group': 3, 'four': 2, 'minsk': 1, 'belaru': 3, 'num': 92, 'sweden': 3, 'halftim': 1, 'scorer': 3, 'walstadt': 1, 'attend': 3, 'haapsalu': 1, 'estonia': 3, 'austria': 3, 'ewald': 1, 'brenner': 1, 'stand': 2, 'p': 2, 'w': 2, 'l': 2, 'f': 2, 'pt': 2, 'scotland': 2, 'latvia': 2, 'next': 2, 'match': 2, 'sept': 2, 'v': 4, 'five': 1, 'sofia': 1, 'bulgaria': 3, 'israel': 3, 'assen': 1, 'nikolov': 1, 'alexand': 1, 'alexandrov': 1, 'hristo': 1, 'yovov': 1, 'nir': 1, 'sivilia': 1, 'russia': 1, 'cypru': 2, 'luxembourg': 2}\n{'win': 5, 'world': 2, 'titl': 3, 'michael': 1, 'doohan': 4, 'storm': 1, 'hi': 4, 'fourth': 1, 'success': 1, 'championship': 1, 'sunday': 1, 'british': 2, 'motorcycl': 1, 'grand': 1, 'prix': 1, 'meant': 1, 'australian': 2, 'rode': 1, 'honda': 2, 'straight': 1, 'histori': 1, 'book': 1, 'onli': 1, 'third': 3, 'rider': 1, 'four': 2, 'consecut': 1, 'mike': 1, 'hailwood': 1, 'giacomo': 1, 'agostini': 2, 'top': 1, 'seven': 1, 'finish': 2, 'donington': 1, 'would': 1, 'enough': 1, 'retain': 1, 'num': 8, 'nine': 1, 'race': 3, 'prior': 1, 'event': 1, 'wa': 3, 'mood': 1, 'take': 1, 'thing': 1, 'easi': 1, 'made': 1, 'poor': 1, 'start': 1, 'pole': 1, 'went': 1, 'first': 1, 'corner': 1, 'fifth': 2, 'place': 1, 'lap': 3, 'lead': 2, 'look': 1, 'set': 1, 'cruis': 1, 'victori': 1, 'team': 1, 'mate': 1, 'tadayuki': 1, 'okada': 3, 'press': 1, 'hard': 1, 'slip': 1, 'past': 1, 'eventu': 2, 'retook': 1, 'grimli': 1, 'held': 1, 'end': 1, 'took': 1, 'chequer': 1, 'flag': 1, 'metr': 1, 'ahead': 1, 'left': 2, 'fist': 1, 'punch': 1, 'air': 1, 'brazil': 1, 'alex': 1, 'barro': 1, 'anoth': 1, 'close': 1, 'fight': 1, 'italian': 1, 'luca': 1, 'cadalora': 1, 'behind': 1, 'nobuatsu': 1, 'aoki': 2, 'japan': 1, 'ha': 3, 'smash': 1, 'record': 1, 'one': 1, 'season': 1, 'statist': 1, 'stood': 1, 'quarter': 1, 'centuri': 1, 'point': 1}\n{'first': 3, 'prais': 1, 'johnson': 6, 'world': 6, 'record': 4, 'holder': 1, 'colin': 3, 'jackson': 5, 'wa': 4, 'congratul': 1, 'allen': 3, 'american': 1, 'beat': 1, 'num': 4, 'metr': 1, 'hurdl': 2, 'titl': 2, 'thursday': 2, 'ran': 2, 'time': 2, 'expect': 1, 'enough': 1, 'fantast': 2, 'said': 4, 'took': 1, 'silver': 1, 'medal': 1, 'second': 4, 'mutual': 1, 'admir': 1, 'one': 3, 'anoth': 1, 'continu': 1, 'success': 1, 'outsid': 1, 'equal': 1, 'complimentari': 1, 'briton': 1, 'made': 1, 'smallest': 1, 'littl': 2, 'mistak': 2, 'tonight': 1, 'would': 1, 'shot': 1, 'right': 1, 'starter': 1, 'get': 3, 'even': 1, 'better': 1, 'start': 1, 'befor': 1, 'ha': 2, 'run': 3, 'well': 2, 'knew': 1, 'could': 3, 'make': 1, 'ani': 1, 'win': 2, 'kind': 1, 'play': 2, 'safe': 2, 'bit': 1, 'stay': 1, 'front': 1, 'number': 1, 'inspir': 1, 'biblic': 1, 'messag': 1, 'hi': 3, 'train': 1, 'partner': 1, 'melissa': 1, 'morrison': 2, 'wrote': 1, 'sticki': 1, 'label': 1, 'place': 1, 'singlet': 1, 'abov': 1, 'heart': 1, 'everyth': 1, 'give': 1, 'strength': 2, 'certainli': 1, 'need': 1, 'mind': 1, 'bodi': 1, 'especi': 1, 'endur': 1, 'miser': 1, 'coupl': 1, 'year': 1, 'hamper': 1, 'injuri': 1, 'outstandingli': 1, 'earlier': 1, 'round': 1, 'wonder': 1, 'back': 2, 'veri': 1, 'import': 1, 'still': 1, 'abl': 2, 'show': 1, 'best': 1, 'think': 1, 'thi': 1, 'season': 1, 'also': 1, 'indic': 1, 'fall': 1, 'next': 1, 'week': 1, 'onc': 1, 'circuit': 1, 'take': 1, 'chanc': 1, 'wo': 1}\n{'nba': 2, 'jordan': 6, 'remain': 2, 'sacramento': 4, 'king': 5, 'head': 2, 'coach': 4, 'eddi': 1, 'serv': 3, 'interim': 1, 'final': 2, 'num': 7, 'game': 4, 'season': 4, 'thursday': 1, 'wa': 3, 'given': 1, 'contract': 1, 'job': 1, 'vice': 1, 'presid': 1, 'basketbal': 1, 'oper': 1, 'geoff': 1, 'petri': 2, 'elect': 1, 'retain': 1, 'even': 1, 'though': 1, 'six': 1, 'follow': 1, 'fire': 2, 'garri': 1, 'jean': 2, 'march': 1, 'fail': 1, 'make': 1, 'playoff': 2, 'ha': 2, 'front': 1, 'line': 1, 'proven': 1, 'capabl': 1, 'gun': 1, 'said': 2, 'assist': 2, 'last': 2, 'five': 2, 'year': 2, 'befor': 2, 'promot': 1, 'sampl': 1, 'direct': 1, 'thi': 1, 'club': 1, 'take': 1, 'whose': 1, 'team': 1, 'eight': 1, 'contest': 1, 'play': 2, 'unselfishli': 1, 'enthusiasm': 1, 'intellig': 1, 'career': 1, 'cleveland': 1, 'new': 1, 'jersey': 1, 'lo': 1, 'angel': 1, 'laker': 2, 'portland': 1, 'member': 1, 'championship': 1, 'squad': 1, 'also': 1, 'colleg': 2, 'level': 1, 'rutger': 1, 'old': 1, 'dominion': 1, 'boston': 1, 'join': 1, 'guid': 1, 'first': 1, 'berth': 1, 'ago': 1, 'never': 1, 'finish': 1, 'abov': 1}\n{'face': 2, 'sanction': 1, 'adida': 7, 'lawsuit': 5, 'new': 2, 'york': 2, 'yanke': 5, 'owner': 8, 'georg': 2, 'steinbrenn': 6, 'could': 1, 'hi': 6, 'third': 1, 'suspens': 1, 'major': 5, 'leagu': 6, 'basebal': 11, 'file': 2, 'object': 1, 'team': 4, 'num': 4, 'million': 1, 'market': 5, 'deal': 7, 'thi': 1, 'time': 2, 'ha': 6, 'realli': 1, 'gone': 1, 'far': 1, 'unidentifi': 1, 'offici': 2, 'told': 1, 'daili': 1, 'news': 1, 'go': 1, 'get': 1, 'suspend': 1, 'su': 2, 'defi': 1, 'agenc': 2, 'agreement': 4, 'made': 1, 'pariah': 1, 'within': 1, 'take': 1, 'page': 1, 'jerri': 1, 'jone': 1, 'dalla': 1, 'cowboy': 1, 'enrag': 1, 'nfl': 1, 'fellow': 3, 'cut': 1, 'dollar': 1, 'polici': 1, 'sport': 2, 'apparel': 1, 'compani': 1, 'announc': 1, 'march': 1, 'drew': 1, 'immedi': 1, 'protest': 1, 'ground': 2, 'undermin': 1, 'abil': 1, 'sign': 1, 'nation': 1, 'basi': 1, 'claim': 1, 'conspir': 1, 'prevent': 1, 'implement': 1, 'lucr': 1, 'tuesday': 2, 'district': 1, 'court': 1, 'tampa': 1, 'challeng': 2, 'antitrust': 1, 'exempt': 1, 'even': 1, 'though': 1, 'part': 1, 'prohibit': 1, 'commission': 3, 'offic': 1, 'thursday': 1, 'newspap': 1, 'account': 1, 'said': 1, 'act': 1, 'milwauke': 1, 'brewer': 1, 'bud': 1, 'selig': 1, 'wa': 1, 'outrag': 1, 'seek': 1, 'injunct': 1, 'tripl': 1, 'damag': 1, 'determin': 1, 'juri': 1, 'current': 2, 'member': 1, 'execut': 3, 'council': 4, 'rule': 1, 'sinc': 1, 'forc': 1, 'last': 1, 'real': 1, 'fay': 1, 'vincent': 1, 'veri': 1, 'least': 1, 'like': 1, 'thrown': 1, 'result': 1, 'legal': 1, 'schedul': 1, 'meet': 1, 'chicago': 1, 'statu': 1, 'discuss': 1, 'order': 1, 'stop': 2, 'sell': 1, 'logo': 2, 'crew': 1, 'wear': 1, 'work': 1, 'uniform': 3, 'stipul': 1, 'properti': 1, 'divis': 1, 'exclus': 1, 'broker': 1, 'involv': 2, 'cap': 1, 'merchandis': 1, 'club': 1, 'would': 2, 'share': 1, 'equal': 1, 'proce': 1, 'suit': 1, 'charg': 1, 'collabor': 1, 'merchand': 1, 'cartel': 1, 'favour': 1, 'weak': 1, 'russel': 2, 'athlet': 1, 'right': 1, 'manufactur': 1, 'howev': 1, 'valu': 1, 'diminish': 1, 'without': 1, 'one': 1, 'recognis': 1, 'sever': 1, 'brass': 1, 'year': 1, 'twice': 1, 'ban': 1, 'onc': 1, 'make': 1, 'illeg': 1, 'campaign': 1, 'contribut': 1, 'presid': 1, 'richard': 1, 'nixon': 1, 'known': 1, 'gambler': 1}\n{'homer': 11, 'ninth': 5, 'lift': 1, 'met': 2, 'past': 1, 'houston': 2, 'pinch': 3, 'hitter': 2, 'butch': 1, 'huskey': 4, 'went': 3, 'plate': 1, 'bunt': 2, 'instead': 1, 'smack': 1, 'snap': 1, 'tie': 1, 'give': 1, 'new': 2, 'york': 2, 'win': 3, 'astro': 2, 'wednesday': 1, 'wa': 5, 'first': 8, 'time': 3, 'ever': 1, 'hit': 20, 'said': 2, 'situat': 1, 'game': 9, 'plan': 1, 'chang': 1, 'step': 1, 'box': 1, 'saw': 1, 'ball': 1, 'made': 1, 'good': 1, 'swing': 2, 'armando': 1, 'reynoso': 2, 'allow': 6, 'four': 5, 'eight': 6, 'inning': 12, 'stop': 1, 'string': 1, 'three': 6, 'straight': 1, 'walk': 4, 'two': 11, 'struck': 1, 'seven': 3, 'retir': 1, 'final': 1, 'batter': 1, 'face': 1, 'befor': 1, 'bat': 1, 'manni': 1, 'alexand': 1, 'open': 1, 'infield': 2, 'tom': 1, 'martin': 4, 'pitch': 5, 'field': 1, 'wall': 1, 'lead': 2, 'think': 1, 'would': 1, 'guy': 1, 'big': 1, 'strong': 1, 'get': 1, 'happen': 1, 'carl': 1, 'everett': 2, 'follow': 1, 'sacrif': 1, 'second': 4, 'stole': 1, 'third': 2, 'score': 4, 'john': 3, 'olerud': 1, 'sacrific': 1, 'fli': 1, 'run': 11, 'work': 3, 'num': 15, 'scoreless': 1, 'hi': 7, 'starter': 2, 'shane': 1, 'reynold': 1, 'one': 3, 'franco': 1, 'perfect': 1, 'eighth': 3, 'save': 3, 'nine': 1, 'opportun': 1, 'seal': 1, 'drop': 2, 'onli': 2, 'mistak': 1, 'came': 1, 'jeff': 1, 'bagwel': 1, 'fenc': 1, 'nth': 5, 'san': 2, 'francisco': 1, 'mike': 3, 'lans': 2, 'twice': 1, 'sixth': 2, 'montreal': 2, 'expo': 3, 'pound': 2, 'way': 1, 'victori': 2, 'giant': 1, 'absorb': 1, 'worst': 1, 'beat': 2, 'sinc': 3, 'move': 1, 'west': 1, 'year': 1, 'ago': 1, 'half': 1, 'joe': 2, 'roa': 1, 'jim': 1, 'pool': 1, 'julian': 1, 'tavarez': 1, 'shatter': 1, 'club': 1, 'record': 1, 'fell': 2, 'shi': 1, 'team': 1, 'mark': 2, 'henri': 1, 'rodriguez': 1, 'grand': 2, 'slam': 2, 'rondel': 1, 'white': 1, 'belt': 1, 'solo': 2, 'shot': 2, 'total': 1, 'base': 2, 'five': 9, 'rbi': 5, 'becam': 1, 'fourth': 1, 'andr': 2, 'dawson': 1, 'chicago': 3, 'colorado': 2, 'jose': 1, 'guillen': 2, 'jermain': 1, 'allensworth': 1, 'drove': 1, 'pittsburgh': 2, 'pirat': 2, 'launch': 1, 'home': 3, 'rout': 1, 'rocki': 2, 'al': 1, 'jason': 1, 'kendal': 1, 'kevin': 1, 'elster': 1, 'randa': 1, 'last': 4, 'marc': 1, 'wilkin': 1, 'strikeout': 2, 'relief': 1, 'galarraga': 1, 'career': 1, 'thompson': 1, 'tag': 1, 'florida': 1, 'baseman': 1, 'bobbi': 1, 'bonilla': 1, 'error': 1, 'top': 1, 'toni': 1, 'graffanino': 1, 'atlanta': 1, 'brave': 1, 'edg': 1, 'marlin': 1, 'paul': 1, 'byrd': 1, 'strike': 1, 'bielecki': 1, 'jam': 1, 'bottom': 1, 'notch': 1, 'reliev': 1, 'jay': 1, 'powel': 1, 'took': 1, 'loss': 1, 'st': 1, 'loui': 1, 'ray': 1, 'lankford': 2, 'gari': 1, 'gaetti': 1, 'seventh': 1, 'cardin': 4, 'philadelphia': 1, 'philli': 1, 'set': 1, 'match': 1, 'season': 1, 'high': 1, 'categori': 1, 'ron': 1, 'gant': 2, 'also': 1, 'bang': 1, 'least': 1, 'lo': 1, 'angel': 1, 'ramon': 1, 'martinez': 2, 'dodger': 2, 'cincinnati': 2, 'red': 1, 'poor': 1, 'start': 1, 'scatter': 1, 'six': 2, 'todd': 2, 'worrel': 1, 'threw': 1, 'chanc': 1, 'hollandsworth': 1, 'singl': 1, 'greg': 1, 'gagn': 1, 'ad': 2, 'doubl': 1, 'pete': 1, 'schourek': 1, 'person': 1, 'streak': 1, 'come': 1, 'end': 1, 'reggi': 1, 'sander': 1, 'diego': 1, 'flaherti': 1, 'includ': 1, 'padr': 2, 'cub': 1, 'steve': 1, 'finley': 1, 'return': 1, 'stint': 1, 'disabl': 1, 'list': 1, 'tuesday': 1, 'hubbard': 1, 'current': 1, 'road': 1, 'trip': 1}\n{'leagu': 4, 'stand': 2, 'wednesday': 2, 'game': 3, 'major': 1, 'basebal': 1, 'team': 1, 'play': 1, 'tabul': 1, 'win': 2, 'loss': 1, 'percentag': 1, 'behind': 1, 'first': 1, 'american': 1, 'east': 2, 'divis': 6, 'w': 6, 'l': 6, 'pct': 6, 'gb': 6, 'baltimor': 2, 'num': 78, 'ny': 4, 'yanke': 2, 'toronto': 2, 'boston': 2, 'detroit': 2, 'central': 2, 'cleveland': 2, 'milwauke': 1, 'kansa': 2, 'citi': 2, 'minnesota': 2, 'chi': 2, 'white': 2, 'sox': 2, 'west': 2, 'seattl': 2, 'texa': 2, 'anaheim': 1, 'oakland': 2, 'thursday': 2, 'may': 2, 'schedul': 2, 'nation': 1, 'atlanta': 2, 'montreal': 1, 'florida': 2, 'met': 2, 'philadelphia': 2, 'houston': 2, 'pittsburgh': 2, 'st': 2, 'loui': 2, 'cincinnati': 1, 'chicago': 2, 'cub': 2, 'colorado': 2, 'san': 3, 'francisco': 1, 'lo': 1, 'angel': 1, 'diego': 2}\n{'major': 2, 'leagu': 4, 'result': 2, 'basebal': 1, 'game': 1, 'wednesday': 1, 'home': 1, 'team': 1, 'cap': 1, 'american': 1, 'milwauke': 1, 'num': 27, 'oakland': 1, 'boston': 1, 'minnesota': 1, 'cleveland': 1, 'toronto': 1, 'detroit': 1, 'kansa': 1, 'citi': 1, 'baltimor': 1, 'anaheim': 1, 'ny': 2, 'yanke': 1, 'texa': 1, 'seattl': 1, 'chicago': 2, 'white': 1, 'sox': 1, 'postpon': 1, 'nation': 1, 'montreal': 1, 'san': 2, 'francisco': 1, 'atlanta': 1, 'florida': 1, 'met': 1, 'houston': 1, 'st': 1, 'loui': 1, 'philadelphia': 1, 'pittsburgh': 1, 'colorado': 1, 'lo': 1, 'angel': 1, 'cincinnati': 1, 'diego': 1, 'cub': 1}\n"
     ],
     "output_type": "stream"
    }
   ],
   "source": [
    "for key, collection in collections.items():\n",
    "    for doc in collection:\n",
    "        print(make_bow(doc))"
   ],
   "metadata": {
    "collapsed": false,
    "pycharm": {
     "name": "#%%\n",
     "is_executing": false
    }
   }
  },
  {
   "cell_type": "markdown",
   "metadata": {},
   "source": [
    "We can apply `make_bow()` to all of the documents in our collections"
   ]
  },
  {
   "cell_type": "code",
   "execution_count": 6,
   "metadata": {
    "pycharm": {
     "is_executing": false
    }
   },
   "outputs": [],
   "source": [
    "bow_collections={key:[make_bow(doc) for doc in collection] for key,collection in collections.items()}"
   ]
  },
  {
   "cell_type": "code",
   "execution_count": 7,
   "metadata": {
    "pycharm": {
     "is_executing": false
    }
   },
   "outputs": [
    {
     "data": {
      "text/plain": "[{'navistar': 16,\n  'close': 4,\n  'foundri': 12,\n  'take': 2,\n  'charg': 2,\n  'intern': 2,\n  'indianapoli': 8,\n  'cast': 2,\n  'employ': 1,\n  'num': 10,\n  'peopl': 1,\n  'late': 2,\n  'local': 3,\n  'union': 6,\n  'member': 3,\n  'reject': 2,\n  'compani': 8,\n  'propos': 4,\n  'truck': 4,\n  'school': 2,\n  'bu': 1,\n  'manufactur': 1,\n  'said': 8,\n  'tuesday': 1,\n  'move': 1,\n  'follow': 1,\n  'ratif': 1,\n  'extens': 1,\n  'master': 1,\n  'contract': 2,\n  'percent': 2,\n  'vote': 1,\n  'unit': 1,\n  'auto': 1,\n  'worker': 4,\n  'uaw': 5,\n  'announc': 2,\n  'sunday': 1,\n  'left': 1,\n  'open': 3,\n  'possibl': 2,\n  'could': 3,\n  'remain': 1,\n  'seek': 2,\n  'agreement': 5,\n  'came': 1,\n  'back': 2,\n  'say': 3,\n  'like': 1,\n  'talk': 2,\n  'one': 1,\n  'time': 2,\n  'alway': 1,\n  'work': 4,\n  'toward': 1,\n  'chairman': 1,\n  'john': 1,\n  'horn': 1,\n  'told': 1,\n  'report': 1,\n  'lock': 1,\n  'door': 2,\n  'jack': 1,\n  'laskowski': 2,\n  'vice': 1,\n  'presid': 1,\n  'ad': 2,\n  'confer': 1,\n  'call': 1,\n  'held': 1,\n  'jointli': 1,\n  'think': 1,\n  'know': 1,\n  'long': 1,\n  'sure': 1,\n  'short': 1,\n  'period': 1,\n  'offici': 4,\n  'gave': 1,\n  'detail': 1,\n  'except': 1,\n  'basic': 1,\n  'wage': 2,\n  'benefit': 2,\n  'would': 1,\n  'chang': 3,\n  'employe': 3,\n  'springfield': 7,\n  'ohio': 1,\n  'plant': 3,\n  'ratifi': 1,\n  'pact': 1,\n  'allow': 2,\n  'make': 2,\n  'product': 3,\n  'reduc': 1,\n  'forc': 3,\n  'leadership': 1,\n  'stood': 1,\n  'recogn': 1,\n  'go': 2,\n  'carri': 1,\n  'messag': 1,\n  'membership': 1,\n  'opposit': 1,\n  'happen': 1,\n  'larri': 1,\n  'gigerich': 1,\n  'senior': 1,\n  'advis': 1,\n  'econom': 1,\n  'develop': 1,\n  'mayor': 1,\n  'stephen': 1,\n  'goldsmith': 1,\n  'citi': 1,\n  'encourag': 2,\n  'keep': 1,\n  'side': 1,\n  'ha': 1,\n  'annual': 1,\n  'payrol': 1,\n  'million': 1,\n  'exclud': 1,\n  'typic': 1,\n  'year': 2,\n  'old': 1,\n  'high': 1,\n  'graduat': 1,\n  'experi': 1,\n  'level': 1,\n  'higher': 1,\n  'competit': 3,\n  'howev': 1,\n  'longer': 1,\n  'stay': 1,\n  'without': 1,\n  'new': 2,\n  'labor': 2,\n  'particularli': 1,\n  'face': 1,\n  'futur': 1,\n  'latin': 1,\n  'america': 1,\n  'cost': 1,\n  'significantli': 1,\n  'lower': 1,\n  'engin': 1,\n  'plan': 2,\n  'unspecifi': 1,\n  'fourth': 1,\n  'quarter': 1,\n  'repres': 1,\n  'fort': 1,\n  'wayn': 1,\n  'ind': 1,\n  'melros': 1,\n  'park': 1,\n  'locat': 1,\n  'approv': 1,\n  'proceed': 1,\n  'previous': 1,\n  'focu': 1,\n  'assembl': 1,\n  'exclus': 1,\n  'chatham': 1,\n  'ontario': 1,\n  'focus': 1,\n  'also': 1,\n  'introduc': 1,\n  'build': 2,\n  'promis': 1,\n  'made': 1,\n  'give': 1,\n  'exact': 1,\n  'estim': 1,\n  'much': 1,\n  'depend': 1,\n  'upon': 1,\n  'success': 1,\n  'stock': 2,\n  'rose': 1,\n  'end': 1,\n  'york': 1,\n  'exchang': 1},\n {'teamster': 2,\n  'carey': 5,\n  'say': 1,\n  'trade': 9,\n  'next': 3,\n  'battleground': 2,\n  'presid': 2,\n  'ron': 1,\n  'said': 5,\n  'tuesday': 1,\n  'major': 1,\n  'legisl': 7,\n  'union': 3,\n  'ha': 2,\n  'tent': 2,\n  'settl': 1,\n  'strike': 3,\n  'unit': 1,\n  'parcel': 1,\n  'servic': 2,\n  'told': 1,\n  'news': 1,\n  'confer': 1,\n  'fight': 2,\n  'stop': 1,\n  'fast': 4,\n  'track': 4,\n  'would': 2,\n  'allow': 1,\n  'offici': 3,\n  'negoti': 4,\n  'expans': 1,\n  'north': 1,\n  'american': 3,\n  'free': 1,\n  'agreement': 5,\n  'nafta': 4,\n  'worker': 7,\n  'nation': 1,\n  'largest': 1,\n  'packag': 1,\n  'deliveri': 1,\n  'wa': 2,\n  'battl': 1,\n  'approach': 1,\n  'corpor': 1,\n  'two': 1,\n  'side': 1,\n  'reach': 1,\n  'settlement': 1,\n  'expect': 2,\n  'return': 1,\n  'job': 3,\n  'thi': 1,\n  'week': 1,\n  'part': 2,\n  'concept': 1,\n  'throw': 1,\n  'away': 1,\n  'exploit': 1,\n  'countri': 1,\n  'like': 1,\n  'mexico': 1,\n  'num': 3,\n  'day': 1,\n  'start': 1,\n  'get': 1,\n  'organ': 1,\n  'move': 1,\n  'one': 1,\n  'place': 2,\n  'anoth': 1,\n  'clinton': 1,\n  'send': 1,\n  'congress': 3,\n  'propos': 2,\n  'month': 1,\n  'launch': 1,\n  'campaign': 1,\n  'win': 2,\n  'passag': 1,\n  'end': 2,\n  'year': 2,\n  'give': 1,\n  'right': 1,\n  'amend': 1,\n  'agre': 2,\n  'vote': 1,\n  'onli': 1,\n  'labor': 2,\n  'view': 1,\n  'loser': 1,\n  'vow': 1,\n  'administr': 3,\n  'argu': 1,\n  'need': 1,\n  'open': 1,\n  'market': 1,\n  'export': 1,\n  'hope': 1,\n  'new': 1,\n  'author': 3,\n  'without': 1,\n  'sinc': 1,\n  'effort': 1,\n  'renew': 1,\n  'fail': 1,\n  'becuas': 1,\n  'republican': 2,\n  'control': 1,\n  'democrat': 2,\n  'could': 1,\n  'whether': 1,\n  'includ': 3,\n  'environment': 1,\n  'issu': 2,\n  'oppos': 1,\n  'support': 2,\n  'doe': 1,\n  'work': 1,\n  'develop': 1,\n  'compromis': 1,\n  'parti': 1},\n {'slovakia': 2,\n  'updat': 1,\n  'aug': 1,\n  'key': 1,\n  'interest': 1,\n  'rate': 4,\n  'discount': 1,\n  'lombard': 1,\n  'num': 248,\n  'last': 1,\n  'chang': 34,\n  'jan': 2,\n  'juli': 6,\n  'former': 1,\n  'indic': 2,\n  'quarterli': 1,\n  'gross': 2,\n  'domest': 1,\n  'product': 2,\n  'fy': 3,\n  'real': 4,\n  'pct': 33,\n  'absolut': 1,\n  'amount': 1,\n  'skk': 5,\n  'bln': 5,\n  'household': 3,\n  'demand': 3,\n  'state': 2,\n  'administr': 1,\n  'capit': 3,\n  'creation': 1,\n  'export': 2,\n  'import': 2,\n  'stock': 1,\n  'reserv': 3,\n  'invest': 5,\n  'index': 2,\n  'averag': 2,\n  'wage': 2,\n  'nomin': 2,\n  'monthli': 1,\n  'month': 2,\n  'pv': 1,\n  'yr': 1,\n  'ago': 1,\n  'slovak': 10,\n  'current': 3,\n  'account': 5,\n  'mln': 1,\n  'trade': 2,\n  'balanc': 8,\n  'servic': 2,\n  'incom': 1,\n  'transfer': 2,\n  'total': 2,\n  'direct': 1,\n  'abroad': 1,\n  'portfolio': 1,\n  'net': 2,\n  'financi': 1,\n  'fin': 1,\n  'error': 1,\n  'ommiss': 1,\n  'note': 2,\n  'figur': 3,\n  'million': 1,\n  'dollar': 1,\n  'subject': 2,\n  'revis': 2,\n  'central': 1,\n  'bank': 3,\n  'use': 1,\n  'follow': 1,\n  'exchang': 1,\n  'calcul': 1,\n  'consum': 1,\n  'inflat': 1,\n  'june': 7,\n  'foodstuff': 1,\n  'soft': 1,\n  'drink': 1,\n  'alcohol': 1,\n  'tobacco': 1,\n  'cloth': 1,\n  'shoe': 1,\n  'energi': 1,\n  'util': 1,\n  'fuel': 1,\n  'furnitur': 1,\n  'applianc': 1,\n  'mainten': 1,\n  'healthcar': 1,\n  'transport': 1,\n  'leisur': 1,\n  'cultur': 1,\n  'educ': 1,\n  'hotel': 1,\n  'cafe': 1,\n  'restaur': 1,\n  'variou': 1,\n  'good': 1,\n  'produc': 1,\n  'price': 1,\n  'may': 7,\n  'industri': 1,\n  'output': 2,\n  'construct': 1,\n  'retail': 1,\n  'sale': 1,\n  'indust': 1,\n  'dec': 3,\n  'chg': 1,\n  'unemploy': 1,\n  'april': 2,\n  'jobless': 1,\n  'percentag': 1,\n  'workforc': 1,\n  'foreign': 2,\n  'forex': 1,\n  'nb': 2,\n  'commerci': 1,\n  'entir': 1,\n  'sector': 1,\n  'money': 1,\n  'suppli': 1,\n  'mar': 1,\n  'overal': 1,\n  'target': 1,\n  'expans': 1,\n  'percent': 1,\n  'measur': 1,\n  'currenc': 2,\n  'time': 1,\n  'deposit': 3,\n  'save': 1,\n  'budget': 1,\n  'revenu': 1,\n  'expenditur': 1,\n  'bratislava': 1,\n  'newsroom': 1},\n {'ground': 2,\n  'broken': 1,\n  'nuclear': 6,\n  'project': 7,\n  'consortium': 3,\n  'capitalist': 1,\n  'nation': 2,\n  'broke': 1,\n  'tuesday': 3,\n  'landmark': 1,\n  'communist': 1,\n  'north': 6,\n  'korea': 8,\n  'washington': 2,\n  'seoul': 4,\n  'said': 9,\n  'key': 1,\n  'preserv': 1,\n  'peac': 2,\n  'peninsula': 4,\n  'puff': 1,\n  'pink': 1,\n  'green': 1,\n  'orang': 1,\n  'yellow': 1,\n  'smoke': 1,\n  'belch': 1,\n  'hillsid': 2,\n  'northeastern': 1,\n  'town': 1,\n  'kumho': 2,\n  'offici': 3,\n  'korean': 9,\n  'energi': 2,\n  'develop': 1,\n  'organis': 1,\n  'kedo': 5,\n  'trigger': 1,\n  'symbol': 2,\n  'blast': 2,\n  'intern': 4,\n  'led': 1,\n  'unit': 2,\n  'state': 4,\n  'south': 4,\n  'japan': 2,\n  'respons': 1,\n  'financ': 1,\n  'construct': 1,\n  'two': 3,\n  'reactor': 7,\n  'estim': 1,\n  'cost': 1,\n  'num': 9,\n  'billion': 2,\n  'deliv': 1,\n  'return': 1,\n  'pyongyang': 3,\n  'promis': 4,\n  'freez': 1,\n  'eventu': 1,\n  'dismantl': 2,\n  'suspect': 3,\n  'atom': 2,\n  'weapon': 1,\n  'programm': 1,\n  'wit': 2,\n  'diplomat': 1,\n  'nine': 1,\n  'european': 2,\n  'union': 2,\n  'put': 2,\n  'white': 1,\n  'glove': 1,\n  'releas': 1,\n  'barrag': 1,\n  'confetti': 1,\n  'streamer': 1,\n  'firework': 1,\n  'cascad': 1,\n  'among': 1,\n  'peopl': 1,\n  'ceremoni': 4,\n  'also': 1,\n  'includ': 2,\n  'journalist': 1,\n  'contractor': 1,\n  'stephen': 1,\n  'bosworth': 3,\n  'execut': 1,\n  'director': 2,\n  'polit': 1,\n  'import': 1,\n  'becaus': 1,\n  'would': 2,\n  'help': 3,\n  'establish': 1,\n  'credibl': 1,\n  'thi': 1,\n  'mark': 1,\n  'fulfil': 1,\n  'made': 1,\n  'year': 2,\n  'ago': 1,\n  'republ': 1,\n  'start': 1,\n  'awar': 1,\n  'wa': 3,\n  'initi': 1,\n  'ensur': 1,\n  'secur': 3,\n  'denuclearis': 1,\n  'chang': 2,\n  'chief': 1,\n  'repres': 1,\n  'product': 1,\n  'concert': 1,\n  'effort': 1,\n  'realis': 1,\n  'ideal': 1,\n  'form': 1,\n  'tokyo': 1,\n  'agreement': 2,\n  'later': 1,\n  'expand': 1,\n  'australia': 1,\n  'canada': 1,\n  'chile': 1,\n  'finland': 1,\n  'indonesia': 1,\n  'new': 2,\n  'zealand': 1,\n  'serv': 1,\n  'catalyst': 1,\n  'reconcili': 1,\n  'cooper': 2,\n  'reclus': 1,\n  'pay': 1,\n  'brought': 1,\n  'tonn': 1,\n  'equip': 1,\n  'roar': 1,\n  'life': 1,\n  'went': 1,\n  'told': 1,\n  'report': 1,\n  'bargain': 1,\n  'view': 1,\n  'commun': 1,\n  'gain': 1,\n  'west': 1,\n  'enough': 1,\n  'plutonium': 3,\n  'build': 2,\n  'one': 1,\n  'bomb': 2,\n  'could': 2,\n  'tri': 1,\n  'sell': 1,\n  'terrorist': 1,\n  'group': 1,\n  'earn': 1,\n  'hard': 1,\n  'currenc': 1,\n  'need': 1,\n  'rescu': 1,\n  'impoverish': 1,\n  'econom': 1,\n  'crisi': 1,\n  'befor': 2,\n  'core': 1,\n  'built': 1,\n  'next': 1,\n  'seven': 1,\n  'agenc': 1,\n  'watchdog': 1,\n  'must': 1,\n  'satisfi': 1,\n  'ha': 2,\n  'come': 2,\n  'clean': 2,\n  'get': 2,\n  'gut': 1,\n  'joel': 1,\n  'deputi': 1,\n  'depart': 1,\n  'offic': 1,\n  'affair': 1,\n  'concret': 1,\n  'ad': 1,\n  'sign': 1,\n  'geneva': 1,\n  'octob': 1,\n  'pledg': 1,\n  'allow': 1,\n  'iaea': 1,\n  'conduct': 1,\n  'special': 1,\n  'inspect': 1,\n  'facil': 1,\n  'determin': 1,\n  'hidden': 1,\n  'ani': 1,\n  'use': 1,\n  'make': 1,\n  'western': 1,\n  'past': 1,\n  'might': 1,\n  'secretli': 1,\n  'kilo': 1,\n  'fissil': 1,\n  'materi': 1,\n  'experiment': 1,\n  'sinc': 2,\n  'agre': 1,\n  'hope': 1,\n  'histor': 1,\n  'lead': 1,\n  'lock': 1,\n  'cold': 1,\n  'war': 2,\n  'confront': 1},\n {'new': 3,\n  'issu': 2,\n  'municip': 3,\n  'calendar': 2,\n  'updat': 1,\n  'follow': 1,\n  'ad': 1,\n  'sale': 5,\n  'amount': 3,\n  'issuer': 2,\n  'secur': 1,\n  'date': 2,\n  'omit': 4,\n  'num': 27,\n  'watertown': 1,\n  'mass': 3,\n  'go': 8,\n  'cobb': 1,\n  'cti': 6,\n  'recreat': 1,\n  'auth': 3,\n  'rev': 1,\n  'frenship': 2,\n  'isd': 4,\n  'texa': 8,\n  'three': 1,\n  'villag': 1,\n  'csd': 1,\n  'kennedal': 1,\n  'sulphur': 1,\n  'spring': 1,\n  'lubbock': 1,\n  'westland': 1,\n  'oregon': 1,\n  'na': 1,\n  'sr': 1,\n  'manag': 1,\n  'granburi': 1,\n  'first': 2,\n  'southwest': 1,\n  'wk': 13,\n  'orang': 1,\n  'albani': 1,\n  'hous': 1,\n  'agenc': 2,\n  'john': 1,\n  'nuveen': 1,\n  'massachusett': 1,\n  'ifa': 1,\n  'state': 1,\n  'street': 1,\n  'california': 1,\n  'hlth': 2,\n  'fac': 2,\n  'fin': 1,\n  'morgan': 2,\n  'stanley': 2,\n  'baltimor': 1,\n  'md': 1,\n  'painewebb': 1,\n  'spark': 1,\n  'redev': 1,\n  'miller': 1,\n  'schroeder': 1,\n  'modesto': 1,\n  'woodland': 1,\n  'hill': 1,\n  'sch': 1,\n  'dist': 1,\n  'pnc': 1,\n  'hampshir': 1,\n  'educ': 1,\n  'herbert': 1,\n  'sim': 1,\n  'hancock': 2,\n  'ohio': 2,\n  'banc': 2,\n  'one': 2,\n  'greater': 1,\n  'orlando': 1,\n  'aviat': 1,\n  'chase': 1,\n  'securitieswk': 1,\n  'yakima': 1,\n  'dain': 1,\n  'bosworth': 1,\n  'competit': 1,\n  'note': 3,\n  'worcest': 2,\n  'ban': 2,\n  'lot': 2,\n  'b': 1,\n  'denton': 1,\n  'tax': 1,\n  'negoti': 1,\n  'inform': 1,\n  'group': 1},\n {'senat': 9,\n  'revers': 1,\n  'declin': 2,\n  'foreign': 8,\n  'aid': 9,\n  'budget': 2,\n  'thursday': 1,\n  'boost': 1,\n  'num': 17,\n  'billion': 5,\n  'next': 1,\n  'year': 4,\n  'use': 3,\n  'annual': 2,\n  'fund': 4,\n  'send': 2,\n  'messag': 1,\n  'domest': 1,\n  'polici': 1,\n  'issu': 1,\n  'russia': 3,\n  'egypt': 3,\n  'cambodia': 2,\n  'countri': 5,\n  'approv': 2,\n  'packag': 1,\n  'fiscal': 1,\n  'start': 1,\n  'strong': 2,\n  'bipartisan': 1,\n  'vote': 3,\n  'increas': 2,\n  'come': 1,\n  'percent': 2,\n  'past': 1,\n  'decad': 1,\n  'still': 1,\n  'amount': 1,\n  'less': 2,\n  'feder': 1,\n  'spend': 1,\n  'bill': 3,\n  'also': 3,\n  'provid': 1,\n  'request': 2,\n  'administr': 2,\n  'bank': 1,\n  'loan': 1,\n  'compani': 1,\n  'american': 1,\n  'assist': 3,\n  'gear': 1,\n  'behaviour': 1,\n  'oper': 2,\n  'subcommitte': 1,\n  'chairman': 1,\n  'mitch': 1,\n  'mcconnel': 3,\n  'told': 1,\n  'argu': 1,\n  'varieti': 1,\n  'provis': 1,\n  'said': 3,\n  'would': 3,\n  'goal': 2,\n  'kentucki': 1,\n  'republican': 1,\n  'state': 3,\n  'hi': 2,\n  'support': 1,\n  'construct': 1,\n  'altern': 1,\n  'militari': 1,\n  'abroad': 1,\n  'warn': 1,\n  'recipi': 1,\n  'panel': 1,\n  'review': 1,\n  'whether': 1,\n  'money': 1,\n  'wa': 4,\n  'help': 2,\n  'meet': 1,\n  'entitl': 1,\n  'someth': 1,\n  'get': 1,\n  'automat': 1,\n  'thi': 1,\n  'becaus': 1,\n  'got': 1,\n  'last': 1,\n  'senior': 1,\n  'democrat': 2,\n  'relat': 1,\n  'committe': 1,\n  'joe': 1,\n  'biden': 1,\n  'delawar': 1,\n  'prais': 1,\n  'washington': 1,\n  'better': 1,\n  'democraci': 1,\n  'free': 1,\n  'trade': 1,\n  'human': 1,\n  'right': 1,\n  'abraod': 1,\n  'million': 6,\n  'presid': 3,\n  'clinton': 2,\n  'dure': 1,\n  'debat': 1,\n  'amend': 1,\n  'cut': 1,\n  'propos': 1,\n  'restrict': 1,\n  'religi': 1,\n  'freedom': 1,\n  'becam': 1,\n  'law': 1,\n  'doe': 1,\n  'freeli': 1,\n  'fairli': 1,\n  'elect': 1,\n  'govern': 2,\n  'conting': 1,\n  'moscow': 1,\n  'halt': 1,\n  'iran': 1,\n  'nuclear': 2,\n  'programm': 1,\n  'reject': 1,\n  'plan': 1,\n  'end': 2,\n  'certif': 2,\n  'process': 1,\n  'deem': 1,\n  'fight': 1,\n  'drug': 1,\n  'thu': 1,\n  'qualifi': 1,\n  'show': 1,\n  'continu': 1,\n  'opposit': 1,\n  'castro': 1,\n  'refus': 1,\n  'allow': 1,\n  'month': 2,\n  'famili': 1,\n  'member': 1,\n  'cuba': 1,\n  'respons': 1,\n  'north': 1,\n  'korea': 1,\n  'fire': 1,\n  'south': 1,\n  'korean': 2,\n  'troop': 1,\n  'juli': 1,\n  'hold': 1,\n  'back': 1,\n  'econom': 3,\n  'develop': 1,\n  'organis': 1,\n  'build': 1,\n  'two': 1,\n  'reactor': 1,\n  'certifi': 1,\n  'armistic': 1,\n  'violat': 1,\n  'occur': 1,\n  'nine': 1,\n  'usual': 1,\n  'israel': 2,\n  'receiv': 1,\n  'bulk': 1,\n  'given': 2,\n  'agre': 2,\n  'renew': 1,\n  'effort': 1,\n  'peac': 1,\n  'middl': 1,\n  'east': 1,\n  'set': 2,\n  'asid': 1,\n  'cairo': 1,\n  'includ': 1,\n  'jordan': 1,\n  'eastern': 1,\n  'europ': 1,\n  'baltic': 1,\n  'former': 1,\n  'soviet': 1,\n  'union': 1,\n  'half': 1,\n  'ukrain': 1,\n  'depend': 1,\n  'white': 1,\n  'hous': 1,\n  'regard': 1,\n  'reform': 1,\n  'work': 1,\n  'corrupt': 1,\n  'go': 1,\n  'republ': 1,\n  'congo': 1,\n  'laurent': 1,\n  'kabila': 1,\n  'cooper': 1,\n  'intern': 1,\n  'investig': 1,\n  'alleg': 1,\n  'mass': 1,\n  'kill': 1,\n  'hutu': 1},\n {'reduc': 2,\n  'tariff': 5,\n  'caribbean': 9,\n  'senat': 6,\n  'unit': 1,\n  'state': 1,\n  'import': 2,\n  'countri': 3,\n  'order': 1,\n  'offset': 1,\n  'unfair': 1,\n  'competit': 1,\n  'nafta': 3,\n  'nation': 2,\n  'particularli': 1,\n  'mexico': 4,\n  'two': 1,\n  'said': 7,\n  'thursday': 1,\n  'north': 1,\n  'american': 2,\n  'free': 1,\n  'trade': 5,\n  'agreement': 2,\n  'ha': 2,\n  'unfairli': 1,\n  'impact': 1,\n  'cbi': 1,\n  'basin': 2,\n  'initi': 1,\n  'compani': 2,\n  'invest': 2,\n  'arizona': 1,\n  'republican': 1,\n  'john': 1,\n  'mccain': 2,\n  'florida': 1,\n  'democrat': 1,\n  'bob': 1,\n  'graham': 2,\n  'letter': 2,\n  'financ': 1,\n  'committe': 1,\n  'becaus': 3,\n  'good': 2,\n  'becom': 1,\n  'less': 1,\n  'expens': 1,\n  'compar': 1,\n  'product': 1,\n  'higher': 1,\n  'also': 1,\n  'divert': 1,\n  'manufactur': 1,\n  'oper': 1,\n  'away': 1,\n  'toward': 1,\n  'accord': 1,\n  'consid': 1,\n  'reloc': 1,\n  'restrict': 1,\n  'job': 1,\n  'depend': 1,\n  'high': 1,\n  'coupl': 1,\n  'world': 1,\n  'organ': 1,\n  'wto': 2,\n  'recent': 1,\n  'banana': 2,\n  'rule': 1,\n  'might': 1,\n  'encourag': 1,\n  'illicit': 1,\n  'drug': 1,\n  'traffick': 1,\n  'may': 1,\n  'struck': 1,\n  'preferenti': 1,\n  'export': 1,\n  'european': 1,\n  'union': 1,\n  'hous': 1,\n  'repres': 1,\n  'includ': 1,\n  'reduct': 1,\n  'propos': 1,\n  'budget': 1,\n  'reconcili': 1,\n  'bill': 1,\n  'address': 1,\n  'matter': 1,\n  'washington': 1,\n  'newsdesk': 1},\n {'central': 2,\n  'squar': 2,\n  'csd': 2,\n  'roosevelt': 2,\n  'cross': 1,\n  'said': 1,\n  'num': 3,\n  'million': 1,\n  'school': 1,\n  'district': 1,\n  'bond': 1,\n  'net': 1,\n  'interest': 1,\n  'cost': 1,\n  'percent': 1},\n {'sebastopol': 2,\n  'uesd': 2,\n  'painewebb': 2,\n  'said': 1,\n  'num': 3,\n  'million': 1,\n  'gener': 1,\n  'obligaiton': 1,\n  'bond': 1,\n  'elect': 1,\n  'seri': 1,\n  'b': 1,\n  'true': 1,\n  'interest': 1,\n  'cost': 1,\n  'percent': 1},\n {'usda': 1,\n  'chief': 1,\n  'urg': 1,\n  'hous': 5,\n  'keep': 1,\n  'tobacco': 8,\n  'insur': 2,\n  'agricultur': 4,\n  'secretari': 1,\n  'dan': 1,\n  'glickman': 2,\n  'said': 4,\n  'thursday': 3,\n  'oppos': 1,\n  'effort': 1,\n  'end': 1,\n  'feder': 2,\n  'crop': 2,\n  'protect': 1,\n  'grower': 1,\n  'follow': 1,\n  'speech': 1,\n  'told': 1,\n  'report': 1,\n  'ha': 1,\n  'sent': 1,\n  'letter': 1,\n  'congress': 2,\n  'regist': 1,\n  'hi': 1,\n  'concern': 1,\n  'lawmak': 1,\n  'expect': 1,\n  'vote': 2,\n  'issu': 1,\n  'sometim': 1,\n  'friday': 1,\n  'dure': 2,\n  'debat': 1,\n  'fiscal': 1,\n  'num': 7,\n  'appropri': 2,\n  'bill': 3,\n  'amend': 1,\n  'wa': 1,\n  'defeat': 1,\n  'voic': 1,\n  'committe': 1,\n  'work': 1,\n  'spend': 2,\n  'howev': 2,\n  'provis': 1,\n  'may': 1,\n  'stand': 1,\n  'better': 1,\n  'chanc': 1,\n  'floor': 1,\n  'feel': 1,\n  'member': 2,\n  'want': 2,\n  'put': 1,\n  'marker': 1,\n  'republican': 2,\n  'aid': 2,\n  'last': 1,\n  'month': 1,\n  'group': 1,\n  'state': 2,\n  'attorney': 1,\n  'gener': 1,\n  'reach': 1,\n  'billion': 1,\n  'settlement': 2,\n  'compani': 2,\n  'pact': 1,\n  'face': 1,\n  'uncertain': 1,\n  'fate': 1,\n  'mani': 1,\n  'demonstr': 1,\n  'tough': 1,\n  'stanc': 1,\n  'oppon': 1,\n  'argu': 1,\n  'measur': 1,\n  'would': 2,\n  'noth': 1,\n  'curb': 1,\n  'smoke': 2,\n  'injur': 1,\n  'instead': 1,\n  'fall': 1,\n  'hardest': 1,\n  'farmer': 1,\n  'invest': 1,\n  'heavili': 1,\n  'product': 1,\n  'often': 1,\n  'altern': 1,\n  'meanwhil': 1,\n  'pend': 1,\n  'doe': 1,\n  'contain': 1,\n  'million': 2,\n  'enforc': 2,\n  'food': 1,\n  'drug': 1,\n  'administr': 2,\n  'regul': 1,\n  'less': 1,\n  'clinton': 1,\n  'request': 1,\n  'earlier': 1,\n  'thi': 1,\n  'week': 1,\n  'senat': 1,\n  'subcommitte': 1,\n  'recommend': 1,\n  'govern': 1,\n  'fund': 2,\n  'initi': 1,\n  'panel': 1,\n  'chairman': 1,\n  'thad': 1,\n  'cochran': 1,\n  'mississippi': 1,\n  'activ': 1,\n  'come': 1,\n  'propos': 1,\n  'washington': 1,\n  'commod': 1,\n  'desk': 1}]"
     },
     "metadata": {},
     "output_type": "execute_result",
     "execution_count": 7
    }
   ],
   "source": [
    "bow_collections[\"finance\"]"
   ]
  },
  {
   "cell_type": "markdown",
   "metadata": {},
   "source": [
    "## Measuring Similarity\n",
    "We are going to use the cosine measure to determine how similar two documents are.  This can be defined in terms of the dot products of vectors:\n",
    "\n",
    "\\begin{eqnarray*}\n",
    "\\mbox{sim}_{\\mbox{cosine}}(A,B) = \\frac{A.B}{\\sqrt{A.A \\times B.B}}\n",
    "\\end{eqnarray*}\n",
    "\n",
    "where the dot product of two vectors, A and B, is defined as:\n",
    "\n",
    "\\begin{eqnarray*}\n",
    "A.B = \\sum_{\\mbox{f}} \\mbox{weight}(A,f)\\times \\mbox{weight}(B,f) \n",
    "\\end{eqnarray*}\n",
    "\n",
    "and $\\mbox{weight}(X,f)$ tells us the value associated with feature $f$ in the vector representation of $X$\n",
    "\n",
    "### Exercise 1.1\n",
    "* Write a function `dot` which takes two documents (represented as dictionaries) and returns their dot product\n",
    "* Test it out on the first two documents in the finance collection.  You should get the answer 206 "
   ]
  },
  {
   "cell_type": "code",
   "execution_count": 8,
   "metadata": {
    "pycharm": {
     "is_executing": false
    }
   },
   "outputs": [],
   "source": [
    "def dot(doc1,doc2):\n",
    "    the_sum=0\n",
    "    for (key,value) in doc1.items():\n",
    "        the_sum+=value*doc2.get(key,0)\n",
    "    return the_sum\n"
   ]
  },
  {
   "cell_type": "code",
   "execution_count": 9,
   "outputs": [
    {
     "data": {
      "text/plain": "206"
     },
     "metadata": {},
     "output_type": "execute_result",
     "execution_count": 9
    }
   ],
   "source": [
    "dot(bow_collections[\"finance\"][0],bow_collections[\"finance\"][1])"
   ],
   "metadata": {
    "collapsed": false,
    "pycharm": {
     "name": "#%%\n",
     "is_executing": false
    }
   }
  },
  {
   "cell_type": "markdown",
   "metadata": {},
   "source": [
    "### Exercise 1.2\n",
    "* Write a function `cos_sim` which takes two documents (represented as dictionaries) and returns their cosine similarity.\n",
    "* Your function should make 3 calls to the `dot` function you have already defined\n",
    "* If you test it out on the first two documents in the finance collection you should get 0.24 (to 2S.F.)"
   ]
  },
  {
   "cell_type": "code",
   "execution_count": 10,
   "metadata": {
    "pycharm": {
     "is_executing": false
    }
   },
   "outputs": [],
   "source": [
    "def cos_sim(dict1,dict2):\n",
    "    cosine_sim=dot(dict1,dict2)/math.sqrt(dot(dict1,dict1)*dot(dict2,dict2))\n",
    "    return cosine_sim"
   ]
  },
  {
   "cell_type": "code",
   "execution_count": 11,
   "outputs": [
    {
     "data": {
      "text/plain": "0.2389942359865197"
     },
     "metadata": {},
     "output_type": "execute_result",
     "execution_count": 11
    }
   ],
   "source": [
    "cos_sim(bow_collections[\"finance\"][0],bow_collections[\"finance\"][1])"
   ],
   "metadata": {
    "collapsed": false,
    "pycharm": {
     "name": "#%%\n",
     "is_executing": false
    }
   }
  },
  {
   "cell_type": "markdown",
   "metadata": {},
   "source": [
    "### Exercise 1.3\n",
    "* Write some code that will compute the similarity of every document in a collection with every document in another collection\n",
    "* Write code to compute the average similarity of two collections\n",
    "* Compute (and display) the average similarity of \n",
    "    * the finance collection to the finance collection\n",
    "    * the sport collection to the sport collection\n",
    "    * the finance collection to the sport collection\n",
    "    * the sport collection to the finance collection\n",
    "    "
   ]
  },
  {
   "cell_type": "code",
   "execution_count": 11,
   "metadata": {
    "pycharm": {
     "is_executing": false
    }
   },
   "outputs": [],
   "source": []
  },
  {
   "cell_type": "markdown",
   "metadata": {},
   "source": [
    "## Beyond Frequency\n",
    "Frequency of a word in a document does not make a very good weight because some words occur very frequently in all documents.  If two rare words occur in both of our pair of documents, that should add more to their perceived similarity than if two common words occur in both of our pair of documents.\n",
    "\n",
    "### TF-IDF\n",
    "A commonly used weight is tf-idf which stands for **term frequency, inverse document frequency**\n",
    "\n",
    "\\begin{eqnarray*}\n",
    "\\mbox{tf-idf}(D_i,f) = tf(D_i,f) \\times idf(D_i,f)\n",
    "\\end{eqnarray*}\n",
    "\n",
    "where $tf(D_i,f)$ is simply the frequency of feature f in document $D_i$\n",
    "and\n",
    "\n",
    "\\begin{eqnarray*}\n",
    "idf(D_i,f) = log \\frac{N}{df(f)}\n",
    "\\end{eqnarray*}\n",
    "\n",
    "where $N$ is the total number of documents and $\\mbox{df}(f)$ is the number of documents containing $f$:  \n",
    "\n",
    "\\begin{eqnarray*}\n",
    "df(f)=|\\{i|\\mbox{freq}(D_i,f)>0\\}|\n",
    "\\end{eqnarray*}\n",
    "\n",
    "The code below will take a list of documents (represented as dictionaries) and compute the document frequency for each feature."
   ]
  },
  {
   "cell_type": "code",
   "execution_count": 12,
   "metadata": {
    "pycharm": {
     "is_executing": false
    }
   },
   "outputs": [],
   "source": [
    "def doc_freq(doclist):\n",
    "    df={}\n",
    "    for doc in doclist:\n",
    "        for feat in doc.keys():\n",
    "            df[feat]=df.get(feat,0)+1\n",
    "    return df"
   ]
  },
  {
   "cell_type": "code",
   "execution_count": 13,
   "outputs": [],
   "source": [
    "#doc_freq(bow_collections['finance'])\n",
    "#idf(bow_collections['finance'])"
   ],
   "metadata": {
    "collapsed": false,
    "pycharm": {
     "name": "#%%\n",
     "is_executing": false
    }
   }
  },
  {
   "cell_type": "markdown",
   "metadata": {},
   "source": [
    "### Exercise 2.1\n",
    "* Write a function which will compute the idf values for features given a list of documents\n",
    "* Use it to compute idf values for features given:\n",
    "    * the finance collection of documents\n",
    "    * the sports collection of documents\n",
    "    * the combination of the finance and sports collections\n",
    "    "
   ]
  },
  {
   "cell_type": "code",
   "execution_count": 14,
   "metadata": {
    "pycharm": {
     "is_executing": false
    }
   },
   "outputs": [],
   "source": [
    "def idf(doclist):\n",
    "    N=len(doclist)\n",
    "    return {feat:math.log(N/v) for feat,v in doc_freq(doclist).items()}\n",
    "\n",
    "def my_idf(doclist):\n",
    "    N=len(doclist)\n",
    "    df_f=0\n",
    "    idf={}\n",
    "    for key in doc_freq(doclist).keys():\n",
    "        for i in doclist:\n",
    "            for feat,v in i.items():\n",
    "            \n",
    "                if feat==key:\n",
    "                    df_f+=1\n",
    "                    break\n",
    "        idf[key]=df_f\n",
    "    return idf"
   ]
  },
  {
   "cell_type": "code",
   "execution_count": null,
   "outputs": [],
   "source": [
    "doclist={}"
   ],
   "metadata": {
    "collapsed": false,
    "pycharm": {
     "name": "#%%\n"
    }
   }
  },
  {
   "cell_type": "code",
   "execution_count": 15,
   "outputs": [],
   "source": [
    "finance_idf1=my_idf(bow_collections['finance'])"
   ],
   "metadata": {
    "collapsed": false,
    "pycharm": {
     "name": "#%%\n",
     "is_executing": false
    }
   }
  },
  {
   "cell_type": "code",
   "execution_count": 16,
   "metadata": {
    "pycharm": {
     "is_executing": false
    }
   },
   "outputs": [],
   "source": [
    "finance_idf=idf(bow_collections['finance'])"
   ]
  },
  {
   "cell_type": "code",
   "execution_count": 17,
   "outputs": [
    {
     "name": "stdout",
     "text": [
      "1779.8074901516707 1779.8074901516707\n"
     ],
     "output_type": "stream"
    }
   ],
   "source": [
    "test1=0\n",
    "test2=0\n",
    "for i,j in finance_idf.items():\n",
    "    test1+=j\n",
    "for i1,j1 in finance_idf.items():\n",
    "    test2+=j1\n",
    "print(test1,test2)"
   ],
   "metadata": {
    "collapsed": false,
    "pycharm": {
     "name": "#%%\n",
     "is_executing": false
    }
   }
  },
  {
   "cell_type": "markdown",
   "metadata": {},
   "source": [
    "### Exercise 2.2\n",
    "* Write a function `convert_to_tfidf` that takes two arguments:\n",
    "    * a list of documents (represented as dictionaries {feat:freq})\n",
    "    * a dictionary containing idf values\n",
    "* and outputs a list of documents with tfidf weights (i.e., dictionaries {feat:tfidf})"
   ]
  },
  {
   "cell_type": "code",
   "execution_count": 21,
   "metadata": {
    "pycharm": {
     "is_executing": false
    }
   },
   "outputs": [],
   "source": [
    "def convert_to_tfidf(doclist,idf_dict):\n",
    "    tfidf_weights_doclist={}\n",
    "    for doc in doclist:\n",
    "        for feat in doc.keys():\n",
    "            tfidf_weights_doclist[feat]=tfidf_weights_doclist.get(feat,0)+1\n",
    "    for feat,v1 in tfidf_weights_doclist.items():\n",
    "        tfidf_weights_doclist[feat]=v1*idf_dict[feat]\n",
    "    return tfidf_weights_doclist"
   ]
  },
  {
   "cell_type": "code",
   "execution_count": 22,
   "metadata": {
    "pycharm": {
     "is_executing": false
    }
   },
   "outputs": [
    {
     "data": {
      "text/plain": "{'navistar': 2.302585092994046,\n 'close': 2.302585092994046,\n 'foundri': 2.302585092994046,\n 'take': 2.302585092994046,\n 'charg': 2.302585092994046,\n 'intern': 3.6119184129778086,\n 'indianapoli': 2.302585092994046,\n 'cast': 2.302585092994046,\n 'employ': 2.302585092994046,\n 'num': 0.9482446409204371,\n 'peopl': 3.2188758248682006,\n 'late': 2.302585092994046,\n 'local': 2.302585092994046,\n 'union': 3.4657359027997265,\n 'member': 3.6119184129778086,\n 'reject': 3.2188758248682006,\n 'compani': 3.6651629274966204,\n 'propos': 3.4657359027997265,\n 'truck': 2.302585092994046,\n 'school': 3.2188758248682006,\n 'bu': 2.302585092994046,\n 'manufactur': 3.2188758248682006,\n 'said': 1.7851484105136781,\n 'tuesday': 3.6119184129778086,\n 'move': 3.2188758248682006,\n 'follow': 3.6651629274966204,\n 'ratif': 2.302585092994046,\n 'extens': 2.302585092994046,\n 'master': 2.302585092994046,\n 'contract': 2.302585092994046,\n 'percent': 3.4657359027997265,\n 'vote': 3.6651629274966204,\n 'unit': 3.6651629274966204,\n 'auto': 2.302585092994046,\n 'worker': 3.2188758248682006,\n 'uaw': 2.302585092994046,\n 'announc': 2.302585092994046,\n 'sunday': 2.302585092994046,\n 'left': 2.302585092994046,\n 'open': 3.2188758248682006,\n 'possibl': 2.302585092994046,\n 'could': 3.6119184129778086,\n 'remain': 2.302585092994046,\n 'seek': 2.302585092994046,\n 'agreement': 3.6651629274966204,\n 'came': 2.302585092994046,\n 'back': 3.2188758248682006,\n 'say': 3.2188758248682006,\n 'like': 3.2188758248682006,\n 'talk': 2.302585092994046,\n 'one': 3.6651629274966204,\n 'time': 3.2188758248682006,\n 'alway': 2.302585092994046,\n 'work': 3.6651629274966204,\n 'toward': 3.2188758248682006,\n 'chairman': 3.6119184129778086,\n 'john': 3.6119184129778086,\n 'horn': 2.302585092994046,\n 'told': 3.4657359027997265,\n 'report': 3.6119184129778086,\n 'lock': 3.2188758248682006,\n 'door': 2.302585092994046,\n 'jack': 2.302585092994046,\n 'laskowski': 2.302585092994046,\n 'vice': 2.302585092994046,\n 'presid': 3.6119184129778086,\n 'ad': 3.6119184129778086,\n 'confer': 3.2188758248682006,\n 'call': 2.302585092994046,\n 'held': 2.302585092994046,\n 'jointli': 2.302585092994046,\n 'think': 2.302585092994046,\n 'know': 2.302585092994046,\n 'long': 2.302585092994046,\n 'sure': 2.302585092994046,\n 'short': 2.302585092994046,\n 'period': 2.302585092994046,\n 'offici': 3.6119184129778086,\n 'gave': 2.302585092994046,\n 'detail': 2.302585092994046,\n 'except': 2.302585092994046,\n 'basic': 2.302585092994046,\n 'wage': 3.2188758248682006,\n 'benefit': 2.302585092994046,\n 'would': 3.4657359027997265,\n 'chang': 3.6119184129778086,\n 'employe': 2.302585092994046,\n 'springfield': 2.302585092994046,\n 'ohio': 3.2188758248682006,\n 'plant': 2.302585092994046,\n 'ratifi': 2.302585092994046,\n 'pact': 3.2188758248682006,\n 'allow': 3.6651629274966204,\n 'make': 3.2188758248682006,\n 'product': 3.4657359027997265,\n 'reduc': 3.2188758248682006,\n 'forc': 2.302585092994046,\n 'leadership': 2.302585092994046,\n 'stood': 2.302585092994046,\n 'recogn': 2.302585092994046,\n 'go': 3.6119184129778086,\n 'carri': 2.302585092994046,\n 'messag': 3.2188758248682006,\n 'membership': 2.302585092994046,\n 'opposit': 3.2188758248682006,\n 'happen': 2.302585092994046,\n 'larri': 2.302585092994046,\n 'gigerich': 2.302585092994046,\n 'senior': 3.2188758248682006,\n 'advis': 2.302585092994046,\n 'econom': 3.6119184129778086,\n 'develop': 3.6651629274966204,\n 'mayor': 2.302585092994046,\n 'stephen': 3.2188758248682006,\n 'goldsmith': 2.302585092994046,\n 'citi': 2.302585092994046,\n 'encourag': 3.2188758248682006,\n 'keep': 3.2188758248682006,\n 'side': 3.2188758248682006,\n 'ha': 3.4657359027997265,\n 'annual': 3.2188758248682006,\n 'payrol': 2.302585092994046,\n 'million': 3.0649537425959443,\n 'exclud': 2.302585092994046,\n 'typic': 2.302585092994046,\n 'year': 3.6651629274966204,\n 'old': 2.302585092994046,\n 'high': 3.2188758248682006,\n 'graduat': 2.302585092994046,\n 'experi': 2.302585092994046,\n 'level': 2.302585092994046,\n 'higher': 3.2188758248682006,\n 'competit': 3.6119184129778086,\n 'howev': 3.2188758248682006,\n 'longer': 2.302585092994046,\n 'stay': 2.302585092994046,\n 'without': 3.2188758248682006,\n 'new': 3.6651629274966204,\n 'labor': 3.2188758248682006,\n 'particularli': 3.2188758248682006,\n 'face': 3.2188758248682006,\n 'futur': 2.302585092994046,\n 'latin': 2.302585092994046,\n 'america': 2.302585092994046,\n 'cost': 3.6651629274966204,\n 'significantli': 2.302585092994046,\n 'lower': 2.302585092994046,\n 'engin': 2.302585092994046,\n 'plan': 3.2188758248682006,\n 'unspecifi': 2.302585092994046,\n 'fourth': 2.302585092994046,\n 'quarter': 2.302585092994046,\n 'repres': 3.6119184129778086,\n 'fort': 2.302585092994046,\n 'wayn': 2.302585092994046,\n 'ind': 2.302585092994046,\n 'melros': 2.302585092994046,\n 'park': 2.302585092994046,\n 'locat': 2.302585092994046,\n 'approv': 3.2188758248682006,\n 'proceed': 2.302585092994046,\n 'previous': 2.302585092994046,\n 'focu': 2.302585092994046,\n 'assembl': 2.302585092994046,\n 'exclus': 2.302585092994046,\n 'chatham': 2.302585092994046,\n 'ontario': 2.302585092994046,\n 'focus': 2.302585092994046,\n 'also': 3.6651629274966204,\n 'introduc': 2.302585092994046,\n 'build': 3.6119184129778086,\n 'promis': 3.2188758248682006,\n 'made': 3.2188758248682006,\n 'give': 3.2188758248682006,\n 'exact': 2.302585092994046,\n 'estim': 3.2188758248682006,\n 'much': 2.302585092994046,\n 'depend': 3.6119184129778086,\n 'upon': 2.302585092994046,\n 'success': 2.302585092994046,\n 'stock': 3.2188758248682006,\n 'rose': 2.302585092994046,\n 'end': 3.6651629274966204,\n 'york': 2.302585092994046,\n 'exchang': 3.2188758248682006,\n 'teamster': 2.302585092994046,\n 'carey': 2.302585092994046,\n 'trade': 3.6651629274966204,\n 'next': 3.6119184129778086,\n 'battleground': 2.302585092994046,\n 'ron': 2.302585092994046,\n 'major': 2.302585092994046,\n 'legisl': 2.302585092994046,\n 'tent': 2.302585092994046,\n 'settl': 2.302585092994046,\n 'strike': 2.302585092994046,\n 'parcel': 2.302585092994046,\n 'servic': 3.2188758248682006,\n 'news': 2.302585092994046,\n 'fight': 3.2188758248682006,\n 'stop': 2.302585092994046,\n 'fast': 2.302585092994046,\n 'track': 2.302585092994046,\n 'negoti': 3.2188758248682006,\n 'expans': 3.2188758248682006,\n 'north': 3.6651629274966204,\n 'american': 3.6119184129778086,\n 'free': 3.6119184129778086,\n 'nafta': 3.2188758248682006,\n 'nation': 3.6119184129778086,\n 'largest': 2.302585092994046,\n 'packag': 3.2188758248682006,\n 'deliveri': 2.302585092994046,\n 'wa': 3.6651629274966204,\n 'battl': 2.302585092994046,\n 'approach': 2.302585092994046,\n 'corpor': 2.302585092994046,\n 'two': 3.6651629274966204,\n 'reach': 3.2188758248682006,\n 'settlement': 3.2188758248682006,\n 'expect': 3.2188758248682006,\n 'return': 3.2188758248682006,\n 'job': 3.2188758248682006,\n 'thi': 3.6651629274966204,\n 'week': 3.2188758248682006,\n 'part': 2.302585092994046,\n 'concept': 2.302585092994046,\n 'throw': 2.302585092994046,\n 'away': 3.2188758248682006,\n 'exploit': 2.302585092994046,\n 'countri': 3.6119184129778086,\n 'mexico': 3.2188758248682006,\n 'day': 2.302585092994046,\n 'start': 3.6119184129778086,\n 'get': 3.6119184129778086,\n 'organ': 3.2188758248682006,\n 'place': 2.302585092994046,\n 'anoth': 2.302585092994046,\n 'clinton': 3.6119184129778086,\n 'send': 3.2188758248682006,\n 'congress': 3.2188758248682006,\n 'month': 3.6651629274966204,\n 'launch': 2.302585092994046,\n 'campaign': 2.302585092994046,\n 'win': 2.302585092994046,\n 'passag': 2.302585092994046,\n 'right': 3.2188758248682006,\n 'amend': 3.6119184129778086,\n 'agre': 3.6119184129778086,\n 'onli': 2.302585092994046,\n 'view': 3.2188758248682006,\n 'loser': 2.302585092994046,\n 'vow': 2.302585092994046,\n 'administr': 3.6651629274966204,\n 'argu': 3.6119184129778086,\n 'need': 3.2188758248682006,\n 'market': 2.302585092994046,\n 'export': 3.6119184129778086,\n 'hope': 3.2188758248682006,\n 'author': 2.302585092994046,\n 'sinc': 3.2188758248682006,\n 'effort': 3.6651629274966204,\n 'renew': 3.2188758248682006,\n 'fail': 2.302585092994046,\n 'becuas': 2.302585092994046,\n 'republican': 3.6651629274966204,\n 'control': 2.302585092994046,\n 'democrat': 3.6119184129778086,\n 'whether': 3.2188758248682006,\n 'includ': 3.6651629274966204,\n 'environment': 2.302585092994046,\n 'issu': 3.6651629274966204,\n 'oppos': 3.2188758248682006,\n 'support': 3.2188758248682006,\n 'doe': 3.6119184129778086,\n 'compromis': 2.302585092994046,\n 'parti': 2.302585092994046,\n 'slovakia': 2.302585092994046,\n 'updat': 3.2188758248682006,\n 'aug': 2.302585092994046,\n 'key': 3.2188758248682006,\n 'interest': 3.6119184129778086,\n 'rate': 2.302585092994046,\n 'discount': 2.302585092994046,\n 'lombard': 2.302585092994046,\n 'last': 3.6119184129778086,\n 'jan': 2.302585092994046,\n 'juli': 3.2188758248682006,\n 'former': 3.2188758248682006,\n 'indic': 2.302585092994046,\n 'quarterli': 2.302585092994046,\n 'gross': 2.302585092994046,\n 'domest': 3.2188758248682006,\n 'fy': 2.302585092994046,\n 'real': 2.302585092994046,\n 'pct': 2.302585092994046,\n 'absolut': 2.302585092994046,\n 'amount': 3.6119184129778086,\n 'skk': 2.302585092994046,\n 'bln': 2.302585092994046,\n 'household': 2.302585092994046,\n 'demand': 2.302585092994046,\n 'state': 3.0649537425959443,\n 'capit': 2.302585092994046,\n 'creation': 2.302585092994046,\n 'import': 3.6119184129778086,\n 'reserv': 2.302585092994046,\n 'invest': 3.6119184129778086,\n 'index': 2.302585092994046,\n 'averag': 2.302585092994046,\n 'nomin': 2.302585092994046,\n 'monthli': 2.302585092994046,\n 'pv': 2.302585092994046,\n 'yr': 2.302585092994046,\n 'ago': 3.2188758248682006,\n 'slovak': 2.302585092994046,\n 'current': 2.302585092994046,\n 'account': 2.302585092994046,\n 'mln': 2.302585092994046,\n 'balanc': 2.302585092994046,\n 'incom': 2.302585092994046,\n 'transfer': 2.302585092994046,\n 'total': 2.302585092994046,\n 'direct': 2.302585092994046,\n 'abroad': 3.2188758248682006,\n 'portfolio': 2.302585092994046,\n 'net': 3.2188758248682006,\n 'financi': 2.302585092994046,\n 'fin': 3.2188758248682006,\n 'error': 2.302585092994046,\n 'ommiss': 2.302585092994046,\n 'note': 3.2188758248682006,\n 'figur': 2.302585092994046,\n 'dollar': 2.302585092994046,\n 'subject': 2.302585092994046,\n 'revis': 2.302585092994046,\n 'central': 3.2188758248682006,\n 'bank': 3.2188758248682006,\n 'use': 3.6119184129778086,\n 'calcul': 2.302585092994046,\n 'consum': 2.302585092994046,\n 'inflat': 2.302585092994046,\n 'june': 2.302585092994046,\n 'foodstuff': 2.302585092994046,\n 'soft': 2.302585092994046,\n 'drink': 2.302585092994046,\n 'alcohol': 2.302585092994046,\n 'tobacco': 3.2188758248682006,\n 'cloth': 2.302585092994046,\n 'shoe': 2.302585092994046,\n 'energi': 3.2188758248682006,\n 'util': 2.302585092994046,\n 'fuel': 2.302585092994046,\n 'furnitur': 2.302585092994046,\n 'applianc': 2.302585092994046,\n 'mainten': 2.302585092994046,\n 'healthcar': 2.302585092994046,\n 'transport': 2.302585092994046,\n 'leisur': 2.302585092994046,\n 'cultur': 2.302585092994046,\n 'educ': 3.2188758248682006,\n 'hotel': 2.302585092994046,\n 'cafe': 2.302585092994046,\n 'restaur': 2.302585092994046,\n 'variou': 2.302585092994046,\n 'good': 3.2188758248682006,\n 'produc': 2.302585092994046,\n 'price': 2.302585092994046,\n 'may': 3.6119184129778086,\n 'industri': 2.302585092994046,\n 'output': 2.302585092994046,\n 'construct': 3.6119184129778086,\n 'retail': 2.302585092994046,\n 'sale': 3.2188758248682006,\n 'indust': 2.302585092994046,\n 'dec': 2.302585092994046,\n 'chg': 2.302585092994046,\n 'unemploy': 2.302585092994046,\n 'april': 2.302585092994046,\n 'jobless': 2.302585092994046,\n 'percentag': 2.302585092994046,\n 'workforc': 2.302585092994046,\n 'foreign': 3.2188758248682006,\n 'forex': 2.302585092994046,\n 'nb': 2.302585092994046,\n 'commerci': 2.302585092994046,\n 'entir': 2.302585092994046,\n 'sector': 2.302585092994046,\n 'money': 3.2188758248682006,\n 'suppli': 2.302585092994046,\n 'mar': 2.302585092994046,\n 'overal': 2.302585092994046,\n 'target': 2.302585092994046,\n 'measur': 3.2188758248682006,\n 'currenc': 3.2188758248682006,\n 'deposit': 2.302585092994046,\n 'save': 2.302585092994046,\n 'budget': 3.6119184129778086,\n 'revenu': 2.302585092994046,\n 'expenditur': 2.302585092994046,\n 'bratislava': 2.302585092994046,\n 'newsroom': 2.302585092994046,\n 'ground': 2.302585092994046,\n 'broken': 2.302585092994046,\n 'nuclear': 3.2188758248682006,\n 'project': 2.302585092994046,\n 'consortium': 2.302585092994046,\n 'capitalist': 2.302585092994046,\n 'broke': 2.302585092994046,\n 'landmark': 2.302585092994046,\n 'communist': 2.302585092994046,\n 'korea': 3.2188758248682006,\n 'washington': 3.6651629274966204,\n 'seoul': 2.302585092994046,\n 'preserv': 2.302585092994046,\n 'peac': 3.2188758248682006,\n 'peninsula': 2.302585092994046,\n 'puff': 2.302585092994046,\n 'pink': 2.302585092994046,\n 'green': 2.302585092994046,\n 'orang': 3.2188758248682006,\n 'yellow': 2.302585092994046,\n 'smoke': 3.2188758248682006,\n 'belch': 2.302585092994046,\n 'hillsid': 2.302585092994046,\n 'northeastern': 2.302585092994046,\n 'town': 2.302585092994046,\n 'kumho': 2.302585092994046,\n 'korean': 3.2188758248682006,\n 'organis': 3.2188758248682006,\n 'kedo': 2.302585092994046,\n 'trigger': 2.302585092994046,\n 'symbol': 2.302585092994046,\n 'blast': 2.302585092994046,\n 'led': 2.302585092994046,\n 'south': 3.2188758248682006,\n 'japan': 2.302585092994046,\n 'respons': 3.2188758248682006,\n 'financ': 3.2188758248682006,\n 'reactor': 3.2188758248682006,\n 'billion': 3.6119184129778086,\n 'deliv': 2.302585092994046,\n 'pyongyang': 2.302585092994046,\n 'freez': 2.302585092994046,\n 'eventu': 2.302585092994046,\n 'dismantl': 2.302585092994046,\n 'suspect': 2.302585092994046,\n 'atom': 2.302585092994046,\n 'weapon': 2.302585092994046,\n 'programm': 3.2188758248682006,\n 'wit': 2.302585092994046,\n 'diplomat': 2.302585092994046,\n 'nine': 3.2188758248682006,\n 'european': 3.2188758248682006,\n 'put': 3.2188758248682006,\n 'white': 3.2188758248682006,\n 'glove': 2.302585092994046,\n 'releas': 2.302585092994046,\n 'barrag': 2.302585092994046,\n 'confetti': 2.302585092994046,\n 'streamer': 2.302585092994046,\n 'firework': 2.302585092994046,\n 'cascad': 2.302585092994046,\n 'among': 2.302585092994046,\n 'ceremoni': 2.302585092994046,\n 'journalist': 2.302585092994046,\n 'contractor': 2.302585092994046,\n 'bosworth': 3.2188758248682006,\n 'execut': 2.302585092994046,\n 'director': 2.302585092994046,\n 'polit': 2.302585092994046,\n 'becaus': 3.6119184129778086,\n 'help': 3.2188758248682006,\n 'establish': 2.302585092994046,\n 'credibl': 2.302585092994046,\n 'mark': 2.302585092994046,\n 'fulfil': 2.302585092994046,\n 'republ': 3.2188758248682006,\n 'awar': 2.302585092994046,\n 'initi': 3.6119184129778086,\n 'ensur': 2.302585092994046,\n 'secur': 3.2188758248682006,\n 'denuclearis': 2.302585092994046,\n 'chief': 3.2188758248682006,\n 'concert': 2.302585092994046,\n 'realis': 2.302585092994046,\n 'ideal': 2.302585092994046,\n 'form': 2.302585092994046,\n 'tokyo': 2.302585092994046,\n 'later': 2.302585092994046,\n 'expand': 2.302585092994046,\n 'australia': 2.302585092994046,\n 'canada': 2.302585092994046,\n 'chile': 2.302585092994046,\n 'finland': 2.302585092994046,\n 'indonesia': 2.302585092994046,\n 'zealand': 2.302585092994046,\n 'serv': 2.302585092994046,\n 'catalyst': 2.302585092994046,\n 'reconcili': 3.2188758248682006,\n 'cooper': 3.2188758248682006,\n 'reclus': 2.302585092994046,\n 'pay': 2.302585092994046,\n 'brought': 2.302585092994046,\n 'tonn': 2.302585092994046,\n 'equip': 2.302585092994046,\n 'roar': 2.302585092994046,\n 'life': 2.302585092994046,\n 'went': 2.302585092994046,\n 'bargain': 2.302585092994046,\n 'commun': 2.302585092994046,\n 'gain': 2.302585092994046,\n 'west': 2.302585092994046,\n 'enough': 2.302585092994046,\n 'plutonium': 2.302585092994046,\n 'bomb': 2.302585092994046,\n 'tri': 2.302585092994046,\n 'sell': 2.302585092994046,\n 'terrorist': 2.302585092994046,\n 'group': 3.6119184129778086,\n 'earn': 2.302585092994046,\n 'hard': 2.302585092994046,\n 'rescu': 2.302585092994046,\n 'impoverish': 2.302585092994046,\n 'crisi': 2.302585092994046,\n 'befor': 2.302585092994046,\n 'core': 2.302585092994046,\n 'built': 2.302585092994046,\n 'seven': 2.302585092994046,\n 'agenc': 3.2188758248682006,\n 'watchdog': 2.302585092994046,\n 'must': 2.302585092994046,\n 'satisfi': 2.302585092994046,\n 'come': 3.6119184129778086,\n 'clean': 2.302585092994046,\n 'gut': 2.302585092994046,\n 'joel': 2.302585092994046,\n 'deputi': 2.302585092994046,\n 'depart': 2.302585092994046,\n 'offic': 2.302585092994046,\n 'affair': 2.302585092994046,\n 'concret': 2.302585092994046,\n 'sign': 2.302585092994046,\n 'geneva': 2.302585092994046,\n 'octob': 2.302585092994046,\n 'pledg': 2.302585092994046,\n 'iaea': 2.302585092994046,\n 'conduct': 2.302585092994046,\n 'special': 2.302585092994046,\n 'inspect': 2.302585092994046,\n 'facil': 2.302585092994046,\n 'determin': 2.302585092994046,\n 'hidden': 2.302585092994046,\n 'ani': 2.302585092994046,\n 'western': 2.302585092994046,\n 'past': 3.2188758248682006,\n 'might': 3.2188758248682006,\n 'secretli': 2.302585092994046,\n 'kilo': 2.302585092994046,\n 'fissil': 2.302585092994046,\n 'materi': 2.302585092994046,\n 'experiment': 2.302585092994046,\n 'histor': 2.302585092994046,\n 'lead': 2.302585092994046,\n 'cold': 2.302585092994046,\n 'war': 2.302585092994046,\n 'confront': 2.302585092994046,\n 'municip': 2.302585092994046,\n 'calendar': 2.302585092994046,\n 'issuer': 2.302585092994046,\n 'date': 2.302585092994046,\n 'omit': 2.302585092994046,\n 'watertown': 2.302585092994046,\n 'mass': 3.2188758248682006,\n 'cobb': 2.302585092994046,\n 'cti': 2.302585092994046,\n 'recreat': 2.302585092994046,\n 'auth': 2.302585092994046,\n 'rev': 2.302585092994046,\n 'frenship': 2.302585092994046,\n 'isd': 2.302585092994046,\n 'texa': 2.302585092994046,\n 'three': 2.302585092994046,\n 'villag': 2.302585092994046,\n 'csd': 3.2188758248682006,\n 'kennedal': 2.302585092994046,\n 'sulphur': 2.302585092994046,\n 'spring': 2.302585092994046,\n 'lubbock': 2.302585092994046,\n 'westland': 2.302585092994046,\n 'oregon': 2.302585092994046,\n 'na': 2.302585092994046,\n 'sr': 2.302585092994046,\n 'manag': 2.302585092994046,\n 'granburi': 2.302585092994046,\n 'first': 2.302585092994046,\n 'southwest': 2.302585092994046,\n 'wk': 2.302585092994046,\n 'albani': 2.302585092994046,\n 'hous': 3.6651629274966204,\n 'nuveen': 2.302585092994046,\n 'massachusett': 2.302585092994046,\n 'ifa': 2.302585092994046,\n 'street': 2.302585092994046,\n 'california': 2.302585092994046,\n 'hlth': 2.302585092994046,\n 'fac': 2.302585092994046,\n 'morgan': 2.302585092994046,\n 'stanley': 2.302585092994046,\n 'baltimor': 2.302585092994046,\n 'md': 2.302585092994046,\n 'painewebb': 3.2188758248682006,\n 'spark': 2.302585092994046,\n 'redev': 2.302585092994046,\n 'miller': 2.302585092994046,\n 'schroeder': 2.302585092994046,\n 'modesto': 2.302585092994046,\n 'woodland': 2.302585092994046,\n 'hill': 2.302585092994046,\n 'sch': 2.302585092994046,\n 'dist': 2.302585092994046,\n 'pnc': 2.302585092994046,\n 'hampshir': 2.302585092994046,\n 'herbert': 2.302585092994046,\n 'sim': 2.302585092994046,\n 'hancock': 2.302585092994046,\n 'banc': 2.302585092994046,\n 'greater': 2.302585092994046,\n 'orlando': 2.302585092994046,\n 'aviat': 2.302585092994046,\n 'chase': 2.302585092994046,\n 'securitieswk': 2.302585092994046,\n 'yakima': 2.302585092994046,\n 'dain': 2.302585092994046,\n 'worcest': 2.302585092994046,\n 'ban': 2.302585092994046,\n 'lot': 2.302585092994046,\n 'b': 3.2188758248682006,\n 'denton': 2.302585092994046,\n 'tax': 2.302585092994046,\n 'inform': 2.302585092994046,\n 'senat': 3.6119184129778086,\n 'revers': 2.302585092994046,\n 'declin': 2.302585092994046,\n 'aid': 3.2188758248682006,\n 'thursday': 3.6119184129778086,\n 'boost': 2.302585092994046,\n 'fund': 3.2188758248682006,\n 'polici': 2.302585092994046,\n 'russia': 2.302585092994046,\n 'egypt': 2.302585092994046,\n 'cambodia': 2.302585092994046,\n 'fiscal': 3.2188758248682006,\n 'strong': 2.302585092994046,\n 'bipartisan': 2.302585092994046,\n 'increas': 2.302585092994046,\n 'decad': 2.302585092994046,\n 'still': 2.302585092994046,\n 'less': 3.6119184129778086,\n 'feder': 3.2188758248682006,\n 'spend': 3.2188758248682006,\n 'bill': 3.6119184129778086,\n 'provid': 2.302585092994046,\n 'request': 3.2188758248682006,\n 'loan': 2.302585092994046,\n 'assist': 2.302585092994046,\n 'gear': 2.302585092994046,\n 'behaviour': 2.302585092994046,\n 'oper': 3.2188758248682006,\n 'subcommitte': 3.2188758248682006,\n 'mitch': 2.302585092994046,\n 'mcconnel': 2.302585092994046,\n 'varieti': 2.302585092994046,\n 'provis': 3.2188758248682006,\n 'goal': 2.302585092994046,\n 'kentucki': 2.302585092994046,\n 'hi': 3.2188758248682006,\n 'altern': 3.2188758248682006,\n 'militari': 2.302585092994046,\n 'warn': 2.302585092994046,\n 'recipi': 2.302585092994046,\n 'panel': 3.2188758248682006,\n 'review': 2.302585092994046,\n 'meet': 2.302585092994046,\n 'entitl': 2.302585092994046,\n 'someth': 2.302585092994046,\n 'automat': 2.302585092994046,\n 'got': 2.302585092994046,\n 'relat': 2.302585092994046,\n 'committe': 3.6119184129778086,\n 'joe': 2.302585092994046,\n 'biden': 2.302585092994046,\n 'delawar': 2.302585092994046,\n 'prais': 2.302585092994046,\n 'better': 3.2188758248682006,\n 'democraci': 2.302585092994046,\n 'human': 2.302585092994046,\n 'abraod': 2.302585092994046,\n 'dure': 3.2188758248682006,\n 'debat': 3.2188758248682006,\n 'cut': 2.302585092994046,\n 'restrict': 3.2188758248682006,\n 'religi': 2.302585092994046,\n 'freedom': 2.302585092994046,\n 'becam': 2.302585092994046,\n 'law': 2.302585092994046,\n 'freeli': 2.302585092994046,\n 'fairli': 2.302585092994046,\n 'elect': 3.2188758248682006,\n 'govern': 3.2188758248682006,\n 'conting': 2.302585092994046,\n 'moscow': 2.302585092994046,\n 'halt': 2.302585092994046,\n 'iran': 2.302585092994046,\n 'certif': 2.302585092994046,\n 'process': 2.302585092994046,\n 'deem': 2.302585092994046,\n 'drug': 3.6119184129778086,\n 'thu': 2.302585092994046,\n 'qualifi': 2.302585092994046,\n 'show': 2.302585092994046,\n 'continu': 2.302585092994046,\n 'castro': 2.302585092994046,\n 'refus': 2.302585092994046,\n 'famili': 2.302585092994046,\n 'cuba': 2.302585092994046,\n 'fire': 2.302585092994046,\n 'troop': 2.302585092994046,\n 'hold': 2.302585092994046,\n 'certifi': 2.302585092994046,\n 'armistic': 2.302585092994046,\n 'violat': 2.302585092994046,\n 'occur': 2.302585092994046,\n 'usual': 2.302585092994046,\n 'israel': 2.302585092994046,\n 'receiv': 2.302585092994046,\n 'bulk': 2.302585092994046,\n 'given': 2.302585092994046,\n 'middl': 2.302585092994046,\n 'east': 2.302585092994046,\n 'set': 2.302585092994046,\n 'asid': 2.302585092994046,\n 'cairo': 2.302585092994046,\n 'jordan': 2.302585092994046,\n 'eastern': 2.302585092994046,\n 'europ': 2.302585092994046,\n 'baltic': 2.302585092994046,\n 'soviet': 2.302585092994046,\n 'half': 2.302585092994046,\n 'ukrain': 2.302585092994046,\n 'regard': 2.302585092994046,\n 'reform': 2.302585092994046,\n 'corrupt': 2.302585092994046,\n 'congo': 2.302585092994046,\n 'laurent': 2.302585092994046,\n 'kabila': 2.302585092994046,\n 'investig': 2.302585092994046,\n 'alleg': 2.302585092994046,\n 'kill': 2.302585092994046,\n 'hutu': 2.302585092994046,\n 'tariff': 2.302585092994046,\n 'caribbean': 2.302585092994046,\n 'order': 2.302585092994046,\n 'offset': 2.302585092994046,\n 'unfair': 2.302585092994046,\n 'unfairli': 2.302585092994046,\n 'impact': 2.302585092994046,\n 'cbi': 2.302585092994046,\n 'basin': 2.302585092994046,\n 'arizona': 2.302585092994046,\n 'mccain': 2.302585092994046,\n 'florida': 2.302585092994046,\n 'bob': 2.302585092994046,\n 'graham': 2.302585092994046,\n 'letter': 3.2188758248682006,\n 'becom': 2.302585092994046,\n 'expens': 2.302585092994046,\n 'compar': 2.302585092994046,\n 'divert': 2.302585092994046,\n 'accord': 2.302585092994046,\n 'consid': 2.302585092994046,\n 'reloc': 2.302585092994046,\n 'coupl': 2.302585092994046,\n 'world': 2.302585092994046,\n 'wto': 2.302585092994046,\n 'recent': 2.302585092994046,\n 'banana': 2.302585092994046,\n 'rule': 2.302585092994046,\n 'illicit': 2.302585092994046,\n 'traffick': 2.302585092994046,\n 'struck': 2.302585092994046,\n 'preferenti': 2.302585092994046,\n 'reduct': 2.302585092994046,\n 'address': 2.302585092994046,\n 'matter': 2.302585092994046,\n 'newsdesk': 2.302585092994046,\n 'squar': 2.302585092994046,\n 'roosevelt': 2.302585092994046,\n 'cross': 2.302585092994046,\n 'district': 2.302585092994046,\n 'bond': 3.2188758248682006,\n 'sebastopol': 2.302585092994046,\n 'uesd': 2.302585092994046,\n 'gener': 3.2188758248682006,\n 'obligaiton': 2.302585092994046,\n 'seri': 2.302585092994046,\n 'true': 2.302585092994046,\n 'usda': 2.302585092994046,\n 'urg': 2.302585092994046,\n 'insur': 2.302585092994046,\n 'agricultur': 2.302585092994046,\n 'secretari': 2.302585092994046,\n 'dan': 2.302585092994046,\n 'glickman': 2.302585092994046,\n 'crop': 2.302585092994046,\n 'protect': 2.302585092994046,\n 'grower': 2.302585092994046,\n 'speech': 2.302585092994046,\n 'sent': 2.302585092994046,\n 'regist': 2.302585092994046,\n 'concern': 2.302585092994046,\n 'lawmak': 2.302585092994046,\n 'sometim': 2.302585092994046,\n 'friday': 2.302585092994046,\n 'appropri': 2.302585092994046,\n 'defeat': 2.302585092994046,\n 'voic': 2.302585092994046,\n 'stand': 2.302585092994046,\n 'chanc': 2.302585092994046,\n 'floor': 2.302585092994046,\n 'feel': 2.302585092994046,\n 'want': 2.302585092994046,\n 'marker': 2.302585092994046,\n 'attorney': 2.302585092994046,\n 'uncertain': 2.302585092994046,\n 'fate': 2.302585092994046,\n 'mani': 2.302585092994046,\n 'demonstr': 2.302585092994046,\n 'tough': 2.302585092994046,\n 'stanc': 2.302585092994046,\n 'oppon': 2.302585092994046,\n 'noth': 2.302585092994046,\n 'curb': 2.302585092994046,\n 'injur': 2.302585092994046,\n 'instead': 2.302585092994046,\n 'fall': 2.302585092994046,\n 'hardest': 2.302585092994046,\n 'farmer': 2.302585092994046,\n 'heavili': 2.302585092994046,\n 'often': 2.302585092994046,\n 'meanwhil': 2.302585092994046,\n 'pend': 2.302585092994046,\n 'contain': 2.302585092994046,\n 'enforc': 2.302585092994046,\n 'food': 2.302585092994046,\n 'regul': 2.302585092994046,\n 'earlier': 2.302585092994046,\n 'recommend': 2.302585092994046,\n 'thad': 2.302585092994046,\n 'cochran': 2.302585092994046,\n 'mississippi': 2.302585092994046,\n 'activ': 2.302585092994046,\n 'commod': 2.302585092994046,\n 'desk': 2.302585092994046}"
     },
     "metadata": {},
     "output_type": "execute_result",
     "execution_count": 22
    }
   ],
   "source": [
    "convert_to_tfidf(bow_collections['finance'],finance_idf)"
   ]
  },
  {
   "cell_type": "markdown",
   "metadata": {},
   "source": [
    "### Exercise 2.3\n",
    "* Convert both of your document collections so that the weights are tfidf values rather than frequencies.  Which idf_values should you use in each case?\n",
    "* Recompute the average similarity between each collection of documents (as in Ex 1.3).\n",
    "* What do you notice?\n",
    "* As an extension, try increasing the sizes of the collections.  What do you notice now?"
   ]
  },
  {
   "cell_type": "code",
   "execution_count": 23,
   "metadata": {
    "pycharm": {
     "is_executing": false
    }
   },
   "outputs": [
    {
     "data": {
      "text/plain": "1.0"
     },
     "metadata": {},
     "output_type": "execute_result",
     "execution_count": 23
    }
   ],
   "source": [
    "cos_sim(convert_to_tfidf(bow_collections['finance'],finance_idf),convert_to_tfidf(bow_collections['finance'],finance_idf))"
   ]
  },
  {
   "cell_type": "code",
   "execution_count": null,
   "metadata": {
    "pycharm": {
     "is_executing": false
    }
   },
   "outputs": [],
   "source": []
  }
 ],
 "metadata": {
  "kernelspec": {
   "display_name": "Python 3",
   "language": "python",
   "name": "python3"
  },
  "language_info": {
   "codemirror_mode": {
    "name": "ipython",
    "version": 3
   },
   "file_extension": ".py",
   "mimetype": "text/x-python",
   "name": "python",
   "nbconvert_exporter": "python",
   "pygments_lexer": "ipython3",
   "version": "3.7.3"
  },
  "pycharm": {
   "stem_cell": {
    "cell_type": "raw",
    "source": [],
    "metadata": {
     "collapsed": false
    }
   }
  }
 },
 "nbformat": 4,
 "nbformat_minor": 2
}