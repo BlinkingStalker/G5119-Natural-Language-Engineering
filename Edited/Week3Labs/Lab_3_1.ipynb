{
 "cells": [
  {
   "cell_type": "markdown",
   "metadata": {},
   "source": [
    "# Week 3: Basic Document Classification (Part 1)"
   ]
  },
  {
   "cell_type": "markdown",
   "metadata": {},
   "source": [
    "## Preliminaries "
   ]
  },
  {
   "cell_type": "code",
   "execution_count": 1,
   "metadata": {
    "pycharm": {
     "is_executing": false
    }
   },
   "outputs": [
    {
     "name": "stdout",
     "text": [
      "Sussex NLTK root directory is \\\\ad.susx.ac.uk\\ITS\\TeachingResources\\Departments\\Informatics\\LanguageEngineering\\resources\n"
     ],
     "output_type": "stream"
    }
   ],
   "source": [
    "#necessary library imports and setup introduced previously\n",
    "\n",
    "import sys\n",
    "sys.path.append(r'T:\\Departments\\Informatics\\LanguageEngineering') \n",
    "sys.path.append(r'\\\\ad.susx.ac.uk\\ITS\\TeachingResources\\Departments\\Informatics\\LanguageEngineering\\resources')\n",
    "sys.path.append(r'/Users/juliewe/resources')\n",
    "\n",
    "import re\n",
    "import pandas as pd\n",
    "import matplotlib.pyplot as plt\n",
    "%matplotlib inline\n",
    "from itertools import zip_longest\n",
    "from nltk.tokenize import word_tokenize\n",
    "\n",
    "from sussex_nltk.corpus_readers import ReutersCorpusReader"
   ]
  },
  {
   "cell_type": "markdown",
   "metadata": {},
   "source": [
    "## Overview \n",
    "In labs this week (and next), the focus will be on the application of sentiment analysis. You will be using a corpus of **book reviews** within an **Amazon review corpus**.\n",
    "\n",
    "You will be exploring various techniques that can be used to classify the sentiment of Amazon book reviews as either positive or negative. \n",
    "\n",
    "You will be developing your own **Word List** and **Naïve Bayes** classifiers and then comparing them to the **NLTK Naïve Bayes** classifier."
   ]
  },
  {
   "cell_type": "markdown",
   "metadata": {},
   "source": [
    "## Creating training and testing sets\n",
    "You will be training and testing various document classifiers. It is essential that the data used in the testing phase is not used during the training phase, since this can lead to overestimating performance. \n",
    "\n",
    "We now introduce the `split_data` function (defined in the cell below) which can be used to get separate **training** and **testing** sets.\n",
    "\n",
    "> Look through the code in the following cell, reading the comments and making sure that you understand each line."
   ]
  },
  {
   "cell_type": "code",
   "execution_count": 2,
   "metadata": {
    "pycharm": {
     "is_executing": false
    }
   },
   "outputs": [],
   "source": [
    "from random import sample # have a look at https://docs.python.org/3/library/random.html to see what random.sample does\n",
    "from sussex_nltk.corpus_readers import AmazonReviewCorpusReader\n",
    "\n",
    " \n",
    "def split_data(data, ratio=0.7): # when the second argument is not given, it defaults to 0.7\n",
    "    \"\"\"\n",
    "    Given corpus generator and ratio:\n",
    "     - partitions the corpus into training data and test data, where the proportion in train is ratio,\n",
    "\n",
    "    :param data: A corpus generator.\n",
    "    :param ratio: The proportion of training documents (default 0.7)\n",
    "    :return: a pair (tuple) of lists where the first element of the \n",
    "            pair is a list of the training data and the second is a list of the test data.\n",
    "    \"\"\"\n",
    "    \n",
    "    data = list(data) # data is a generator, so this puts all the generated items in a list\n",
    " \n",
    "    n = len(data)  #Found out number of samples present\n",
    "    train_indices = sample(range(n), int(n * ratio))          #Randomly select training indices\n",
    "    test_indices = list(set(range(n)) - set(train_indices))   #Other items are testing indices\n",
    " \n",
    "    train = [data[i] for i in train_indices]           #Use training indices to select data\n",
    "    test = [data[i] for i in test_indices]             #Use testing indices to select data\n",
    " \n",
    "    return (train, test)                       #Return split data\n",
    " "
   ]
  },
  {
   "cell_type": "markdown",
   "metadata": {},
   "source": [
    "Now we can use this function together with a <code>reader</code> object  to create training and testing data.  Note that the <code>AmazonReviewCorpusReader().category(\"dvd\")</code> returns a reader over just the *dvd* reviews.  The methods <code>positive()</code>, <code>negative()</code> can be called to create readers over reviews classified accordingly to their sentiment.  "
   ]
  },
  {
   "cell_type": "code",
   "execution_count": 3,
   "metadata": {
    "pycharm": {
     "is_executing": false
    }
   },
   "outputs": [],
   "source": [
    "#Create an Amazon corpus reader pointing at only dvd reviews\n",
    "dvd_reader = AmazonReviewCorpusReader().category(\"dvd\")\n",
    "\n",
    "#The following two lines use the documents function on the Amazon corpus reader. \n",
    "#This returns a generator over reviews in the corpus. \n",
    "#Each review is an instance of a Python class called AmazonReview. \n",
    "#An AmazonReview object contains all the data about a review.\n",
    "pos_train, pos_test = split_data(dvd_reader.positive().documents())\n",
    "neg_train, neg_test = split_data(dvd_reader.negative().documents())\n",
    "\n",
    "#You can also combine the training data\n",
    "train = pos_train + neg_train\n"
   ]
  },
  {
   "cell_type": "markdown",
   "metadata": {},
   "source": [
    "### Exercise 1.1\n",
    "* Generate 80:20 *training*:*testing* splits of all 4 categories of reviews (*dvd*, *book*, *kitchen* and *electronics*), containing **positive** and **negative** reviews.  \n",
    "* Record the number of reviews according to category, sentiment and dataset (training or testing) in a Pandas dataframe\n",
    "* Answer the following questions:\n",
    "    1. Regarding the *training* data for *books*, how many are a) **positive**, b) **negative**?\n",
    "    2. Regarding the **negative** *testing* data for, how many are there for each category: a) *dvd*, b) *book*, c) *kitchen* and d) *electronics*? "
   ]
  },
  {
   "cell_type": "code",
   "execution_count": 4,
   "metadata": {
    "pycharm": {
     "is_executing": false
    }
   },
   "outputs": [
    {
     "data": {
      "text/plain": "                                              Positive  \\\n0    <review>\\n<unique_id>\\n0785758968:one_of_the_b...   \n1    <review>\\n<unique_id>\\n0452279550:the_medicine...   \n2    <review>\\n<unique_id>\\n1599620065:beautiful!:s...   \n3    <review>\\n<unique_id>\\n0743277724:for_lovers_o...   \n4    <review>\\n<unique_id>\\n061318114X:excellent_an...   \n..                                                 ...   \n995  <review>\\n<unique_id>\\n0618256288:interesting_...   \n996  <review>\\n<unique_id>\\n0152024867:best_book_fo...   \n997  <review>\\n<unique_id>\\n1565843584:fascinating_...   \n998  <review>\\n<unique_id>\\n1580131581:it's_shofar_...   \n999  <review>\\n<unique_id>\\n0316059625:we_love_this...   \n\n                                              Negative  \n0    <review>\\n<unique_id>\\n0312355645:horrible_boo...  \n1    <review>\\n<unique_id>\\n1559278676:shallow_self...  \n2    <review>\\n<unique_id>\\n1559278676:horrible_boo...  \n3    <review>\\n<unique_id>\\n0425193373:disappointme...  \n4    <review>\\n<unique_id>\\n0142004030:a_disappoint...  \n..                                                 ...  \n995  <review>\\n<unique_id>\\n0385514573:a_nice_place...  \n996  <review>\\n<unique_id>\\n0385514573:boring:o._go...  \n997  <review>\\n<unique_id>\\n097160200X:lacking:m._r...  \n998  <review>\\n<unique_id>\\n1564147363:okay_for_ide...  \n999  <review>\\n<unique_id>\\n0312273193:it's_just_\"r...  \n\n[1000 rows x 2 columns]",
      "text/html": "<div>\n<style scoped>\n    .dataframe tbody tr th:only-of-type {\n        vertical-align: middle;\n    }\n\n    .dataframe tbody tr th {\n        vertical-align: top;\n    }\n\n    .dataframe thead th {\n        text-align: right;\n    }\n</style>\n<table border=\"1\" class=\"dataframe\">\n  <thead>\n    <tr style=\"text-align: right;\">\n      <th></th>\n      <th>Positive</th>\n      <th>Negative</th>\n    </tr>\n  </thead>\n  <tbody>\n    <tr>\n      <td>0</td>\n      <td>&lt;review&gt;\\n&lt;unique_id&gt;\\n0785758968:one_of_the_b...</td>\n      <td>&lt;review&gt;\\n&lt;unique_id&gt;\\n0312355645:horrible_boo...</td>\n    </tr>\n    <tr>\n      <td>1</td>\n      <td>&lt;review&gt;\\n&lt;unique_id&gt;\\n0452279550:the_medicine...</td>\n      <td>&lt;review&gt;\\n&lt;unique_id&gt;\\n1559278676:shallow_self...</td>\n    </tr>\n    <tr>\n      <td>2</td>\n      <td>&lt;review&gt;\\n&lt;unique_id&gt;\\n1599620065:beautiful!:s...</td>\n      <td>&lt;review&gt;\\n&lt;unique_id&gt;\\n1559278676:horrible_boo...</td>\n    </tr>\n    <tr>\n      <td>3</td>\n      <td>&lt;review&gt;\\n&lt;unique_id&gt;\\n0743277724:for_lovers_o...</td>\n      <td>&lt;review&gt;\\n&lt;unique_id&gt;\\n0425193373:disappointme...</td>\n    </tr>\n    <tr>\n      <td>4</td>\n      <td>&lt;review&gt;\\n&lt;unique_id&gt;\\n061318114X:excellent_an...</td>\n      <td>&lt;review&gt;\\n&lt;unique_id&gt;\\n0142004030:a_disappoint...</td>\n    </tr>\n    <tr>\n      <td>...</td>\n      <td>...</td>\n      <td>...</td>\n    </tr>\n    <tr>\n      <td>995</td>\n      <td>&lt;review&gt;\\n&lt;unique_id&gt;\\n0618256288:interesting_...</td>\n      <td>&lt;review&gt;\\n&lt;unique_id&gt;\\n0385514573:a_nice_place...</td>\n    </tr>\n    <tr>\n      <td>996</td>\n      <td>&lt;review&gt;\\n&lt;unique_id&gt;\\n0152024867:best_book_fo...</td>\n      <td>&lt;review&gt;\\n&lt;unique_id&gt;\\n0385514573:boring:o._go...</td>\n    </tr>\n    <tr>\n      <td>997</td>\n      <td>&lt;review&gt;\\n&lt;unique_id&gt;\\n1565843584:fascinating_...</td>\n      <td>&lt;review&gt;\\n&lt;unique_id&gt;\\n097160200X:lacking:m._r...</td>\n    </tr>\n    <tr>\n      <td>998</td>\n      <td>&lt;review&gt;\\n&lt;unique_id&gt;\\n1580131581:it's_shofar_...</td>\n      <td>&lt;review&gt;\\n&lt;unique_id&gt;\\n1564147363:okay_for_ide...</td>\n    </tr>\n    <tr>\n      <td>999</td>\n      <td>&lt;review&gt;\\n&lt;unique_id&gt;\\n0316059625:we_love_this...</td>\n      <td>&lt;review&gt;\\n&lt;unique_id&gt;\\n0312273193:it's_just_\"r...</td>\n    </tr>\n  </tbody>\n</table>\n<p>1000 rows × 2 columns</p>\n</div>"
     },
     "metadata": {},
     "output_type": "execute_result",
     "execution_count": 4
    }
   ],
   "source": [
    "reader_dvd = AmazonReviewCorpusReader().category(\"dvd\")\n",
    "reader_book = AmazonReviewCorpusReader().category(\"book\")\n",
    "reader_kitchen = AmazonReviewCorpusReader().category(\"kitchen\")\n",
    "reader_electronics = AmazonReviewCorpusReader().category(\"electronics\")\n",
    "\n",
    "pos_train_dvd, pos_test_dvd = split_data(reader_dvd.positive().documents(),0.8)\n",
    "neg_train_dvd, neg_test_dvd = split_data(reader_dvd.negative().documents(),0.8)\n",
    "\n",
    "pos_train_book, pos_test_book = split_data(reader_book.positive().documents(),0)\n",
    "neg_train_book, neg_test_book = split_data(reader_book.negative().documents(),0)\n",
    "\n",
    "pos_train_kitchen, pos_test_kitchen = split_data(reader_kitchen.positive().documents(),0.8)\n",
    "neg_train_kitchen, neg_test_kitchen = split_data(reader_kitchen.negative().documents(),0.8)\n",
    "\n",
    "pos_train_electronics, pos_test_electronics = split_data(reader_electronics.positive().documents(),0.8)\n",
    "neg_train_electronics, neg_test_electronics = split_data(reader_electronics.negative().documents(),0.8)\n",
    "\n",
    "pd.DataFrame(list(zip_longest(pos_test_book,neg_test_book)),columns=[\"Positive\", \"Negative\"])\n",
    "\n"
   ]
  },
  {
   "cell_type": "code",
   "execution_count": 5,
   "metadata": {
    "pycharm": {
     "is_executing": false
    }
   },
   "outputs": [
    {
     "data": {
      "text/plain": "                                          neg_test_dvd  \\\n0    <review>\\n<unique_id>\\nB00064LJVE:one_of_the_w...   \n1    <review>\\n<unique_id>\\nB000BYA4F6:fun_to_watch...   \n2    <review>\\n<unique_id>\\nB00005JKG9:i_have_a_dif...   \n3    <review>\\n<unique_id>\\nB000GFLKF8:not_too_impr...   \n4    <review>\\n<unique_id>\\nB000BKVQS4:not_much_for...   \n..                                                 ...   \n295  <review>\\n<unique_id>\\nB000FILVFA:potentially_...   \n296  <review>\\n<unique_id>\\nB000BB96LW:euuuwww........   \n297  <review>\\n<unique_id>\\nB000127Z9G:lacking_alot...   \n298  <review>\\n<unique_id>\\nB000063VBJ:how_to_destr...   \n299  <review>\\n<unique_id>\\nB00005B209:reinventing_...   \n\n                                         neg_test_book  \\\n0    <review>\\n<unique_id>\\n1559278676:horrible_boo...   \n1    <review>\\n<unique_id>\\n0895261537:save_your_mo...   \n2    <review>\\n<unique_id>\\n0380725835:unendurable_...   \n3    <review>\\n<unique_id>\\n0805076158:interesting_...   \n4    <review>\\n<unique_id>\\n0842329277:the_half-way...   \n..                                                 ...   \n295  <review>\\n<unique_id>\\n006440966X:dragged_down...   \n296  <review>\\n<unique_id>\\n158131129X:weak_cases:y...   \n297  <review>\\n<unique_id>\\n0394586980:weak_link_in...   \n298  <review>\\n<unique_id>\\n1419375385:good_start_-...   \n299  <review>\\n<unique_id>\\n1596911042:microserfs_2...   \n\n                                      neg_test_kitchen  \\\n0    <review>\\n<unique_id>\\nB00015USLK:ok,_the_shee...   \n1    <review>\\n<unique_id>\\nB0006N2O0U:save_your_mo...   \n2    <review>\\n<unique_id>\\nB000634GCO:i_am_returni...   \n3    <review>\\n<unique_id>\\nB000096JFW:poor_negativ...   \n4    <review>\\n<unique_id>\\nB0001LB9RG:leaky_mess:c...   \n..                                                 ...   \n295  <review>\\n<unique_id>\\nB0000CBI4E:just_a_regul...   \n296  <review>\\n<unique_id>\\nB0002XGRCK:don't_buy_th...   \n297  <review>\\n<unique_id>\\nB0002Y5XM4:looks_great_...   \n298  <review>\\n<unique_id>\\nB00022HZ04:it_is_an_exp...   \n299  <review>\\n<unique_id>\\nB00005NCX2:piece_of_gar...   \n\n                                  neg_test_electronics  \n0    <review>\\n<unique_id>\\nB0001YFW3K:not_so_great...  \n1    <review>\\n<unique_id>\\nB000BD35SK:horribly_noi...  \n2    <review>\\n<unique_id>\\nB0002E1HGK:low_quality:...  \n3    <review>\\n<unique_id>\\nB000093IRC:waste_of_mon...  \n4    <review>\\n<unique_id>\\nB000093IRC:good_when_it...  \n..                                                 ...  \n295  <review>\\n<unique_id>\\nB0001OTBUK:images_heavi...  \n296  <review>\\n<unique_id>\\nB0000CEPE8:too_many_pro...  \n297  <review>\\n<unique_id>\\nB00004Z0C7:long_cord_di...  \n298  <review>\\n<unique_id>\\nB00004Z6BJ:terrible_net...  \n299  <review>\\n<unique_id>\\nB00004Z6BJ:ahhh!_its_ho...  \n\n[300 rows x 4 columns]",
      "text/html": "<div>\n<style scoped>\n    .dataframe tbody tr th:only-of-type {\n        vertical-align: middle;\n    }\n\n    .dataframe tbody tr th {\n        vertical-align: top;\n    }\n\n    .dataframe thead th {\n        text-align: right;\n    }\n</style>\n<table border=\"1\" class=\"dataframe\">\n  <thead>\n    <tr style=\"text-align: right;\">\n      <th></th>\n      <th>neg_test_dvd</th>\n      <th>neg_test_book</th>\n      <th>neg_test_kitchen</th>\n      <th>neg_test_electronics</th>\n    </tr>\n  </thead>\n  <tbody>\n    <tr>\n      <td>0</td>\n      <td>&lt;review&gt;\\n&lt;unique_id&gt;\\nB00064LJVE:one_of_the_w...</td>\n      <td>&lt;review&gt;\\n&lt;unique_id&gt;\\n1559278676:horrible_boo...</td>\n      <td>&lt;review&gt;\\n&lt;unique_id&gt;\\nB00015USLK:ok,_the_shee...</td>\n      <td>&lt;review&gt;\\n&lt;unique_id&gt;\\nB0001YFW3K:not_so_great...</td>\n    </tr>\n    <tr>\n      <td>1</td>\n      <td>&lt;review&gt;\\n&lt;unique_id&gt;\\nB000BYA4F6:fun_to_watch...</td>\n      <td>&lt;review&gt;\\n&lt;unique_id&gt;\\n0895261537:save_your_mo...</td>\n      <td>&lt;review&gt;\\n&lt;unique_id&gt;\\nB0006N2O0U:save_your_mo...</td>\n      <td>&lt;review&gt;\\n&lt;unique_id&gt;\\nB000BD35SK:horribly_noi...</td>\n    </tr>\n    <tr>\n      <td>2</td>\n      <td>&lt;review&gt;\\n&lt;unique_id&gt;\\nB00005JKG9:i_have_a_dif...</td>\n      <td>&lt;review&gt;\\n&lt;unique_id&gt;\\n0380725835:unendurable_...</td>\n      <td>&lt;review&gt;\\n&lt;unique_id&gt;\\nB000634GCO:i_am_returni...</td>\n      <td>&lt;review&gt;\\n&lt;unique_id&gt;\\nB0002E1HGK:low_quality:...</td>\n    </tr>\n    <tr>\n      <td>3</td>\n      <td>&lt;review&gt;\\n&lt;unique_id&gt;\\nB000GFLKF8:not_too_impr...</td>\n      <td>&lt;review&gt;\\n&lt;unique_id&gt;\\n0805076158:interesting_...</td>\n      <td>&lt;review&gt;\\n&lt;unique_id&gt;\\nB000096JFW:poor_negativ...</td>\n      <td>&lt;review&gt;\\n&lt;unique_id&gt;\\nB000093IRC:waste_of_mon...</td>\n    </tr>\n    <tr>\n      <td>4</td>\n      <td>&lt;review&gt;\\n&lt;unique_id&gt;\\nB000BKVQS4:not_much_for...</td>\n      <td>&lt;review&gt;\\n&lt;unique_id&gt;\\n0842329277:the_half-way...</td>\n      <td>&lt;review&gt;\\n&lt;unique_id&gt;\\nB0001LB9RG:leaky_mess:c...</td>\n      <td>&lt;review&gt;\\n&lt;unique_id&gt;\\nB000093IRC:good_when_it...</td>\n    </tr>\n    <tr>\n      <td>...</td>\n      <td>...</td>\n      <td>...</td>\n      <td>...</td>\n      <td>...</td>\n    </tr>\n    <tr>\n      <td>295</td>\n      <td>&lt;review&gt;\\n&lt;unique_id&gt;\\nB000FILVFA:potentially_...</td>\n      <td>&lt;review&gt;\\n&lt;unique_id&gt;\\n006440966X:dragged_down...</td>\n      <td>&lt;review&gt;\\n&lt;unique_id&gt;\\nB0000CBI4E:just_a_regul...</td>\n      <td>&lt;review&gt;\\n&lt;unique_id&gt;\\nB0001OTBUK:images_heavi...</td>\n    </tr>\n    <tr>\n      <td>296</td>\n      <td>&lt;review&gt;\\n&lt;unique_id&gt;\\nB000BB96LW:euuuwww........</td>\n      <td>&lt;review&gt;\\n&lt;unique_id&gt;\\n158131129X:weak_cases:y...</td>\n      <td>&lt;review&gt;\\n&lt;unique_id&gt;\\nB0002XGRCK:don't_buy_th...</td>\n      <td>&lt;review&gt;\\n&lt;unique_id&gt;\\nB0000CEPE8:too_many_pro...</td>\n    </tr>\n    <tr>\n      <td>297</td>\n      <td>&lt;review&gt;\\n&lt;unique_id&gt;\\nB000127Z9G:lacking_alot...</td>\n      <td>&lt;review&gt;\\n&lt;unique_id&gt;\\n0394586980:weak_link_in...</td>\n      <td>&lt;review&gt;\\n&lt;unique_id&gt;\\nB0002Y5XM4:looks_great_...</td>\n      <td>&lt;review&gt;\\n&lt;unique_id&gt;\\nB00004Z0C7:long_cord_di...</td>\n    </tr>\n    <tr>\n      <td>298</td>\n      <td>&lt;review&gt;\\n&lt;unique_id&gt;\\nB000063VBJ:how_to_destr...</td>\n      <td>&lt;review&gt;\\n&lt;unique_id&gt;\\n1419375385:good_start_-...</td>\n      <td>&lt;review&gt;\\n&lt;unique_id&gt;\\nB00022HZ04:it_is_an_exp...</td>\n      <td>&lt;review&gt;\\n&lt;unique_id&gt;\\nB00004Z6BJ:terrible_net...</td>\n    </tr>\n    <tr>\n      <td>299</td>\n      <td>&lt;review&gt;\\n&lt;unique_id&gt;\\nB00005B209:reinventing_...</td>\n      <td>&lt;review&gt;\\n&lt;unique_id&gt;\\n1596911042:microserfs_2...</td>\n      <td>&lt;review&gt;\\n&lt;unique_id&gt;\\nB00005NCX2:piece_of_gar...</td>\n      <td>&lt;review&gt;\\n&lt;unique_id&gt;\\nB00004Z6BJ:ahhh!_its_ho...</td>\n    </tr>\n  </tbody>\n</table>\n<p>300 rows × 4 columns</p>\n</div>"
     },
     "metadata": {},
     "output_type": "execute_result",
     "execution_count": 5
    }
   ],
   "source": [
    "neg_train_dvd, neg_test_dvd = split_data(reader_dvd.negative().documents())\n",
    "neg_train_book, neg_test_book = split_data(reader_book.negative().documents())\n",
    "neg_train_kitchen, neg_test_kitchen = split_data(reader_kitchen.negative().documents())\n",
    "neg_train_electronics, neg_test_electronics = split_data(reader_electronics.negative().documents())\n",
    "pd.DataFrame(list(zip_longest(neg_test_dvd,neg_test_book,neg_test_kitchen,neg_test_electronics))\n",
    "             ,columns=[\"neg_test_dvd\",\"neg_test_book\",\"neg_test_kitchen\",\"neg_test_electronics\"])"
   ]
  },
  {
   "cell_type": "markdown",
   "metadata": {},
   "source": [
    "## Creating word lists\n",
    "The next section will explain how to use a sentiment classifier that bases its decisions on word lists. The classifier requires a list of words indicating positive sentiment, and a second list of words indicating negative sentiment. Given positive and negative word lists, a document's overall sentiment is determined based on counts of occurrences of words that occur in the two lists. In this section we are concerned with the creation of the word lists. We will be considering both hand-crafted lists and automatically generated lists."
   ]
  },
  {
   "cell_type": "markdown",
   "metadata": {},
   "source": [
    "### Exercise 2.1\n",
    "\n",
    "- Create a reasonably long hand-crafted list of words that you think indicate positive sentiment.\n",
    "- Create a reasonably long hand-crafted list of words that indicate negative sentiment.\n",
    "\n",
    "Use the following cells to store these lists in the variables `my_positive_word_list` and `my_negative_word_list`."
   ]
  },
  {
   "cell_type": "code",
   "execution_count": 6,
   "metadata": {
    "pycharm": {
     "is_executing": false
    }
   },
   "outputs": [],
   "source": [
    "my_positive_word_list = [\"good\",\"great\",\"lovely\",\"best\"] # extend this one or put your own list here\n",
    "my_negative_word_list = [\"bad\", \"terrible\", \"awful\",\"worst\"] # extend this one or put your own list here"
   ]
  },
  {
   "cell_type": "markdown",
   "metadata": {},
   "source": [
    "Next, you should try to derive word lists from the data. One way to do this, is to use the most frequent words in positive reviews as your positive list, and the most frequent words in negative reviews as your negative list. This can be done with the [NLTK <code style=\"background-color: #F5F5F5;\">FreqDist</code>](http://www.nltk.org/api/nltk.html#module-nltk.probability) object. \n",
    "\n",
    "> You should make sure you understand the code in the cell below."
   ]
  },
  {
   "cell_type": "code",
   "execution_count": 7,
   "metadata": {
    "pycharm": {
     "is_executing": false
    }
   },
   "outputs": [],
   "source": [
    "from nltk.probability import FreqDist # see http://www.nltk.org/api/nltk.html#module-nltk.probability\n",
    "#from sussex_nltk.corpus_readers import AmazonReviewCorpusReader\n",
    "from functools import reduce # see https://docs.python.org/3/library/functools.html\n",
    "\n",
    "#Helper function. Given a list of reviews, return a list of all the words in those reviews\n",
    "#To understand this look at the description of functools.reduce in https://docs.python.org/3/library/functools.html\n",
    "def get_all_words(amazon_reviews):\n",
    "    return reduce(lambda words,review: words + review.words(), amazon_reviews, [])\n",
    "\n",
    "#A frequency distribution over all words in positive book reviews\n",
    "pos_freqdist = FreqDist(get_all_words(pos_train))\n",
    "neg_freqdist = FreqDist(get_all_words(neg_train))"
   ]
  },
  {
   "cell_type": "code",
   "execution_count": 8,
   "metadata": {
    "pycharm": {
     "is_executing": false
    }
   },
   "outputs": [
    {
     "data": {
      "text/plain": "FreqDist({'the': 5869, '.': 5585, ',': 5363, 'and': 3394, 'a': 2990, 'of': 2944, 'to': 2581, 'is': 2299, 'I': 1759, 'in': 1662, ...})"
     },
     "metadata": {},
     "output_type": "execute_result",
     "execution_count": 8
    }
   ],
   "source": [
    "pos_freqdist\n"
   ]
  },
  {
   "cell_type": "markdown",
   "metadata": {},
   "source": [
    "### Exercise 2.2\n",
    "Explain (in words) how the <code>get_all_words()</code> function works.  Your description should include details about\n",
    "1. the input\n",
    "2. the output\n",
    "3. the algorithm used to generate the output from the input"
   ]
  },
  {
   "cell_type": "markdown",
   "metadata": {
    "pycharm": {
     "name": "#%% md\n",
     "is_executing": false
    }
   },
   "source": []
  },
  {
   "cell_type": "markdown",
   "metadata": {},
   "source": [
    "### Exercise 2.3\n",
    "In the blank code cell below write code that uses the frequency lists, `pos_freqdist` and `neg_freqdist`, created in the above cell and `my_positive_word_list` and `my_negative_word_list` that you manually created earlier to determine whether or not the review data conforms to your expectations. In particular, whether:\n",
    "- the words you expected to indicate positive sentiment actually occur more frequently in positive reviews than negative reviews\n",
    "- the words you expected to indicate negative sentiment actually occur more frequently in negative reviews than positive reviews.\n",
    "\n",
    "Display your findings in a table using pandas."
   ]
  },
  {
   "cell_type": "code",
   "execution_count": 9,
   "metadata": {
    "pycharm": {
     "is_executing": false
    }
   },
   "outputs": [],
   "source": [
    "freq_pos_pos=[]\n",
    "freq_neg_pos=[]\n",
    "for word in my_positive_word_list:\n",
    "    freq_pos_pos.append(pos_freqdist[word])\n",
    "for word in my_negative_word_list:\n",
    "    freq_neg_pos.append(pos_freqdist[word])\n",
    "\n",
    "freq_pos_neg=[]\n",
    "freq_neg_neg=[]\n",
    "for word in my_positive_word_list:\n",
    "    freq_pos_neg.append(neg_freqdist[word])\n",
    "for word in my_negative_word_list:\n",
    "    freq_neg_neg.append(neg_freqdist[word])"
   ]
  },
  {
   "cell_type": "code",
   "execution_count": 10,
   "metadata": {
    "pycharm": {
     "is_executing": false
    }
   },
   "outputs": [
    {
     "data": {
      "text/plain": "     word  freq in posreview  freq in negreview\n0    good                253                281\n1   great                272                133\n2  lovely                 10                  3\n3    best                169                 75",
      "text/html": "<div>\n<style scoped>\n    .dataframe tbody tr th:only-of-type {\n        vertical-align: middle;\n    }\n\n    .dataframe tbody tr th {\n        vertical-align: top;\n    }\n\n    .dataframe thead th {\n        text-align: right;\n    }\n</style>\n<table border=\"1\" class=\"dataframe\">\n  <thead>\n    <tr style=\"text-align: right;\">\n      <th></th>\n      <th>word</th>\n      <th>freq in posreview</th>\n      <th>freq in negreview</th>\n    </tr>\n  </thead>\n  <tbody>\n    <tr>\n      <td>0</td>\n      <td>good</td>\n      <td>253</td>\n      <td>281</td>\n    </tr>\n    <tr>\n      <td>1</td>\n      <td>great</td>\n      <td>272</td>\n      <td>133</td>\n    </tr>\n    <tr>\n      <td>2</td>\n      <td>lovely</td>\n      <td>10</td>\n      <td>3</td>\n    </tr>\n    <tr>\n      <td>3</td>\n      <td>best</td>\n      <td>169</td>\n      <td>75</td>\n    </tr>\n  </tbody>\n</table>\n</div>"
     },
     "metadata": {},
     "output_type": "execute_result",
     "execution_count": 10
    }
   ],
   "source": [
    "pd.DataFrame(zip_longest(my_positive_word_list,freq_pos_pos,freq_pos_neg),columns=[\"word\", \"freq in posreview\",\"freq in negreview\"])"
   ]
  },
  {
   "cell_type": "code",
   "execution_count": 11,
   "metadata": {
    "pycharm": {
     "is_executing": false
    }
   },
   "outputs": [
    {
     "data": {
      "text/plain": "       word  freq in posreview  freq in negreview\n0       bad                 50                177\n1  terrible                  9                 41\n2     awful                  1                 26\n3     worst                  8                 72",
      "text/html": "<div>\n<style scoped>\n    .dataframe tbody tr th:only-of-type {\n        vertical-align: middle;\n    }\n\n    .dataframe tbody tr th {\n        vertical-align: top;\n    }\n\n    .dataframe thead th {\n        text-align: right;\n    }\n</style>\n<table border=\"1\" class=\"dataframe\">\n  <thead>\n    <tr style=\"text-align: right;\">\n      <th></th>\n      <th>word</th>\n      <th>freq in posreview</th>\n      <th>freq in negreview</th>\n    </tr>\n  </thead>\n  <tbody>\n    <tr>\n      <td>0</td>\n      <td>bad</td>\n      <td>50</td>\n      <td>177</td>\n    </tr>\n    <tr>\n      <td>1</td>\n      <td>terrible</td>\n      <td>9</td>\n      <td>41</td>\n    </tr>\n    <tr>\n      <td>2</td>\n      <td>awful</td>\n      <td>1</td>\n      <td>26</td>\n    </tr>\n    <tr>\n      <td>3</td>\n      <td>worst</td>\n      <td>8</td>\n      <td>72</td>\n    </tr>\n  </tbody>\n</table>\n</div>"
     },
     "metadata": {},
     "output_type": "execute_result",
     "execution_count": 11
    }
   ],
   "source": [
    "pd.DataFrame(zip_longest(my_negative_word_list,freq_neg_pos,freq_neg_neg),columns=[\"word\", \"freq in posreview\",\"freq in negreview\"])"
   ]
  },
  {
   "cell_type": "markdown",
   "metadata": {},
   "source": [
    "### Exercise 2.4\n",
    "Now, you are going to create positive and negative word lists automatically from the training data. In order to do this:\n",
    "\n",
    "1. write two new functions to help with automating the process of generating wordlists.\n",
    "\n",
    "    - `most_frequent_words` - this function should take THREE arguments: 2 frequency distributions and a natural number, k. It should order words by how much more they occur in one frequency distribution than the other.   It should then return the top k highest scoring words. You might want to use the `most_common` method from the `FreqDist` class - this returns a list of word, frequency pairs ordered by frequency.  You might also or alternatively want to use pythons built-in `sorted` function\n",
    "    - `words_above_threshold` - this function also takes three arguments: 2 frequency distributions and a natural number, k. Again, it should order words by how much more they occur in one distribution than the other.  It should return all of the words that have a score greater than k.\n",
    "\n",
    "2. Remove punctuation and stopwords from consideration. You can re-use code from near the end of Lab_2_2.\n",
    "3. Using the training data, create two sets of positive and negative word lists using these functions (1 set with each function). \n",
    "4.  Display these 4 lists (possibly in a `Pandas` dataframe?)\n",
    "\n"
   ]
  },
  {
   "cell_type": "code",
   "execution_count": 12,
   "metadata": {
    "pycharm": {
     "is_executing": false
    }
   },
   "outputs": [
    {
     "data": {
      "text/plain": "([('movie', 681),\n  ('film', 624),\n  ('one', 570),\n  ('like', 337),\n  ('dvd', 336),\n  ('great', 319),\n  ('good', 272),\n  ('time', 232),\n  ('well', 231),\n  ('first', 222),\n  ('see', 218),\n  ('also', 211),\n  ('would', 204),\n  ('really', 203),\n  ('best', 201)],\n [('movie', 863),\n  ('film', 589),\n  ('one', 453),\n  ('like', 402),\n  ('dvd', 324),\n  ('good', 300),\n  ('would', 288),\n  ('even', 241),\n  ('much', 237),\n  ('get', 229),\n  ('time', 213),\n  ('really', 203),\n  ('could', 190),\n  ('people', 186),\n  ('bad', 185)])"
     },
     "metadata": {},
     "output_type": "execute_result",
     "execution_count": 12
    }
   ],
   "source": [
    "from nltk.probability import FreqDist\n",
    "from functools import reduce\n",
    "def get_all_words(amazon_reviews):\n",
    "    return reduce(lambda words,review: words + review.words(), amazon_reviews, [])\n",
    "pos_freqdist = FreqDist(get_all_words(pos_train))\n",
    "neg_freqdist = FreqDist(get_all_words(neg_train))\n",
    "\n",
    "def all_lower(list):\n",
    "    new_list=[]\n",
    "    for s in list:\n",
    "        new_list.append(s.lower())\n",
    "    return new_list\n",
    "\n",
    "def most_frequent_words(freqdist1,freqdist2,k):\n",
    "    from nltk.corpus import stopwords\n",
    "    stop = stopwords.words('english')\n",
    "    new_freqdist1 = [w for w in all_lower(get_all_words(freqdist1)) if w.isalpha() and w not in stop]\n",
    "    new_freqdist2 = [w for w in all_lower(get_all_words(freqdist2)) if w.isalpha() and w not in stop]\n",
    "    new_freqdist1 = FreqDist(new_freqdist1)\n",
    "    new_freqdist2 = FreqDist(new_freqdist2)\n",
    "    return new_freqdist1.most_common(k),new_freqdist2.most_common(k)\n",
    "most_frequent_words(pos_train,neg_train,15)\n"
   ]
  },
  {
   "cell_type": "code",
   "execution_count": 13,
   "metadata": {
    "pycharm": {
     "is_executing": false
    }
   },
   "outputs": [
    {
     "data": {
      "text/plain": "([('movie', 681),\n  ('film', 624),\n  ('like', 337),\n  ('great', 319),\n  ('good', 272),\n  ('time', 232),\n  ('well', 231),\n  ('first', 222),\n  ('also', 211),\n  ('would', 204),\n  ('really', 203),\n  ('best', 201),\n  ('love', 201),\n  ('much', 191),\n  ('even', 189)],\n [('movie', 863),\n  ('film', 589),\n  ('like', 402),\n  ('good', 300),\n  ('would', 288),\n  ('even', 241),\n  ('much', 237),\n  ('time', 213),\n  ('really', 203),\n  ('could', 190),\n  ('people', 186),\n  ('story', 175),\n  ('movies', 171),\n  ('make', 168),\n  ('first', 167)])"
     },
     "metadata": {},
     "output_type": "execute_result",
     "execution_count": 13
    }
   ],
   "source": [
    "def words_above_threshold(freqdist1,freqdist2,k):\n",
    "    from nltk.corpus import stopwords\n",
    "    stop = stopwords.words('english')\n",
    "    new_freqdist1 = [w for w in all_lower(get_all_words(freqdist1)) if w.isalpha() and w not in stop and len(w)>k]\n",
    "    new_freqdist2 = [w for w in all_lower(get_all_words(freqdist2)) if w.isalpha() and w not in stop and len(w)>k]\n",
    "    new_freqdist_FD1 = FreqDist(new_freqdist1)\n",
    "    new_freqdist_FD2 = FreqDist(new_freqdist2)\n",
    "   # new_freqdist_FD1=new_freqdist_FD1.inc(sorted(w for w in set(new_freqdist1) if len(w) <k))\n",
    "   # new_freqdist_FD2=new_freqdist_FD2.inc(sorted(w for w in set(new_freqdist2) if len(w) <k))\n",
    "    return new_freqdist_FD1.most_common(15),new_freqdist_FD2.most_common(15)\n",
    "words_above_threshold(pos_train,neg_train,3)"
   ]
  },
  {
   "cell_type": "code",
   "execution_count": 14,
   "metadata": {
    "pycharm": {
     "is_executing": false
    }
   },
   "outputs": [
    {
     "data": {
      "text/plain": "                1              2              3              4\n0    (movie, 681)   (movie, 863)   (movie, 681)   (movie, 863)\n1     (film, 624)    (film, 589)    (film, 624)    (film, 589)\n2      (one, 570)     (one, 453)    (like, 337)    (like, 402)\n3     (like, 337)    (like, 402)   (great, 319)    (good, 300)\n4      (dvd, 336)     (dvd, 324)    (good, 272)   (would, 288)\n5    (great, 319)    (good, 300)    (time, 232)    (even, 241)\n6     (good, 272)   (would, 288)    (well, 231)    (much, 237)\n7     (time, 232)    (even, 241)   (first, 222)    (time, 213)\n8     (well, 231)    (much, 237)    (also, 211)  (really, 203)\n9    (first, 222)     (get, 229)   (would, 204)   (could, 190)\n10     (see, 218)    (time, 213)  (really, 203)  (people, 186)\n11    (also, 211)  (really, 203)    (best, 201)   (story, 175)\n12   (would, 204)   (could, 190)    (love, 201)  (movies, 171)\n13  (really, 203)  (people, 186)    (much, 191)    (make, 168)\n14    (best, 201)     (bad, 185)    (even, 189)   (first, 167)",
      "text/html": "<div>\n<style scoped>\n    .dataframe tbody tr th:only-of-type {\n        vertical-align: middle;\n    }\n\n    .dataframe tbody tr th {\n        vertical-align: top;\n    }\n\n    .dataframe thead th {\n        text-align: right;\n    }\n</style>\n<table border=\"1\" class=\"dataframe\">\n  <thead>\n    <tr style=\"text-align: right;\">\n      <th></th>\n      <th>1</th>\n      <th>2</th>\n      <th>3</th>\n      <th>4</th>\n    </tr>\n  </thead>\n  <tbody>\n    <tr>\n      <td>0</td>\n      <td>(movie, 681)</td>\n      <td>(movie, 863)</td>\n      <td>(movie, 681)</td>\n      <td>(movie, 863)</td>\n    </tr>\n    <tr>\n      <td>1</td>\n      <td>(film, 624)</td>\n      <td>(film, 589)</td>\n      <td>(film, 624)</td>\n      <td>(film, 589)</td>\n    </tr>\n    <tr>\n      <td>2</td>\n      <td>(one, 570)</td>\n      <td>(one, 453)</td>\n      <td>(like, 337)</td>\n      <td>(like, 402)</td>\n    </tr>\n    <tr>\n      <td>3</td>\n      <td>(like, 337)</td>\n      <td>(like, 402)</td>\n      <td>(great, 319)</td>\n      <td>(good, 300)</td>\n    </tr>\n    <tr>\n      <td>4</td>\n      <td>(dvd, 336)</td>\n      <td>(dvd, 324)</td>\n      <td>(good, 272)</td>\n      <td>(would, 288)</td>\n    </tr>\n    <tr>\n      <td>5</td>\n      <td>(great, 319)</td>\n      <td>(good, 300)</td>\n      <td>(time, 232)</td>\n      <td>(even, 241)</td>\n    </tr>\n    <tr>\n      <td>6</td>\n      <td>(good, 272)</td>\n      <td>(would, 288)</td>\n      <td>(well, 231)</td>\n      <td>(much, 237)</td>\n    </tr>\n    <tr>\n      <td>7</td>\n      <td>(time, 232)</td>\n      <td>(even, 241)</td>\n      <td>(first, 222)</td>\n      <td>(time, 213)</td>\n    </tr>\n    <tr>\n      <td>8</td>\n      <td>(well, 231)</td>\n      <td>(much, 237)</td>\n      <td>(also, 211)</td>\n      <td>(really, 203)</td>\n    </tr>\n    <tr>\n      <td>9</td>\n      <td>(first, 222)</td>\n      <td>(get, 229)</td>\n      <td>(would, 204)</td>\n      <td>(could, 190)</td>\n    </tr>\n    <tr>\n      <td>10</td>\n      <td>(see, 218)</td>\n      <td>(time, 213)</td>\n      <td>(really, 203)</td>\n      <td>(people, 186)</td>\n    </tr>\n    <tr>\n      <td>11</td>\n      <td>(also, 211)</td>\n      <td>(really, 203)</td>\n      <td>(best, 201)</td>\n      <td>(story, 175)</td>\n    </tr>\n    <tr>\n      <td>12</td>\n      <td>(would, 204)</td>\n      <td>(could, 190)</td>\n      <td>(love, 201)</td>\n      <td>(movies, 171)</td>\n    </tr>\n    <tr>\n      <td>13</td>\n      <td>(really, 203)</td>\n      <td>(people, 186)</td>\n      <td>(much, 191)</td>\n      <td>(make, 168)</td>\n    </tr>\n    <tr>\n      <td>14</td>\n      <td>(best, 201)</td>\n      <td>(bad, 185)</td>\n      <td>(even, 189)</td>\n      <td>(first, 167)</td>\n    </tr>\n  </tbody>\n</table>\n</div>"
     },
     "metadata": {},
     "output_type": "execute_result",
     "execution_count": 14
    }
   ],
   "source": [
    "pd.DataFrame(zip(most_frequent_words(pos_train,neg_train,15)[0],most_frequent_words(pos_train,neg_train,15)[1],words_above_threshold(pos_train,neg_train,3)[0],words_above_threshold(pos_train,neg_train,3)[1]),columns=[\"1\", \"2\",\"3\",\"4\"])"
   ]
  },
  {
   "cell_type": "markdown",
   "metadata": {},
   "source": [
    "## Creating a word list based classifier\n",
    "Now you have a number of word lists for use with a classifier. \n",
    "> Make sure you understand the following code, which will be used as the basis for creating a word list based classifier."
   ]
  },
  {
   "cell_type": "code",
   "execution_count": 34,
   "metadata": {
    "pycharm": {
     "is_executing": false
    }
   },
   "outputs": [
    {
     "data": {
      "text/plain": "'P'"
     },
     "metadata": {},
     "output_type": "execute_result",
     "execution_count": 34
    }
   ],
   "source": [
    "from nltk.classify.api import ClassifierI\n",
    "import random\n",
    "\n",
    "class SimpleClassifier(ClassifierI): \n",
    "    #look at the documentation for ClassifierI https://www.nltk.org/_modules/nltk/classify/api.html\n",
    "    \n",
    "    def __init__(self, pos, neg): \n",
    "        self._pos = pos \n",
    "        self._neg = neg \n",
    "\n",
    "    def classify(self, words): \n",
    "        score = 0\n",
    "        for word in words:\n",
    "            if word in self._pos:\n",
    "                score+=1\n",
    "            if word in self._neg:\n",
    "                score-=1\n",
    "        # add code here that assigns an appropriate value to score\n",
    "        return \"N\" if score < 0 else \"P\"\n",
    "\n",
    "    def classify_many(self, docs): \n",
    "        return [self.classify(doc.words() if hasattr(doc, 'words') else doc) for doc in docs] \n",
    "\n",
    "    def labels(self): \n",
    "        return (\"P\", \"N\")\n",
    "\n",
    "#Example usage:\n",
    "\n",
    "#classifier = SimpleClassifier(top_pos, top_neg)\n",
    "classifier = SimpleClassifier(my_positive_word_list,my_negative_word_list)\n",
    "classifier.classify(\"I enjoyed this great movie\".split())"
   ]
  },
  {
   "cell_type": "markdown",
   "metadata": {},
   "source": [
    "### Exercise 3.1\n",
    "\n",
    "- Copy the above code cell and move it to below this one. Then complete the `classify` method in the above code as specified below.\n",
    "- Test your classifier on several very simple hand-crafted examples to verify that you have implemented `classify` correctly.\n",
    "\n",
    "The classifier is initialised with a list of positive words, and a list of negative words. The words of a document are passed to the `classify` method (which is partially completed in the above code fragment). The `classify` method should be defined so that each occurrence of a negative word decrements `score`, and each occurrence of a positive word increments `score`. \n",
    "- For `score` less than 0, an \"`N`\" for negative should be returned.\n",
    "- For `score` greater than 0,  \"`P`\" for positive should returned.\n",
    "- For `score` of 0, the classification decision should be made randomly (see https://docs.python.org/3/library/random.html).\n"
   ]
  },
  {
   "cell_type": "code",
   "execution_count": 15,
   "metadata": {
    "pycharm": {
     "is_executing": false
    }
   },
   "outputs": [],
   "source": [
    "from nltk.classify.api import ClassifierI\n",
    "import random\n",
    "\n",
    "class SimpleClassifier(ClassifierI): \n",
    "    #look at the documentation for ClassifierI https://www.nltk.org/_modules/nltk/classify/api.html\n",
    "    \n",
    "    def __init__(self, pos, neg): \n",
    "        self._pos = pos \n",
    "        self._neg = neg \n",
    "\n",
    "    def classify(self, words): \n",
    "        score = 0\n",
    "        for word in words:\n",
    "            if word in self._pos:\n",
    "                score+=1\n",
    "            if word in self._neg:\n",
    "                score-=1\n",
    "        # add code here that assigns an appropriate value to score\n",
    "        return \"N\" if score < 0 else \"P\"\n",
    "\n",
    "    def classify_many(self, docs): \n",
    "        return [self.classify(doc.words() if hasattr(doc, 'words') else doc) for doc in docs] \n",
    "\n",
    "    def labels(self): \n",
    "        return (\"P\", \"N\")"
   ]
  },
  {
   "cell_type": "markdown",
   "metadata": {
    "collapsed": true
   },
   "source": [
    "### Exercise 3.2\n",
    "* Extend your SimpleClassifier class so that it has a `train` function which will derive the wordlists from training data.  You could build a separate class for each way of automatically deriving wordlists (which both inherit from SimpleClassifier) OR a single class which takes an extra parameter at training time."
   ]
  },
  {
   "cell_type": "code",
   "execution_count": 15,
   "metadata": {
    "pycharm": {
     "is_executing": false
    }
   },
   "outputs": [],
   "source": [
    "class SimpleClassifier_mf(SimpleClassifier):\n",
    "    \n",
    "    def __init__(self,k):\n",
    "        self.k=k\n",
    "    \n",
    "    def train(self,pos_train,neg_train):\n",
    "        pos_freqdist = FreqDist(get_all_words(pos_train))\n",
    "        neg_freqdist = FreqDist(get_all_words(neg_train))\n",
    "        self._pos=most_frequent_words(pos_freqdist,self.k)\n",
    "        self._neg=most_frequent_words(neg_freqdist,self.k)\n",
    "        "
   ]
  },
  {
   "cell_type": "code",
   "execution_count": 15,
   "metadata": {
    "pycharm": {
     "is_executing": false
    }
   },
   "outputs": [],
   "source": []
  },
  {
   "cell_type": "code",
   "execution_count": 15,
   "metadata": {
    "pycharm": {
     "is_executing": false
    }
   },
   "outputs": [],
   "source": []
  },
  {
   "cell_type": "code",
   "execution_count": 15,
   "metadata": {
    "pycharm": {
     "is_executing": false
    }
   },
   "outputs": [],
   "source": []
  },
  {
   "cell_type": "code",
   "execution_count": 15,
   "metadata": {
    "pycharm": {
     "is_executing": false
    }
   },
   "outputs": [],
   "source": []
  }
 ],
 "metadata": {
  "kernelspec": {
   "display_name": "Python 3",
   "language": "python",
   "name": "python3"
  },
  "language_info": {
   "codemirror_mode": {
    "name": "ipython",
    "version": 3
   },
   "file_extension": ".py",
   "mimetype": "text/x-python",
   "name": "python",
   "nbconvert_exporter": "python",
   "pygments_lexer": "ipython3",
   "version": "3.7.3"
  },
  "pycharm": {
   "stem_cell": {
    "cell_type": "raw",
    "source": [],
    "metadata": {
     "collapsed": false
    }
   }
  }
 },
 "nbformat": 4,
 "nbformat_minor": 1
}