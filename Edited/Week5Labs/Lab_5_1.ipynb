{
 "cells": [
  {
   "cell_type": "markdown",
   "metadata": {},
   "source": [
    "# Week 5: Lexical Semantics\n",
    "\n",
    "This week we turn our attention to lexical semantics, i.e., the meaning of words.  In this lab, you will be\n",
    "* exploring the WordNet resource\n",
    "* learning about lexical relations such as synonymy and hyponymy\n",
    "* quantifying semantic similarity via distance in the WordNet hierarchy\n",
    "* comparing WordNet similarity scores with human synonymy judgements\n"
   ]
  },
  {
   "cell_type": "markdown",
   "metadata": {},
   "source": [
    "First, lets import WordNet from the nltk library."
   ]
  },
  {
   "cell_type": "code",
   "execution_count": 3,
   "metadata": {
    "pycharm": {
     "is_executing": false
    }
   },
   "outputs": [],
   "source": [
    "#it may be necessary to run the nltk downloader, depending on what you have previously downloaded\n",
    "#if this cell fails when you run it, then uncomment and run the following lines\n",
    "#import nltk\n",
    "#nltk.download()\n",
    "import pandas as pd\n",
    "\n",
    "from nltk.corpus import wordnet as wn\n",
    "from nltk.corpus import wordnet_ic as wn_ic\n"
   ]
  },
  {
   "cell_type": "markdown",
   "metadata": {},
   "source": [
    "## Navigating WordNet\n",
    "\n",
    "Central to the organisation of WordNet is the idea of a synset.  Words have senses and senses are grouped with synonymous senses (of other words) in **synsets**\n",
    "\n",
    "If you want to find out which synsets a word belongs to, you use the `synsets` function.  "
   ]
  },
  {
   "cell_type": "code",
   "execution_count": 4,
   "metadata": {
    "pycharm": {
     "is_executing": false
    }
   },
   "outputs": [
    {
     "data": {
      "text/plain": "[Synset('book.n.01'),\n Synset('book.n.02'),\n Synset('record.n.05'),\n Synset('script.n.01'),\n Synset('ledger.n.01'),\n Synset('book.n.06'),\n Synset('book.n.07'),\n Synset('koran.n.01'),\n Synset('bible.n.01'),\n Synset('book.n.10'),\n Synset('book.n.11'),\n Synset('book.v.01'),\n Synset('reserve.v.04'),\n Synset('book.v.03'),\n Synset('book.v.04')]"
     },
     "metadata": {},
     "output_type": "execute_result",
     "execution_count": 4
    }
   ],
   "source": [
    "wn.synsets(\"book\")"
   ]
  },
  {
   "cell_type": "markdown",
   "metadata": {},
   "source": [
    "The output is a list of `Synset` objects each of which has a unique identifier containing one of its words, its part of speech and a number.  `Synset('book.n.01')` is the first noun sense of *book*.  However the word book is also in `Synset('record.n.05')` which is the fifth noun sense of *record*.  Lets inspect this synset further."
   ]
  },
  {
   "cell_type": "code",
   "execution_count": 5,
   "metadata": {
    "pycharm": {
     "is_executing": false
    }
   },
   "outputs": [
    {
     "name": "stdout",
     "text": [
      "['record', 'record_book', 'book']\na compilation of the known facts regarding something or someone\n[\"Al Smith used to say, `Let's look at the record'\", 'his name is in all the record books']\n"
     ],
     "output_type": "stream"
    }
   ],
   "source": [
    "book_synsets=wn.synsets('book')\n",
    "recordn5=book_synsets[2]\n",
    "print(recordn5.lemma_names())  #get the words in the synset\n",
    "print(recordn5.definition())   #get the definition of the synset\n",
    "print(recordn5.examples())  #get examples of the words used in this sense"
   ]
  },
  {
   "cell_type": "markdown",
   "metadata": {},
   "source": [
    "If you only want to find synsets associated with a particular part of speech of a word then you can give `synsets` an extra argument"
   ]
  },
  {
   "cell_type": "code",
   "execution_count": 6,
   "metadata": {
    "pycharm": {
     "is_executing": false
    }
   },
   "outputs": [
    {
     "name": "stdout",
     "text": [
      "[Synset('red.s.01'), Synset('crimson.s.02'), Synset('crimson.s.03')]\n"
     ],
     "output_type": "stream"
    }
   ],
   "source": [
    "parts_of_speech={\"noun\":wn.NOUN,\"verb\":wn.VERB,\"adjective\":wn.ADJ,\"adverb\":wn.ADV}\n",
    "\n",
    "key=\"adjective\"\n",
    "print(wn.synsets(\"red\",parts_of_speech[key]))\n"
   ]
  },
  {
   "cell_type": "markdown",
   "metadata": {},
   "source": [
    "### Exercise 1.1\n",
    "* Write code to compute the number of synsets of each part of speech (noun, verb, adjective and adverb) for each of the following words:- book, chicken, counter, twig, fast, plant\n",
    "* Store and display the information using a Pandas dataframe\n",
    "\n",
    "Hint: you could use a nested list comprehension"
   ]
  },
  {
   "cell_type": "code",
   "execution_count": 7,
   "metadata": {
    "pycharm": {
     "is_executing": false
    }
   },
   "outputs": [
    {
     "name": "stdout",
     "text": [
      "         noun  verb  adjective  adverb\nbook       11     4          0       0\nchicken     4     0          1       0\ncounter     9     2          1       1\ntwig        1     2          0       0\nfast        1     2         10       2\nplant       4     6          0       0\n"
     ],
     "output_type": "stream"
    }
   ],
   "source": [
    "parts_of_speech_list=[\"noun\",\"verb\",\"adjective\",\"adverb\"]\n",
    "target_words=[\"book\",\"chicken\",\"counter\",\"twig\",\"fast\",\"plant\"]\n",
    "data_zip_list=[]\n",
    "for j in target_words:\n",
    "    synsets_distribution=[]\n",
    "    for i in parts_of_speech:\n",
    "        synsets_distribution.append(len(wn.synsets(j,parts_of_speech[i])))\n",
    "    data_zip_list.append(synsets_distribution)\n",
    "synsets_table=pd.DataFrame(data_zip_list,index=target_words,columns=parts_of_speech_list)\n",
    "print(synsets_table)"
   ]
  },
  {
   "cell_type": "markdown",
   "metadata": {},
   "source": [
    "The `Synset` object also has `hyponyms` and `hypernyms` methods which return hyponym and hypernym synsets respectively.\n",
    "\n",
    "For example:"
   ]
  },
  {
   "cell_type": "code",
   "execution_count": 8,
   "metadata": {
    "pycharm": {
     "is_executing": false
    }
   },
   "outputs": [
    {
     "data": {
      "text/plain": "[Synset('card.n.08'), Synset('logbook.n.01'), Synset('won-lost_record.n.01')]"
     },
     "metadata": {},
     "output_type": "execute_result",
     "execution_count": 8
    }
   ],
   "source": [
    "recordn5.hyponyms()"
   ]
  },
  {
   "cell_type": "code",
   "execution_count": 9,
   "metadata": {
    "pycharm": {
     "is_executing": false
    }
   },
   "outputs": [
    {
     "data": {
      "text/plain": "[Synset('fact.n.02')]"
     },
     "metadata": {},
     "output_type": "execute_result",
     "execution_count": 9
    }
   ],
   "source": [
    "recordn5.hypernyms()"
   ]
  },
  {
   "cell_type": "markdown",
   "metadata": {},
   "source": [
    "Since the hyponymy relation forms a tree, we would expect synsets to generally have multiple hyponyms and a single hypernym.  At the top of the tree (also called the **root**), the hypernym list will be empty.  Most noun concepts in WordNet share a common root hypernym which is *entity*.  At the bottom of the tree (also referred to as the **leaves** of the tree), the hyponym list will be empty"
   ]
  },
  {
   "cell_type": "markdown",
   "metadata": {},
   "source": [
    "### Exercise 1.2\n",
    "Write a function, `distance_to_root` that will take a Synset and traverse up the tree until it reaches a root of the tree.  When it does so, it should return the number of steps taken.\n",
    "\n",
    "Hint: This can be done using **recursion**, where a function repeatedly calls itself.  You need to define:\n",
    "* a base case:  How will the function know when it is at the top of the tree and what should it return?\n",
    "* a recursive step: In the general case, the function should call itself with a simpler problem (a Synset which is closer to the top of the tree).  When it gets the result of this function call, it needs to modify it in some way and then return its own answer\n",
    "\n",
    "Make sure you test your function.  You should find that the 5th noun sense of record is 6 steps from the top.\n",
    "\n",
    "How far are all of the other noun sense of book from a root of the tree?\n",
    "\n",
    "\n"
   ]
  },
  {
   "cell_type": "code",
   "execution_count": 33,
   "metadata": {
    "pycharm": {
     "is_executing": false
    }
   },
   "outputs": [
    {
     "name": "stdout",
     "text": [
      "['tiger']\n['person', 'individual', 'someone', 'somebody', 'mortal', 'soul']\nWarning: multiple hypernyms\n['causal_agent', 'cause', 'causal_agency']\n['physical_entity']\n['entity']\n4\n"
     ],
     "output_type": "stream"
    }
   ],
   "source": [
    "def distance_to_root(asynset):\n",
    "    print(asynset.lemma_names())\n",
    "    hypernyms=asynset.hypernyms()\n",
    "    if len(hypernyms)==0: #reached the top and have to stop\n",
    "        return 0\n",
    "    else:\n",
    "        if len(hypernyms)>1:\n",
    "            print(\"Warning: multiple hypernyms\")\n",
    "        return(distance_to_root(hypernyms[0])+1)\n",
    "\n",
    "wops=wn.synsets(\"tiger\")\n",
    "print(distance_to_root(wops[0]))"
   ]
  },
  {
   "cell_type": "code",
   "execution_count": 11,
   "outputs": [
    {
     "name": "stdout",
     "text": [
      "13\n"
     ],
     "output_type": "stream"
    }
   ],
   "source": [
    "#test\n",
    "def distance_to_leaf(synsetlist):\n",
    "    if len(synsetlist)==0:\n",
    "        return 0\n",
    "    else:\n",
    "        hyponyms=[asynset.hypernyms() for asynset in synsetlist]\n",
    "        return min([distance_to_leaf(hyponymlist) for hyponymlist in hyponyms])+1\n",
    "\n",
    "print(distance_to_leaf(wn.synsets(\"feline\",wn.NOUN)))\n"
   ],
   "metadata": {
    "collapsed": false,
    "pycharm": {
     "name": "#%%\n",
     "is_executing": false
    }
   }
  },
  {
   "cell_type": "markdown",
   "metadata": {},
   "source": [
    "## Semantic Similarity in WordNet\n",
    "\n",
    "The simplest way of defining how similar two concepts are according to WordNet is to use the pathlength measure:\n",
    "\n",
    "\\begin{eqnarray*}\n",
    "\\mbox{sim}(\\mbox{synsetA},\\mbox{synsetB})=\\frac{1}{1+\\mbox{lengthOfPath}(\\mbox{synsetA},\\mbox{synsetB})}\n",
    "\\end{eqnarray*}\n",
    "\n",
    "We have also introduced other measures in the lectures which incorporate **information content**, i.e., the amount of information we receive when a word from a given synset is used (there is more information in being told that something is a *poodle* than in being told it is an *animal*).\n",
    "\n",
    "The `nltk.wn` module has built-in functions for computing these similarities between synsets."
   ]
  },
  {
   "cell_type": "code",
   "execution_count": 12,
   "metadata": {
    "pycharm": {
     "is_executing": false
    }
   },
   "outputs": [
    {
     "name": "stdout",
     "text": [
      "path_similarity 0.2\n",
      "resnik_similarity 5.454686565783099\nlin_similarity 0.7098990245459575\n"
     ],
     "output_type": "stream"
    }
   ],
   "source": [
    "books=wn.synsets(\"book\",wn.NOUN)\n",
    "print(\"path_similarity {}\".format(wn.path_similarity(books[0],books[1])))\n",
    "\n",
    "brown_ic=wn_ic.ic(\"ic-brown.dat\")  #this gets information content data from the Brown corpus\n",
    "print(\"resnik_similarity {}\".format(wn.res_similarity(books[0],books[1],brown_ic)))\n",
    "print(\"lin_similarity {}\".format(wn.lin_similarity(books[0],books[1],brown_ic)))"
   ]
  },
  {
   "cell_type": "markdown",
   "metadata": {},
   "source": [
    "Note it is impossible to compare synsets of different parts of speech using these methods because they are not connected via hyponymy"
   ]
  },
  {
   "cell_type": "code",
   "execution_count": 13,
   "metadata": {
    "pycharm": {
     "is_executing": false
    }
   },
   "outputs": [
    {
     "data": {
      "text/plain": "'\\nbooksN=wn.synsets(\"book\",wn.NOUN)\\nbooksV=wn.synsets(\"book\",wn.VERB)\\nprint(\"path_similarity {}\".format(wn.path_similarity(booksN[0],booksV[1])))\\nprint(\"resnik_similarity {}\".format(wn.res_similarity(booksN[0],booksV[1],brown_ic)))\\nprint(\"lin_similarity {}\".format(wn.lin_similarity(booksN[0],booksV[1],brown_ic)))\\n'"
     },
     "metadata": {},
     "output_type": "execute_result",
     "execution_count": 13
    }
   ],
   "source": [
    "'''\n",
    "booksN=wn.synsets(\"book\",wn.NOUN)\n",
    "booksV=wn.synsets(\"book\",wn.VERB)\n",
    "print(\"path_similarity {}\".format(wn.path_similarity(booksN[0],booksV[1])))\n",
    "print(\"resnik_similarity {}\".format(wn.res_similarity(booksN[0],booksV[1],brown_ic)))\n",
    "print(\"lin_similarity {}\".format(wn.lin_similarity(booksN[0],booksV[1],brown_ic)))\n",
    "'''"
   ]
  },
  {
   "cell_type": "markdown",
   "metadata": {},
   "source": [
    "### Exercise 2.1\n",
    "\n",
    "The similarity of two **words** with a given part of speech is defined as the **maximum** similarity of all possible sense pairings.  If word A has 5 noun senses and word B has 4 noun senses than there are 20 possible sense pairings to check.\n",
    "\n",
    "* Write a function which will compute the path_similarity of two nouns.\n",
    "* Make sure you test it.  The correct answer for *chicken* and *car* is 0.0909 to 3SF"
   ]
  },
  {
   "cell_type": "code",
   "execution_count": 14,
   "metadata": {
    "pycharm": {
     "is_executing": false
    }
   },
   "outputs": [
    {
     "data": {
      "text/plain": "0.09090909090909091"
     },
     "metadata": {},
     "output_type": "execute_result",
     "execution_count": 14
    }
   ],
   "source": [
    "def compute_path_similarity(noun1,noun2):\n",
    "    noun1N=wn.synsets(noun1,wn.NOUN)\n",
    "    noun2N=wn.synsets(noun2,wn.NOUN)\n",
    "    maxsim=0\n",
    "    for i in noun1N:\n",
    "        for j in noun2N:\n",
    "            sim=wn.path_similarity(i,j)\n",
    "            if sim > maxsim:\n",
    "                maxsim=sim\n",
    "    return maxsim\n",
    "compute_path_similarity(\"chicken\",\"car\")"
   ]
  },
  {
   "cell_type": "markdown",
   "metadata": {},
   "source": [
    "### Exercise 2.2\n",
    "Generalise your path_similarity function so that it takes an extra optional argument:\n",
    "* the similarity measure to use\n"
   ]
  },
  {
   "cell_type": "code",
   "execution_count": 15,
   "metadata": {
    "pycharm": {
     "is_executing": false
    }
   },
   "outputs": [],
   "source": [
    "def word_similarity(wordA,wordB,measure,pos=wn.NOUN):\n",
    "    synsetsA=wn.synsets(wordA,pos)\n",
    "    synsetsB=wn.synsets(wordB,pos)\n",
    "    maxsofar=0\n",
    "    brown_ic=wn_ic.ic(\"ic-brown.dat\")\n",
    "    for synsetA in synsetsA:\n",
    "        for synsetB in synsetsB:\n",
    "            if measure==\"path\":\n",
    "                sim=wn.path_similarity(synsetA,synsetB)\n",
    "            elif measure==\"res\":\n",
    "                sim=wn.res_similarity(synsetA,synsetB,brown_ic)\n",
    "            elif measure==\"lin\":\n",
    "                sim=wn.lin_similarity(synsetA,synsetB,brown_ic)\n",
    "            \n",
    "            if sim>maxsofar:\n",
    "                maxsofar=sim\n",
    "    return maxsofar"
   ]
  },
  {
   "cell_type": "code",
   "execution_count": 16,
   "metadata": {
    "pycharm": {
     "is_executing": false
    }
   },
   "outputs": [
    {
     "data": {
      "text/plain": "0.17900106582025765"
     },
     "metadata": {},
     "output_type": "execute_result",
     "execution_count": 16
    }
   ],
   "source": [
    "word_similarity(\"chicken\",\"car\",\"lin\")"
   ]
  },
  {
   "cell_type": "markdown",
   "metadata": {},
   "source": [
    "## Comparing WordNet Similarities with Human Synonymy Judgements\n",
    "\n",
    "The file `mcdata.csv` contains human synonymy judgements for a list of 30 noun pairs.   We can read in a `.csv` file using the `csv` library "
   ]
  },
  {
   "cell_type": "code",
   "execution_count": 17,
   "metadata": {
    "pycharm": {
     "is_executing": false
    }
   },
   "outputs": [
    {
     "data": {
      "text/plain": "       word1       word2 human similarity\n0     asylum    madhouse             3.61\n1       bird        cock             3.05\n2       bird       crane             2.97\n3        boy         lad             3.76\n4    brother        monk             2.82\n5        car  automobile             3.92\n6   cemetery    woodland             0.95\n7      chord       smile             0.13\n8      coast      forest             0.42\n9      coast        hill             0.87\n10     coast       shore              3.7\n11     crane   implement             1.68\n12      food       fruit             3.08\n13      food     rooster             0.89\n14    forest   graveyard             0.84\n15   furnace       stove             3.11\n16       gem       jewel             3.84\n17     glass    magician             0.11\n18   journey         car             1.16\n19   journey      voyage             3.84\n20       lad     brother             1.66\n21       lad      wizard             0.42\n22  magician      wizard              3.5\n23    midday        noon             3.42\n24      monk      oracle              1.1\n25      monk       slave             0.55\n26      noon      string             0.08\n27   rooster      voyage             0.08\n28     shore    woodland             0.63\n29      tool   implement             1.68",
      "text/html": "<div>\n<style scoped>\n    .dataframe tbody tr th:only-of-type {\n        vertical-align: middle;\n    }\n\n    .dataframe tbody tr th {\n        vertical-align: top;\n    }\n\n    .dataframe thead th {\n        text-align: right;\n    }\n</style>\n<table border=\"1\" class=\"dataframe\">\n  <thead>\n    <tr style=\"text-align: right;\">\n      <th></th>\n      <th>word1</th>\n      <th>word2</th>\n      <th>human similarity</th>\n    </tr>\n  </thead>\n  <tbody>\n    <tr>\n      <th>0</th>\n      <td>asylum</td>\n      <td>madhouse</td>\n      <td>3.61</td>\n    </tr>\n    <tr>\n      <th>1</th>\n      <td>bird</td>\n      <td>cock</td>\n      <td>3.05</td>\n    </tr>\n    <tr>\n      <th>2</th>\n      <td>bird</td>\n      <td>crane</td>\n      <td>2.97</td>\n    </tr>\n    <tr>\n      <th>3</th>\n      <td>boy</td>\n      <td>lad</td>\n      <td>3.76</td>\n    </tr>\n    <tr>\n      <th>4</th>\n      <td>brother</td>\n      <td>monk</td>\n      <td>2.82</td>\n    </tr>\n    <tr>\n      <th>5</th>\n      <td>car</td>\n      <td>automobile</td>\n      <td>3.92</td>\n    </tr>\n    <tr>\n      <th>6</th>\n      <td>cemetery</td>\n      <td>woodland</td>\n      <td>0.95</td>\n    </tr>\n    <tr>\n      <th>7</th>\n      <td>chord</td>\n      <td>smile</td>\n      <td>0.13</td>\n    </tr>\n    <tr>\n      <th>8</th>\n      <td>coast</td>\n      <td>forest</td>\n      <td>0.42</td>\n    </tr>\n    <tr>\n      <th>9</th>\n      <td>coast</td>\n      <td>hill</td>\n      <td>0.87</td>\n    </tr>\n    <tr>\n      <th>10</th>\n      <td>coast</td>\n      <td>shore</td>\n      <td>3.7</td>\n    </tr>\n    <tr>\n      <th>11</th>\n      <td>crane</td>\n      <td>implement</td>\n      <td>1.68</td>\n    </tr>\n    <tr>\n      <th>12</th>\n      <td>food</td>\n      <td>fruit</td>\n      <td>3.08</td>\n    </tr>\n    <tr>\n      <th>13</th>\n      <td>food</td>\n      <td>rooster</td>\n      <td>0.89</td>\n    </tr>\n    <tr>\n      <th>14</th>\n      <td>forest</td>\n      <td>graveyard</td>\n      <td>0.84</td>\n    </tr>\n    <tr>\n      <th>15</th>\n      <td>furnace</td>\n      <td>stove</td>\n      <td>3.11</td>\n    </tr>\n    <tr>\n      <th>16</th>\n      <td>gem</td>\n      <td>jewel</td>\n      <td>3.84</td>\n    </tr>\n    <tr>\n      <th>17</th>\n      <td>glass</td>\n      <td>magician</td>\n      <td>0.11</td>\n    </tr>\n    <tr>\n      <th>18</th>\n      <td>journey</td>\n      <td>car</td>\n      <td>1.16</td>\n    </tr>\n    <tr>\n      <th>19</th>\n      <td>journey</td>\n      <td>voyage</td>\n      <td>3.84</td>\n    </tr>\n    <tr>\n      <th>20</th>\n      <td>lad</td>\n      <td>brother</td>\n      <td>1.66</td>\n    </tr>\n    <tr>\n      <th>21</th>\n      <td>lad</td>\n      <td>wizard</td>\n      <td>0.42</td>\n    </tr>\n    <tr>\n      <th>22</th>\n      <td>magician</td>\n      <td>wizard</td>\n      <td>3.5</td>\n    </tr>\n    <tr>\n      <th>23</th>\n      <td>midday</td>\n      <td>noon</td>\n      <td>3.42</td>\n    </tr>\n    <tr>\n      <th>24</th>\n      <td>monk</td>\n      <td>oracle</td>\n      <td>1.1</td>\n    </tr>\n    <tr>\n      <th>25</th>\n      <td>monk</td>\n      <td>slave</td>\n      <td>0.55</td>\n    </tr>\n    <tr>\n      <th>26</th>\n      <td>noon</td>\n      <td>string</td>\n      <td>0.08</td>\n    </tr>\n    <tr>\n      <th>27</th>\n      <td>rooster</td>\n      <td>voyage</td>\n      <td>0.08</td>\n    </tr>\n    <tr>\n      <th>28</th>\n      <td>shore</td>\n      <td>woodland</td>\n      <td>0.63</td>\n    </tr>\n    <tr>\n      <th>29</th>\n      <td>tool</td>\n      <td>implement</td>\n      <td>1.68</td>\n    </tr>\n  </tbody>\n</table>\n</div>"
     },
     "metadata": {},
     "output_type": "execute_result",
     "execution_count": 17
    }
   ],
   "source": [
    "import csv\n",
    "filename='mcdata.csv'\n",
    "\n",
    "with open(filename,'r') as filestream:\n",
    "    mcdata=list(csv.reader(filestream,delimiter=','))\n",
    "\n",
    "df=pd.DataFrame(mcdata,columns=[\"word1\",\"word2\",\"human similarity\"])\n",
    "df"
   ]
  },
  {
   "cell_type": "markdown",
   "metadata": {},
   "source": [
    "Note that the human similarity judgements range between 0 and 5.\n",
    "\n",
    "### Exercise 3.1\n",
    "Write code that will \n",
    "* compute the WordNet path_similarity for every pair of words in this data; and\n",
    "* add it as a column in the dataframe.  If you have the path similarity scores in a list called `scores`, you can do this using `df['path']=scores`\n",
    "\n",
    "Repeat for the Resnik and Lin similarity scores.\n"
   ]
  },
  {
   "cell_type": "code",
   "execution_count": 18,
   "metadata": {
    "pycharm": {
     "is_executing": false
    }
   },
   "outputs": [
    {
     "data": {
      "text/plain": "       word1       word2 human similarity      path        res       lin\n0     asylum    madhouse             3.61  0.500000   9.475167  0.855584\n1       bird        cock             3.05  0.500000   7.677755  0.773937\n2       bird       crane             2.97  0.250000   7.677755  0.747812\n3        boy         lad             3.76  0.500000   8.399492  0.830562\n4    brother        monk             2.82  0.500000   9.261593  0.986407\n5        car  automobile             3.92  1.000000   7.591401  1.000000\n6   cemetery    woodland             0.95  0.111111   1.290026  0.123441\n7      chord       smile             0.13  0.090909   2.619644  0.246256\n8      coast      forest             0.42  0.166667   1.290026  0.130646\n9      coast        hill             0.87  0.200000   5.884681  0.599113\n10     coast       shore              3.7  0.500000   9.415744  0.963217\n11     crane   implement             1.68  0.200000   3.257679  0.359057\n12      food       fruit             3.08  0.100000   1.592755  0.160984\n13      food     rooster             0.89  0.062500   0.801759  0.091932\n14    forest   graveyard             0.84  0.111111   1.290026  0.123441\n15   furnace       stove             3.11  0.100000   2.305849  0.228138\n16       gem       jewel             3.84  1.000000  12.067705  1.000000\n17     glass    magician             0.11  0.125000   2.282647  0.214168\n18   journey         car             1.16  0.055556   0.000000  0.000000\n19   journey      voyage             3.84  0.500000   6.825958  0.777715\n20       lad     brother             1.66  0.200000   2.333545  0.255175\n21       lad      wizard             0.42  0.200000   2.333545  0.255091\n22  magician      wizard              3.5  1.000000  11.980693  1.000000\n23    midday        noon             3.42  1.000000  11.064403  1.000000\n24      monk      oracle              1.1  0.125000   2.333545  0.225652\n25      monk       slave             0.55  0.200000   2.333545  0.254311\n26      noon      string             0.08  0.083333   0.596229  0.066172\n27   rooster      voyage             0.08  0.041667   0.000000  0.000000\n28     shore    woodland             0.63  0.200000   1.290026  0.135583\n29      tool   implement             1.68  0.500000   5.877389  0.947154",
      "text/html": "<div>\n<style scoped>\n    .dataframe tbody tr th:only-of-type {\n        vertical-align: middle;\n    }\n\n    .dataframe tbody tr th {\n        vertical-align: top;\n    }\n\n    .dataframe thead th {\n        text-align: right;\n    }\n</style>\n<table border=\"1\" class=\"dataframe\">\n  <thead>\n    <tr style=\"text-align: right;\">\n      <th></th>\n      <th>word1</th>\n      <th>word2</th>\n      <th>human similarity</th>\n      <th>path</th>\n      <th>res</th>\n      <th>lin</th>\n    </tr>\n  </thead>\n  <tbody>\n    <tr>\n      <th>0</th>\n      <td>asylum</td>\n      <td>madhouse</td>\n      <td>3.61</td>\n      <td>0.500000</td>\n      <td>9.475167</td>\n      <td>0.855584</td>\n    </tr>\n    <tr>\n      <th>1</th>\n      <td>bird</td>\n      <td>cock</td>\n      <td>3.05</td>\n      <td>0.500000</td>\n      <td>7.677755</td>\n      <td>0.773937</td>\n    </tr>\n    <tr>\n      <th>2</th>\n      <td>bird</td>\n      <td>crane</td>\n      <td>2.97</td>\n      <td>0.250000</td>\n      <td>7.677755</td>\n      <td>0.747812</td>\n    </tr>\n    <tr>\n      <th>3</th>\n      <td>boy</td>\n      <td>lad</td>\n      <td>3.76</td>\n      <td>0.500000</td>\n      <td>8.399492</td>\n      <td>0.830562</td>\n    </tr>\n    <tr>\n      <th>4</th>\n      <td>brother</td>\n      <td>monk</td>\n      <td>2.82</td>\n      <td>0.500000</td>\n      <td>9.261593</td>\n      <td>0.986407</td>\n    </tr>\n    <tr>\n      <th>5</th>\n      <td>car</td>\n      <td>automobile</td>\n      <td>3.92</td>\n      <td>1.000000</td>\n      <td>7.591401</td>\n      <td>1.000000</td>\n    </tr>\n    <tr>\n      <th>6</th>\n      <td>cemetery</td>\n      <td>woodland</td>\n      <td>0.95</td>\n      <td>0.111111</td>\n      <td>1.290026</td>\n      <td>0.123441</td>\n    </tr>\n    <tr>\n      <th>7</th>\n      <td>chord</td>\n      <td>smile</td>\n      <td>0.13</td>\n      <td>0.090909</td>\n      <td>2.619644</td>\n      <td>0.246256</td>\n    </tr>\n    <tr>\n      <th>8</th>\n      <td>coast</td>\n      <td>forest</td>\n      <td>0.42</td>\n      <td>0.166667</td>\n      <td>1.290026</td>\n      <td>0.130646</td>\n    </tr>\n    <tr>\n      <th>9</th>\n      <td>coast</td>\n      <td>hill</td>\n      <td>0.87</td>\n      <td>0.200000</td>\n      <td>5.884681</td>\n      <td>0.599113</td>\n    </tr>\n    <tr>\n      <th>10</th>\n      <td>coast</td>\n      <td>shore</td>\n      <td>3.7</td>\n      <td>0.500000</td>\n      <td>9.415744</td>\n      <td>0.963217</td>\n    </tr>\n    <tr>\n      <th>11</th>\n      <td>crane</td>\n      <td>implement</td>\n      <td>1.68</td>\n      <td>0.200000</td>\n      <td>3.257679</td>\n      <td>0.359057</td>\n    </tr>\n    <tr>\n      <th>12</th>\n      <td>food</td>\n      <td>fruit</td>\n      <td>3.08</td>\n      <td>0.100000</td>\n      <td>1.592755</td>\n      <td>0.160984</td>\n    </tr>\n    <tr>\n      <th>13</th>\n      <td>food</td>\n      <td>rooster</td>\n      <td>0.89</td>\n      <td>0.062500</td>\n      <td>0.801759</td>\n      <td>0.091932</td>\n    </tr>\n    <tr>\n      <th>14</th>\n      <td>forest</td>\n      <td>graveyard</td>\n      <td>0.84</td>\n      <td>0.111111</td>\n      <td>1.290026</td>\n      <td>0.123441</td>\n    </tr>\n    <tr>\n      <th>15</th>\n      <td>furnace</td>\n      <td>stove</td>\n      <td>3.11</td>\n      <td>0.100000</td>\n      <td>2.305849</td>\n      <td>0.228138</td>\n    </tr>\n    <tr>\n      <th>16</th>\n      <td>gem</td>\n      <td>jewel</td>\n      <td>3.84</td>\n      <td>1.000000</td>\n      <td>12.067705</td>\n      <td>1.000000</td>\n    </tr>\n    <tr>\n      <th>17</th>\n      <td>glass</td>\n      <td>magician</td>\n      <td>0.11</td>\n      <td>0.125000</td>\n      <td>2.282647</td>\n      <td>0.214168</td>\n    </tr>\n    <tr>\n      <th>18</th>\n      <td>journey</td>\n      <td>car</td>\n      <td>1.16</td>\n      <td>0.055556</td>\n      <td>0.000000</td>\n      <td>0.000000</td>\n    </tr>\n    <tr>\n      <th>19</th>\n      <td>journey</td>\n      <td>voyage</td>\n      <td>3.84</td>\n      <td>0.500000</td>\n      <td>6.825958</td>\n      <td>0.777715</td>\n    </tr>\n    <tr>\n      <th>20</th>\n      <td>lad</td>\n      <td>brother</td>\n      <td>1.66</td>\n      <td>0.200000</td>\n      <td>2.333545</td>\n      <td>0.255175</td>\n    </tr>\n    <tr>\n      <th>21</th>\n      <td>lad</td>\n      <td>wizard</td>\n      <td>0.42</td>\n      <td>0.200000</td>\n      <td>2.333545</td>\n      <td>0.255091</td>\n    </tr>\n    <tr>\n      <th>22</th>\n      <td>magician</td>\n      <td>wizard</td>\n      <td>3.5</td>\n      <td>1.000000</td>\n      <td>11.980693</td>\n      <td>1.000000</td>\n    </tr>\n    <tr>\n      <th>23</th>\n      <td>midday</td>\n      <td>noon</td>\n      <td>3.42</td>\n      <td>1.000000</td>\n      <td>11.064403</td>\n      <td>1.000000</td>\n    </tr>\n    <tr>\n      <th>24</th>\n      <td>monk</td>\n      <td>oracle</td>\n      <td>1.1</td>\n      <td>0.125000</td>\n      <td>2.333545</td>\n      <td>0.225652</td>\n    </tr>\n    <tr>\n      <th>25</th>\n      <td>monk</td>\n      <td>slave</td>\n      <td>0.55</td>\n      <td>0.200000</td>\n      <td>2.333545</td>\n      <td>0.254311</td>\n    </tr>\n    <tr>\n      <th>26</th>\n      <td>noon</td>\n      <td>string</td>\n      <td>0.08</td>\n      <td>0.083333</td>\n      <td>0.596229</td>\n      <td>0.066172</td>\n    </tr>\n    <tr>\n      <th>27</th>\n      <td>rooster</td>\n      <td>voyage</td>\n      <td>0.08</td>\n      <td>0.041667</td>\n      <td>0.000000</td>\n      <td>0.000000</td>\n    </tr>\n    <tr>\n      <th>28</th>\n      <td>shore</td>\n      <td>woodland</td>\n      <td>0.63</td>\n      <td>0.200000</td>\n      <td>1.290026</td>\n      <td>0.135583</td>\n    </tr>\n    <tr>\n      <th>29</th>\n      <td>tool</td>\n      <td>implement</td>\n      <td>1.68</td>\n      <td>0.500000</td>\n      <td>5.877389</td>\n      <td>0.947154</td>\n    </tr>\n  </tbody>\n</table>\n</div>"
     },
     "metadata": {},
     "output_type": "execute_result",
     "execution_count": 18
    }
   ],
   "source": [
    "measures=[\"path\",\"res\",\"lin\"]\n",
    "for measure in measures:\n",
    "    scores=[]\n",
    "\n",
    "    for i,triple in enumerate(mcdata):\n",
    "        scores.append(word_similarity(triple[0],triple[1],measure=measure))\n",
    "    df[measure]=scores\n",
    "    \n",
    "df"
   ]
  },
  {
   "cell_type": "markdown",
   "metadata": {},
   "source": [
    "We can use pandas functionality to produce scatter plots and examine the correlation between different variables"
   ]
  },
  {
   "cell_type": "code",
   "execution_count": 19,
   "metadata": {
    "pycharm": {
     "is_executing": false
    }
   },
   "outputs": [],
   "source": [
    "x=\"human similarity\"\n",
    "y=\"path\"\n",
    "def draw_scatter(df , x , y):\n",
    "\n",
    "    df[x]=df[x].map(float)\n",
    "    df[y]=df[y].map(float)\n",
    "    \n",
    "    df.plot.scatter(x,y)\n",
    "draw_scatter(df,x,y)"
   ]
  },
  {
   "cell_type": "markdown",
   "metadata": {},
   "source": [
    "### Exercise 3.2\n",
    "Generate scatter plots showing Resnik similarity against human similarity and Lin similarity against human similarity."
   ]
  },
  {
   "cell_type": "code",
   "execution_count": 20,
   "metadata": {
    "pycharm": {
     "is_executing": false
    }
   },
   "outputs": [
    {
     "data": {
      "text/plain": "<Figure size 432x288 with 1 Axes>",
      "image/png": "[encoded data removed]"
     },
     "metadata": {
      "needs_background": "light"
     },
     "output_type": "display_data"
    }
   ],
   "source": [
    "draw_scatter(df,x,\"res\")"
   ]
  },
  {
   "cell_type": "code",
   "execution_count": 21,
   "metadata": {
    "pycharm": {
     "is_executing": false
    }
   },
   "outputs": [
    {
     "data": {
      "text/plain": "<Figure size 432x288 with 1 Axes>",
      "image/png": "[encoded data removed]"
     },
     "metadata": {
      "needs_background": "light"
     },
     "output_type": "display_data"
    }
   ],
   "source": [
    "draw_scatter(df,x,\"lin\")"
   ]
  },
  {
   "cell_type": "markdown",
   "metadata": {},
   "source": [
    "The `DataFrame.corr()` method will compute the correlation for all pairs of columns with numeric values.  It is better to use Spearman's rank correlation coefficient than Pearson's product-moment correlation coefficient, since similarity scores are unlikely to be normally distributed."
   ]
  },
  {
   "cell_type": "code",
   "execution_count": 22,
   "metadata": {
    "pycharm": {
     "is_executing": false
    }
   },
   "outputs": [
    {
     "data": {
      "text/plain": "                  human similarity      path       res       lin\nhuman similarity          1.000000  0.722743  0.735945  0.753510\npath                      0.722743  1.000000  0.900648  0.945509\nres                       0.735945  0.900648  1.000000  0.962707\nlin                       0.753510  0.945509  0.962707  1.000000",
      "text/html": "<div>\n<style scoped>\n    .dataframe tbody tr th:only-of-type {\n        vertical-align: middle;\n    }\n\n    .dataframe tbody tr th {\n        vertical-align: top;\n    }\n\n    .dataframe thead th {\n        text-align: right;\n    }\n</style>\n<table border=\"1\" class=\"dataframe\">\n  <thead>\n    <tr style=\"text-align: right;\">\n      <th></th>\n      <th>human similarity</th>\n      <th>path</th>\n      <th>res</th>\n      <th>lin</th>\n    </tr>\n  </thead>\n  <tbody>\n    <tr>\n      <th>human similarity</th>\n      <td>1.000000</td>\n      <td>0.722743</td>\n      <td>0.735945</td>\n      <td>0.753510</td>\n    </tr>\n    <tr>\n      <th>path</th>\n      <td>0.722743</td>\n      <td>1.000000</td>\n      <td>0.900648</td>\n      <td>0.945509</td>\n    </tr>\n    <tr>\n      <th>res</th>\n      <td>0.735945</td>\n      <td>0.900648</td>\n      <td>1.000000</td>\n      <td>0.962707</td>\n    </tr>\n    <tr>\n      <th>lin</th>\n      <td>0.753510</td>\n      <td>0.945509</td>\n      <td>0.962707</td>\n      <td>1.000000</td>\n    </tr>\n  </tbody>\n</table>\n</div>"
     },
     "metadata": {},
     "output_type": "execute_result",
     "execution_count": 22
    }
   ],
   "source": [
    "df.corr(method='spearman')"
   ]
  },
  {
   "cell_type": "markdown",
   "metadata": {},
   "source": [
    "### Exercise 3.3\n",
    "* Looking at the scatter plots and the correlation coefficients, what do you conclude about the different WordNet similarity measures?\n",
    "* Do you have any reservations about your conclusions?"
   ]
  },
  {
   "cell_type": "code",
   "execution_count": 22,
   "metadata": {
    "pycharm": {
     "is_executing": false
    }
   },
   "outputs": [],
   "source": []
  }
 ],
 "metadata": {
  "kernelspec": {
   "display_name": "Python 3",
   "language": "python",
   "name": "python3"
  },
  "language_info": {
   "codemirror_mode": {
    "name": "ipython",
    "version": 3
   },
   "file_extension": ".py",
   "mimetype": "text/x-python",
   "name": "python",
   "nbconvert_exporter": "python",
   "pygments_lexer": "ipython3",
   "version": "3.7.3"
  },
  "pycharm": {
   "stem_cell": {
    "cell_type": "raw",
    "source": [],
    "metadata": {
     "collapsed": false
    }
   }
  }
 },
 "nbformat": 4,
 "nbformat_minor": 2
}